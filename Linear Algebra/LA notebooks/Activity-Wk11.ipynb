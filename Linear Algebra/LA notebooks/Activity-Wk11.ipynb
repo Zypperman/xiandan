{
 "cells": [
  {
   "cell_type": "markdown",
   "metadata": {},
   "source": [
    "# Activity-Wk11 : Objectives\n",
    "- Find eigenvalues and eigenvectors of given matrix\n",
    "- Verify properties of eigenvalues and eigenvectors\n",
    "- Perform eigenvalue decomposition of given matrix\n",
    "\n",
    "## 1. Find eigenvalues and eigenvectors of given matrix"
   ]
  },
  {
   "cell_type": "code",
   "execution_count": null,
   "metadata": {},
   "outputs": [],
   "source": [
    "A = matrix([[0,1],[-2,-3]])\n",
    "show(A)\n",
    "\n",
    "# Method 1 - using characteristic polynomial\n",
    "show(A.characteristic_polynomial()) \n",
    "\n",
    "# Solve above equation to find lambda (eigen values)\n",
    "lam = solve(x^2 + 3*x +2 == 0, x)\n",
    "l1 = lam[1].rhs()\n",
    "l2 = lam[0].rhs()\n",
    "print(\"Lambda 1:\",l1)\n",
    "print(\"Lambda 2:\",l2)\n",
    "\n",
    "# Eigenvectors\n",
    "A1 = A - l1 * identity_matrix(2)\n",
    "\n",
    "# First eigenvector lies in null space of A1\n",
    "eigvec1 = A1.right_kernel().basis()\n",
    "print(\"\")\n",
    "print(\"1st eigenvector\", eigvec1)\n",
    "\n",
    "A2 = A - l2 * identity_matrix(2)\n",
    "\n",
    "# Second eigenvector lies in null space of A2\n",
    "eigvec2 = A2.right_kernel().basis()\n",
    "print(\"Second eigenvector\", eigvec2)\n",
    "\n",
    "#Method 2 - using SageMath built-in methods\n",
    "# Can retrieve eigenvalues and eigenvectors from eigenmatrix_right\n",
    "Lambda, S = A.eigenmatrix_right()\n",
    "\n",
    "print(\"Eigenvalues: \")\n",
    "show(Lambda)\n",
    "\n",
    "print(\"Eigenvectors: \")\n",
    "show(S)"
   ]
  },
  {
   "cell_type": "markdown",
   "metadata": {},
   "source": [
    "## 2. Properties of eigenvalues and eigenvectors"
   ]
  },
  {
   "cell_type": "code",
   "execution_count": null,
   "metadata": {},
   "outputs": [],
   "source": [
    "# Sum of eigenvalues = trace(A)\n",
    "print(\"Sum of eigenvalues = trace(A) ?\", sum(A.eigenvalues()) == A.trace())"
   ]
  },
  {
   "cell_type": "code",
   "execution_count": null,
   "metadata": {},
   "outputs": [],
   "source": [
    "# Product of eigenvalues = det(A)\n",
    "print(\"Product of eigenvalues = det(A) ?\", product(A.eigenvalues()) == A.det())"
   ]
  },
  {
   "cell_type": "code",
   "execution_count": null,
   "metadata": {},
   "outputs": [],
   "source": [
    "# Eigen values of real, symmetric matrix are real\n",
    "Asym = matrix([[2,0],[0,2]])\n",
    "show(Asym)\n",
    "show(Asym.eigenvalues())\n",
    "print(\"Is lambda 1 real?\", Asym.eigenvalues()[0] in RR)\n",
    "print(\"Is lambda 2 real?\", Asym.eigenvalues()[1] in RR)"
   ]
  },
  {
   "cell_type": "code",
   "execution_count": null,
   "metadata": {},
   "outputs": [],
   "source": [
    "# Eigen values of real, antisymmetric matrix are imaginary\n",
    "# Antisymmetric matrix\n",
    "AS = A - A.T\n",
    "show(AS)\n",
    "show(AS.eigenvalues())\n",
    "print(\"Is lambda 1 real?\", AS.eigenvalues()[0] in CC)\n",
    "print(\"Is lambda 2 real?\", AS.eigenvalues()[1] in CC)"
   ]
  },
  {
   "cell_type": "code",
   "execution_count": null,
   "metadata": {},
   "outputs": [],
   "source": [
    "# Multiplication of a matrix by scalar => All eigenvalues multiplied by same scalar\n",
    "\n",
    "Anew = 5 * A\n",
    "show(Anew)\n",
    "\n",
    "Anew_lambda = vector(Anew.eigenvalues())\n",
    "show(Anew_lambda)\n",
    "\n",
    "A_lambda = A.eigenvalues()\n",
    "A_lambda5 = vector(A_lambda) * 5\n",
    "show(A_lambda5)\n",
    "\n",
    "print(\"Eigenvalues of Anew = 5 * Eigenvalues of A ?\", Anew_lambda == A_lambda5)"
   ]
  },
  {
   "cell_type": "code",
   "execution_count": null,
   "metadata": {},
   "outputs": [],
   "source": [
    "# Eigenvalues of A + alpha * I = lambda + alpha, where alpha is any scalar\n",
    "\n",
    "Aalpha = A + 5 * identity_matrix(2)\n",
    "show(Aalpha)\n",
    "\n",
    "print(\"lambda1 of Aalpha = lambda1 of A + 5 ?\", Aalpha.eigenvalues()[0] == A.eigenvalues()[0] + 5)\n",
    "print(\"lambda2 of Aalpha = lambda2 of A + 5 ?\", Aalpha.eigenvalues()[1] == A.eigenvalues()[1] + 5)"
   ]
  },
  {
   "cell_type": "code",
   "execution_count": null,
   "metadata": {},
   "outputs": [],
   "source": [
    "# Eigenvectors are linearly independent if eigenvectors are distinct\n",
    "\n",
    "print(\"Eigenvectors of A: \")\n",
    "show(S)\n",
    "\n",
    "print(\" Are eigen vectors linearly independent? \", S.rank() == 2)"
   ]
  },
  {
   "cell_type": "code",
   "execution_count": null,
   "metadata": {},
   "outputs": [],
   "source": [
    "# Real, symmetric matrices have orthogonal eigen vectors\n",
    "\n",
    "Lambda_sym, S_sym = Asym.eigenmatrix_right()\n",
    "\n",
    "print(\"Eigenvalues: \")\n",
    "show(Lambda_sym)\n",
    "\n",
    "print(\"Eigenvectors: \")\n",
    "show(S_sym)\n",
    "\n",
    "print(\"Check whether eigenvectors are orthogonal ?\", S_sym[0].dot_product(S_sym[1]) == 0)\n"
   ]
  },
  {
   "cell_type": "code",
   "execution_count": null,
   "metadata": {},
   "outputs": [],
   "source": [
    "# Eigenvectors of A + alpha * I = Eigenvectors of A, where alpha is any scalar\n",
    "\n",
    "Lambda_new, S_new = Aalpha.eigenmatrix_right()\n",
    "\n",
    "print(\"Eigenvectors: \")\n",
    "show(S_new)\n",
    "\n",
    "print(\" Eigenvectors of Aalpha = Eigenvectors of A ?\", S_new == S)"
   ]
  },
  {
   "cell_type": "markdown",
   "metadata": {},
   "source": [
    "## 3. Eigenvalue Decomposition"
   ]
  },
  {
   "cell_type": "code",
   "execution_count": null,
   "metadata": {},
   "outputs": [],
   "source": [
    "B = matrix(QQ, [[5,2,0],[2,5,0],[4,-1,4]])\n",
    "print(\"B:\")\n",
    "show(B)\n",
    "\n",
    "# Eigenvalues and eigenvectors\n",
    "\n",
    "Lambda_B, S_B = B.eigenmatrix_right()\n",
    "\n",
    "print(\"Eigenvectors: \")\n",
    "show(S_B)\n",
    "\n",
    "print(\"Eigenvalues: \")\n",
    "show(Lambda_B)\n",
    "\n",
    "S_Binv = S_B.inverse()\n",
    "print(\"S inverse:\")\n",
    "show(S_Binv)\n",
    "\n",
    "eigen_decom = S_B * Lambda_B * S_Binv\n",
    "\n",
    "print(\"Eigen value decomposition S * Lambda * S.inverse  = B ?\", B == eigen_decom)\n",
    "print(eigen_decom)"
   ]
  },
  {
   "cell_type": "code",
   "execution_count": null,
   "metadata": {},
   "outputs": [],
   "source": []
  }
 ],
 "metadata": {
  "kernelspec": {
   "display_name": "SageMath 9.1",
   "language": "sage",
   "name": "sagemath"
  },
  "language_info": {
   "codemirror_mode": {
    "name": "ipython",
    "version": 3
   },
   "file_extension": ".py",
   "mimetype": "text/x-python",
   "name": "python",
   "nbconvert_exporter": "python",
   "pygments_lexer": "ipython3",
   "version": "3.7.3"
  }
 },
 "nbformat": 4,
 "nbformat_minor": 4
}
