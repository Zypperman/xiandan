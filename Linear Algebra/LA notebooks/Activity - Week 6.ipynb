{
 "cells": [
  {
   "cell_type": "code",
   "execution_count": 75,
   "metadata": {},
   "outputs": [],
   "source": [
    "x, y = var('x, y')\n",
    "eq1 = (3*x + 4*y == 25/2)\n",
    "eq2 = (x^2 + y^2 == 25)"
   ]
  },
  {
   "cell_type": "code",
   "execution_count": 76,
   "metadata": {},
   "outputs": [
    {
     "data": {
      "text/html": [
       "<html><script type=\"math/tex; mode=display\">\\newcommand{\\Bold}[1]{\\mathbf{#1}}\\left[3 \\, x + 4 \\, y = \\left(\\frac{25}{2}\\right), x^{2} + y^{2} = 25\\right]</script></html>"
      ],
      "text/plain": [
       "[3*x + 4*y == (25/2), x^2 + y^2 == 25]"
      ]
     },
     "metadata": {},
     "output_type": "display_data"
    }
   ],
   "source": [
    "show([eq1, eq2])"
   ]
  },
  {
   "cell_type": "code",
   "execution_count": 77,
   "metadata": {},
   "outputs": [
    {
     "data": {
      "text/html": [
       "<html><script type=\"math/tex; mode=display\">\\newcommand{\\Bold}[1]{\\mathbf{#1}}\\left[\\left[x = -2 \\, \\sqrt{3} + \\frac{3}{2}, y = \\frac{3}{2} \\, \\sqrt{3} + 2\\right], \\left[x = 2 \\, \\sqrt{3} + \\frac{3}{2}, y = -\\frac{3}{2} \\, \\sqrt{3} + 2\\right]\\right]</script></html>"
      ],
      "text/plain": [
       "[[x == -2*sqrt(3) + 3/2, y == 3/2*sqrt(3) + 2], [x == 2*sqrt(3) + 3/2, y == -3/2*sqrt(3) + 2]]"
      ]
     },
     "metadata": {},
     "output_type": "display_data"
    },
    {
     "name": "stdout",
     "output_type": "stream",
     "text": [
      "[\n",
      "[x == -2*sqrt(3) + 3/2, y == 3/2*sqrt(3) + 2],\n",
      "[x == 2*sqrt(3) + 3/2, y == -3/2*sqrt(3) + 2]\n",
      "]\n"
     ]
    }
   ],
   "source": [
    "solutions = solve([eq1, eq2], [x, y])\n",
    "show(solutions)\n",
    "print(solutions)"
   ]
  },
  {
   "cell_type": "code",
   "execution_count": 78,
   "metadata": {},
   "outputs": [
    {
     "data": {
      "text/plain": [
       "[-1.96410161513775, 4.59807621135332]"
      ]
     },
     "execution_count": 78,
     "metadata": {},
     "output_type": "execute_result"
    }
   ],
   "source": [
    "[s.rhs().n() for s in solutions[0]]"
   ]
  },
  {
   "cell_type": "code",
   "execution_count": 79,
   "metadata": {},
   "outputs": [
    {
     "data": {
      "text/plain": [
       "[4.96410161513775, -0.598076211353316]"
      ]
     },
     "execution_count": 79,
     "metadata": {},
     "output_type": "execute_result"
    }
   ],
   "source": [
    "[s.rhs().n() for s in solutions[1]]"
   ]
  },
  {
   "cell_type": "code",
   "execution_count": 98,
   "metadata": {},
   "outputs": [
    {
     "data": {
      "text/html": [
       "<html><script type=\"math/tex; mode=display\">\\newcommand{\\Bold}[1]{\\mathbf{#1}}\\left(3,\\,4\\right)</script></html>"
      ],
      "text/plain": [
       "(3, 4)"
      ]
     },
     "metadata": {},
     "output_type": "display_data"
    }
   ],
   "source": [
    "a = vector([3, 4])\n",
    "show(a)"
   ]
  },
  {
   "cell_type": "code",
   "execution_count": 99,
   "metadata": {},
   "outputs": [
    {
     "data": {
      "text/html": [
       "<html><script type=\"math/tex; mode=display\">\\newcommand{\\Bold}[1]{\\mathbf{#1}}\\left(2 \\, \\sqrt{3} + \\frac{3}{2},\\,-\\frac{3}{2} \\, \\sqrt{3} + 2\\right)</script></html>"
      ],
      "text/plain": [
       "(2*sqrt(3) + 3/2, -3/2*sqrt(3) + 2)"
      ]
     },
     "metadata": {},
     "output_type": "display_data"
    }
   ],
   "source": [
    "b = vector([s.rhs() for s in solutions[1]])\n",
    "show(b)"
   ]
  },
  {
   "cell_type": "code",
   "execution_count": 97,
   "metadata": {},
   "outputs": [
    {
     "data": {
      "text/plain": [
       "25/2"
      ]
     },
     "execution_count": 97,
     "metadata": {},
     "output_type": "execute_result"
    }
   ],
   "source": [
    "a * b"
   ]
  },
  {
   "cell_type": "code",
   "execution_count": 100,
   "metadata": {},
   "outputs": [
    {
     "data": {
      "text/plain": [
       "5"
      ]
     },
     "execution_count": 100,
     "metadata": {},
     "output_type": "execute_result"
    }
   ],
   "source": [
    "a.norm()"
   ]
  },
  {
   "cell_type": "code",
   "execution_count": 105,
   "metadata": {},
   "outputs": [
    {
     "data": {
      "text/html": [
       "<html><script type=\"math/tex; mode=display\">\\newcommand{\\Bold}[1]{\\mathbf{#1}}\\frac{1}{2} \\, \\sqrt{{\\left(4 \\, \\sqrt{3} + 3\\right)}^{2} + {\\left(3 \\, \\sqrt{3} - 4\\right)}^{2}}</script></html>"
      ],
      "text/plain": [
       "1/2*sqrt((4*sqrt(3) + 3)^2 + (3*sqrt(3) - 4)^2)"
      ]
     },
     "metadata": {},
     "output_type": "display_data"
    }
   ],
   "source": [
    "b.norm().show()"
   ]
  },
  {
   "cell_type": "code",
   "execution_count": 106,
   "metadata": {},
   "outputs": [
    {
     "data": {
      "text/plain": [
       "5"
      ]
     },
     "execution_count": 106,
     "metadata": {},
     "output_type": "execute_result"
    }
   ],
   "source": [
    "b.norm().full_simplify()"
   ]
  },
  {
   "cell_type": "code",
   "execution_count": 116,
   "metadata": {},
   "outputs": [
    {
     "data": {
      "text/plain": [
       "1/3*pi"
      ]
     },
     "execution_count": 116,
     "metadata": {},
     "output_type": "execute_result"
    }
   ],
   "source": [
    "arccos(a*b / (a.norm()*b.norm().full_simplify()))"
   ]
  },
  {
   "cell_type": "code",
   "execution_count": 117,
   "metadata": {},
   "outputs": [
    {
     "data": {
      "text/plain": [
       "60"
      ]
     },
     "execution_count": 117,
     "metadata": {},
     "output_type": "execute_result"
    }
   ],
   "source": [
    "arccos(a*b / (a.norm()*b.norm().full_simplify())) * 180 / pi"
   ]
  },
  {
   "cell_type": "code",
   "execution_count": 113,
   "metadata": {},
   "outputs": [
    {
     "data": {
      "text/plain": [
       "1/3*pi"
      ]
     },
     "execution_count": 113,
     "metadata": {},
     "output_type": "execute_result"
    }
   ],
   "source": [
    "arccos(1/2)"
   ]
  },
  {
   "cell_type": "code",
   "execution_count": null,
   "metadata": {},
   "outputs": [],
   "source": []
  }
 ],
 "metadata": {
  "kernelspec": {
   "display_name": "SageMath 8.8",
   "language": "sage",
   "name": "sagemath"
  },
  "language_info": {
   "codemirror_mode": {
    "name": "ipython",
    "version": 2
   },
   "file_extension": ".py",
   "mimetype": "text/x-python",
   "name": "python",
   "nbconvert_exporter": "python",
   "pygments_lexer": "ipython2",
   "version": "2.7.15"
  }
 },
 "nbformat": 4,
 "nbformat_minor": 2
}
