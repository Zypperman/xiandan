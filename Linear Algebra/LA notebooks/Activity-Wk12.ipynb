{
 "cells": [
  {
   "cell_type": "markdown",
   "metadata": {},
   "source": [
    "# Activity-Wk12 : Objectives\n",
    "- Examples of Hermitian, Markov and Positive Definite matrices\n",
    "- Check whether given matrices are similar\n",
    "- Find the Jordan Normal Form of given matrix\n",
    "- Cholesky Decomposition of given matrix\n",
    "\n",
    "## 1. Examples of Hermitian, Markov and Positive Definite matrices"
   ]
  },
  {
   "cell_type": "code",
   "execution_count": null,
   "metadata": {},
   "outputs": [],
   "source": [
    "# Hermitian matrix\n",
    "H = matrix([[3, 3 - 2 * I],[3 + 2 * I, 2]])\n",
    "print(\"H:\")\n",
    "show(H)\n",
    "\n",
    "Lambda, S = H.eigenmatrix_right()\n",
    "\n",
    "# Eigenvalues are real\n",
    "print(\"Eigenvalues of H:\")\n",
    "show(Lambda)\n",
    "print(\"Eigenvectors of H:\")\n",
    "show(S)\n",
    "print(\"\")\n",
    "\n",
    "\n",
    "# Markov matrix\n",
    "M = matrix(QQ, [[1, 0.2, 0.2],[0,0.6,0.2],[0,0.2,0.6]])\n",
    "print(\"M:\")\n",
    "show(M)\n",
    "\n",
    "Lambda, S = M.eigenmatrix_right()\n",
    "\n",
    "#All eigenvalues >= 1, one of the eigenvalues is 1\n",
    "print(\"Eigenvalues of M:\")\n",
    "show(Lambda)\n",
    "print(\"Eigenvectors of M:\")\n",
    "show(S)\n",
    "print(\"\")\n",
    "\n",
    "#Positive definite matrix\n",
    "P = matrix([[1,2,3],[0,1,4],[0,0,1]])\n",
    "print(\"P:\")\n",
    "show(P)\n",
    "\n",
    "Lambda, S = P.eigenmatrix_right()\n",
    "\n",
    "# All eigenvalues > 0\n",
    "print(\"Eigenvalues of P:\")\n",
    "show(Lambda)\n",
    "print(\"Eigenvectors of P:\")\n",
    "show(S)\n",
    "print(\"\")\n"
   ]
  },
  {
   "cell_type": "markdown",
   "metadata": {},
   "source": [
    "## 2. Check whether given matrices are similar"
   ]
  },
  {
   "cell_type": "code",
   "execution_count": null,
   "metadata": {},
   "outputs": [],
   "source": [
    "A = matrix([[1,0],[1,0]])\n",
    "B = matrix([[0,0],[1,1]])\n",
    "\n",
    "# Check whether these matrices are similar\n",
    "print(\"Is A similar to B?\", A.is_similar(B))\n",
    "\n",
    "\n",
    "# Find matrix M such that A = M.inverse() * B * M\n",
    "b, M = A.is_similar(B, transformation = true)\n",
    "print(\"M:\")\n",
    "show(M)\n",
    "\n",
    "print(\"Is A = M.inv * B * M?\", A == M.inverse() * B * M)\n",
    "\n",
    "#Properties of similarity\n",
    "\n",
    "print(\"A and B have same characteristic polynomial?\", A.characteristic_polynomial() == B.characteristic_polynomial())\n",
    "print(\"A and B have same eigenvalues?\", A.eigenvalues() == B.eigenvalues())\n",
    "print(\"A and B have same determinant?\", A.det() == B.det())\n",
    "print(\"A and B have same rank?\", A.rank() == B.rank())\n",
    "print(\"A and B have same trace?\", A.trace() == B.trace())\n",
    "\n"
   ]
  },
  {
   "cell_type": "markdown",
   "metadata": {},
   "source": [
    "## 3. Jordan Normal Form of given matrix"
   ]
  },
  {
   "cell_type": "code",
   "execution_count": null,
   "metadata": {},
   "outputs": [],
   "source": [
    "A = matrix([[1,0,0,0],[0,1,0,0],[1,-1,1,0],[1,-1,1,2]])\n",
    "print(\"A:\")\n",
    "show(A)\n",
    "print(\"Eigen values of A:\")\n",
    "show(A.eigenvalues())\n",
    "\n",
    "Lambda, S = A.eigenmatrix_right()\n",
    "print(\"Eigen vectors of A:\")\n",
    "show(S)\n",
    "\n",
    "# A is not diagonalizable as S inverse is not defined(|S| = 0)\n",
    "print(\"Jordan Normal Form of A:\")\n",
    "show(A.jordan_form())"
   ]
  },
  {
   "cell_type": "markdown",
   "metadata": {},
   "source": [
    "## 4. Cholesky Decomposition"
   ]
  },
  {
   "cell_type": "code",
   "execution_count": null,
   "metadata": {},
   "outputs": [],
   "source": [
    "A = matrix([[1,1],[1,2]])\n",
    "print(\"A:\")\n",
    "show(A)\n",
    "\n",
    "# A.cholesky() gives the lower triangular matrix L\n",
    "L = A.cholesky()\n",
    "print(\"L:\")\n",
    "show(L)\n",
    "\n",
    "print(\"Is A = L * L.T?\", A == L * L.T )"
   ]
  },
  {
   "cell_type": "code",
   "execution_count": null,
   "metadata": {},
   "outputs": [],
   "source": []
  }
 ],
 "metadata": {
  "kernelspec": {
   "display_name": "SageMath 9.1",
   "language": "sage",
   "name": "sagemath"
  },
  "language_info": {
   "codemirror_mode": {
    "name": "ipython",
    "version": 3
   },
   "file_extension": ".py",
   "mimetype": "text/x-python",
   "name": "python",
   "nbconvert_exporter": "python",
   "pygments_lexer": "ipython3",
   "version": "3.7.3"
  }
 },
 "nbformat": 4,
 "nbformat_minor": 4
}
