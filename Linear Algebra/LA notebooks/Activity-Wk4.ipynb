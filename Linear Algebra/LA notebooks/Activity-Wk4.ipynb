{
 "cells": [
  {
   "cell_type": "markdown",
   "metadata": {},
   "source": [
    "# Activity-Wk4 : Objectives\n",
    "- Solve given system of linear equations using SageMath built-in method `solve()`.\n",
    "- Create augmented matrix for given equations.\n",
    "- Compute Row-Echelon-Form using elementary row operations\n",
    "- Usage of SageMath built-in method `matrix.LU()`\n",
    "- See pivot rows\n",
    "- Calculate rank\n",
    "- Compare determinants of given matrix and its REF\n",
    "\n",
    "\n",
    "\n",
    "# 1. Solve given equations using `solve()`"
   ]
  },
  {
   "cell_type": "code",
   "execution_count": null,
   "metadata": {},
   "outputs": [],
   "source": [
    "var('x, y, z')\n",
    "eq0 = x + 2*y + 2*z == 2 \n",
    "eq1 = 2*x + 4*y + 6*z == 8 \n",
    "eq2 = 3*x + 6*y + 8*z == 10 \n",
    "solve([eq0, eq1, eq2], x, y, z)"
   ]
  },
  {
   "cell_type": "markdown",
   "metadata": {},
   "source": [
    "# 2. Augmented Matrix for given equations"
   ]
  },
  {
   "cell_type": "code",
   "execution_count": null,
   "metadata": {
    "scrolled": false
   },
   "outputs": [],
   "source": [
    "# Method 1\n",
    "A = matrix(QQ,[[1, 2, 2, 2], [2, 4, 6, 8], [3, 6, 8, 10]])\n",
    "show(A)\n",
    "# Method 2 - Define coeffient matrix and constant vectors first and then use augment()\n",
    "Acoeff = matrix(QQ,[[1, 2, 2], [2, 4, 6], [3, 6, 8]])\n",
    "b = vector([2,8,10])\n",
    "A2 = Acoeff.augment(b, subdivide=true)\n",
    "show(A2)"
   ]
  },
  {
   "cell_type": "markdown",
   "metadata": {},
   "source": [
    "# 3. REF using elementary row operations\n",
    "Create a copy of $A$, because `add_multiple_of_row` modfies the matrix"
   ]
  },
  {
   "cell_type": "code",
   "execution_count": null,
   "metadata": {},
   "outputs": [],
   "source": [
    "Ae = copy(A)\n",
    "show(A)"
   ]
  },
  {
   "cell_type": "markdown",
   "metadata": {},
   "source": [
    "Row operations"
   ]
  },
  {
   "cell_type": "code",
   "execution_count": null,
   "metadata": {},
   "outputs": [],
   "source": [
    "# Row2 = -2Row1 + Row2\n",
    "Ae.add_multiple_of_row(1, 0, -2)\n",
    "show(Ae)"
   ]
  },
  {
   "cell_type": "code",
   "execution_count": null,
   "metadata": {},
   "outputs": [],
   "source": [
    "# Row3 = -3Row1 + Row3\n",
    "Ae.add_multiple_of_row(2, 0, -3)\n",
    "show(Ae)"
   ]
  },
  {
   "cell_type": "code",
   "execution_count": null,
   "metadata": {
    "scrolled": false
   },
   "outputs": [],
   "source": [
    "# Row3 = -Row2 + Row3\n",
    "Ae.add_multiple_of_row(2, 1, -1)\n",
    "show(Ae)"
   ]
  },
  {
   "cell_type": "markdown",
   "metadata": {},
   "source": [
    "# 4. REF using `LU()`\n",
    "All the row operations could have been done using the builtin  `LU()` method.  \n",
    "`LU()` stops when `U` is upper-triangular. Doesn't go any further.  \n",
    "It also swaps rows to ensure numerical stability.  \n",
    "Hence our answer is not the same as the one from `LU()`.  \n",
    "REF is not unique."
   ]
  },
  {
   "cell_type": "code",
   "execution_count": null,
   "metadata": {},
   "outputs": [],
   "source": [
    "# gives PLU decomposition of A\n",
    "show(A.LU())"
   ]
  },
  {
   "cell_type": "markdown",
   "metadata": {},
   "source": [
    "# 5. Pivot rows\n",
    "\n",
    "Return the pivot row positions for the matrix"
   ]
  },
  {
   "cell_type": "code",
   "execution_count": null,
   "metadata": {},
   "outputs": [],
   "source": [
    "#Pivot rows of A are first and second rows.\n",
    "Ae.pivot_rows()"
   ]
  },
  {
   "cell_type": "code",
   "execution_count": null,
   "metadata": {},
   "outputs": [],
   "source": [
    "transpose(Ae).pivot_rows()"
   ]
  },
  {
   "cell_type": "code",
   "execution_count": null,
   "metadata": {},
   "outputs": [],
   "source": [
    "# Gives pivot columns of A\n",
    "Ae.pivots()"
   ]
  },
  {
   "cell_type": "code",
   "execution_count": null,
   "metadata": {},
   "outputs": [],
   "source": [
    "# Gives non-pivot columns of A\n",
    "Ae.nonpivots()"
   ]
  },
  {
   "cell_type": "markdown",
   "metadata": {},
   "source": [
    "# 6. Rank of a matrix"
   ]
  },
  {
   "cell_type": "code",
   "execution_count": null,
   "metadata": {},
   "outputs": [],
   "source": [
    "Ae.rank()"
   ]
  },
  {
   "cell_type": "markdown",
   "metadata": {},
   "source": [
    "# 7. Compare determinants of given matrix and its REF"
   ]
  },
  {
   "cell_type": "code",
   "execution_count": null,
   "metadata": {},
   "outputs": [],
   "source": [
    "B =  matrix(QQ,[[1, 1, 5], [1, -1, 1], [3, -1, 9]])\n",
    "print(\"B:\")\n",
    "show(B)\n",
    "print(\"Determinant of B = \",B.det())\n",
    "Be = copy(B)\n",
    "Be.add_multiple_of_row(1, 0, -1)\n",
    "Be.add_multiple_of_row(2, 0, -3)\n",
    "Be.add_multiple_of_row(2, 1, -2)\n",
    "print(\"REF of B:\")\n",
    "show(Be)\n",
    "dB = Be[0,0]*Be[1,1]*Be[2,2]\n",
    "print(\"|B| = Product of diagonal elements of REF?\",B.det() == dB )"
   ]
  },
  {
   "cell_type": "code",
   "execution_count": null,
   "metadata": {},
   "outputs": [],
   "source": [
    "# Verify some properties\n",
    "A = random_matrix(ZZ, 4, 4)\n",
    "print(\"Is A.T * A = A * A.T? \", A.T * A == A * A.T)\n",
    "show(\"A\\n\", A, \"\\nA.T\\n\", A.T, \"\\nA.T * A\\n\", A.T * A, \"\\nA * A.T\\n\", A * A.T)"
   ]
  },
  {
   "cell_type": "code",
   "execution_count": null,
   "metadata": {},
   "outputs": [],
   "source": []
  }
 ],
 "metadata": {
  "kernelspec": {
   "display_name": "SageMath 9.1",
   "language": "sage",
   "name": "sagemath"
  },
  "language_info": {
   "codemirror_mode": {
    "name": "ipython",
    "version": 3
   },
   "file_extension": ".py",
   "mimetype": "text/x-python",
   "name": "python",
   "nbconvert_exporter": "python",
   "pygments_lexer": "ipython3",
   "version": "3.7.3"
  }
 },
 "nbformat": 4,
 "nbformat_minor": 2
}
