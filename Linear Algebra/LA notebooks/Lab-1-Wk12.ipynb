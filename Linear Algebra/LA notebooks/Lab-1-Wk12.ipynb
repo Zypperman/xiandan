{
 "cells": [
  {
   "cell_type": "markdown",
   "metadata": {},
   "source": [
    "# Eigenvalues using QR algorithm"
   ]
  },
  {
   "cell_type": "code",
   "execution_count": null,
   "metadata": {},
   "outputs": [],
   "source": [
    "# To print matrices and vectors with lower precision\n",
    "# n is the size of the matrix\n",
    "n = 10\n",
    "CC10 = ComplexField(prec = 15)\n",
    "MatPrint = MatrixSpace(CC10, n, n)\n",
    "VecPrint = VectorSpace(CC10, n)"
   ]
  },
  {
   "cell_type": "code",
   "execution_count": null,
   "metadata": {
    "scrolled": false
   },
   "outputs": [],
   "source": [
    "# Make a symmetric matrix (for real eigenvalues)\n",
    "A1 = random_matrix(RDF, n, n)\n",
    "A = A1 + A1.transpose()\n",
    "print(\"Starting from Matrix A:\")\n",
    "show(MatPrint(A))\n",
    "ev = A.eigenvalues(\"symmetric\")\n",
    "ev = vector(RR, sorted(ev))\n",
    "print(\"The eigenvalues of A:\")\n",
    "show(VecPrint(ev))\n",
    "\n",
    "for i in range(1000):\n",
    "    Q, R = A.QR()\n",
    "    A = R * Q\n",
    "    if (abs(A[1,0]) < 0.00001):\n",
    "        print(\"Coverged in\", i,  \"iterations\")\n",
    "        break\n",
    "    \n",
    "evQR0 = vector([A[i, i] for i in range(n)])\n",
    "evQR = vector(sorted(evQR0))\n",
    "print(\"The eigenvalues by QR Algorithm:\")\n",
    "show(VecPrint(evQR))\n",
    "\n",
    "diff = ev - evQR\n",
    "print(\"Relative difference = \", diff.norm()/ev.norm() * 100, \"%\")"
   ]
  },
  {
   "cell_type": "code",
   "execution_count": null,
   "metadata": {},
   "outputs": [],
   "source": []
  }
 ],
 "metadata": {
  "kernelspec": {
   "display_name": "SageMath 9.1",
   "language": "sage",
   "name": "sagemath"
  },
  "language_info": {
   "codemirror_mode": {
    "name": "ipython",
    "version": 3
   },
   "file_extension": ".py",
   "mimetype": "text/x-python",
   "name": "python",
   "nbconvert_exporter": "python",
   "pygments_lexer": "ipython3",
   "version": "3.7.3"
  }
 },
 "nbformat": 4,
 "nbformat_minor": 2
}
