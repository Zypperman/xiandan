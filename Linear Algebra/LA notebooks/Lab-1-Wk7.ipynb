{
 "cells": [
  {
   "cell_type": "markdown",
   "metadata": {},
   "source": [
    "# Perspective Correction\n",
    "## Theory\n",
    "Perspective correction asks the question what an image would look like, from a different camera angle. This is a basic idea in computer vision, and used extensively in video games, CG animation, special effects etc. This lab goes through the theory behind it, using an example. Work on it as a group, if possible.\n",
    "\n",
    "## Projective Transformations\n",
    "Learn more about the theory from  [Graphics Mill](https://www.graphicsmill.com/docs/gm/affine-and-projective-transformations.htm) or from [Mathematica StackExchange](https://mathematica.stackexchange.com/questions/121822/application-of-the-projection-matrix-removing-perspective-distortion)\n",
    "\n",
    "Here are the basic transformations:  \n",
    "![Transformations](https://i.stack.imgur.com/lkTbO.png \"Transformations\")\n",
    "\n",
    "Looking at just two of the important ones:  \n",
    "![Affine and Projective](https://www.graphicsmill.com/docs/gm/TransformationsDifference.png \"Affine and Projective\")\n",
    "\n",
    "The projective transformation is not linear because it does not preserve the parallelness. Remember: In linear transformation, the unit square gets transformed to a parallelogram, which means the parallel (opposite) sides stay parallel. We will have to use the concept of [homogenous coordinates](https://en.wikipedia.org/wiki/Homogeneous_coordinates), which allows us to use matrix multiplications for some non-linear transformations as well. "
   ]
  },
  {
   "cell_type": "markdown",
   "metadata": {},
   "source": [
    "When we try to correct the perspective, we need four points:  \n",
    "\n",
    "$$ \\boldsymbol{x_i} = \\{(x_0, y_0),\\,\\, (x_1, y_1),\\,\\, (x_2, y_2),\\,\\, (x_3, y_3)\\}$$\n",
    "\n",
    "Let's say they get projected to $ \\boldsymbol{b_i}$. Since the transformation is not linear, we cannot write \n",
    "\n",
    "$$\\boldsymbol{b_i} = \\boldsymbol{A}  \\boldsymbol{x_i}$$\n",
    "\n",
    "On the other hand, using homogenous coordinates (and reusing the same symbols), we write:\n",
    "\n",
    "$$ \\boldsymbol{x_i} = \\{(x_0, y_0, 1),\\,\\, (x_1, y_1, 1),\\,\\, (x_2, y_2, 1),\\,\\, (x_3, y_3, 1)\\}$$\n",
    "\n",
    "$ \\boldsymbol{b_i}$s also have three components, the third one being 1. \n",
    "\n",
    "Now we can write,\n",
    "\n",
    "$$\\boldsymbol{b_i} = \\boldsymbol{A}  \\boldsymbol{x_i}$$\n",
    "where \n",
    "\n",
    "$$ \\boldsymbol A = \\left[\\begin{array}{rrr}\n",
    "a_{00} & a_{01} & b_{02} \\\\\n",
    "a_{10} & a_{11} & b_{12} \\\\\n",
    "c_{20} & c_{21} & 1\n",
    "\\end{array}\\right] $$\n",
    "\n",
    "The $2\\times 2$ submatrix $a_{ij}$ is a rotation. The last column ($b_{02}$ and $b_{12}$) represents a translation, and the last row ($c_{20}$ and  $c_{21}$) a projection.  "
   ]
  },
  {
   "cell_type": "code",
   "execution_count": null,
   "metadata": {},
   "outputs": [],
   "source": [
    "vars = var('a00, a01, b02, a10, a11, b12, c20, c21')\n",
    "A = matrix(SR, 3, 3, [[a00, a01, b02], [a10, a11, b12], [c20, c21, 1]])\n",
    "show(A)"
   ]
  },
  {
   "cell_type": "markdown",
   "metadata": {},
   "source": [
    "### Rotation\n",
    "Let's take a specific example: a $\\angle{45}^\\circ$ rotation. This applies to the original corners of a square or rectangular shape in the image."
   ]
  },
  {
   "cell_type": "code",
   "execution_count": null,
   "metadata": {
    "scrolled": true
   },
   "outputs": [],
   "source": [
    "A1 = matrix(SR, 3, 3, [[1/sqrt(2), -1/sqrt(2), 0], [1/sqrt(2), 1/sqrt(2), 0], [0, 0, 1]])\n",
    "show(A1)"
   ]
  },
  {
   "cell_type": "code",
   "execution_count": null,
   "metadata": {},
   "outputs": [],
   "source": [
    "# The four corners of a square\n",
    "x0 = vector(QQ, [1, 1, 1])\n",
    "x1 = vector(QQ, [5, 1, 1])\n",
    "x2 = vector(QQ, [5, 5, 1])\n",
    "x3 = vector(QQ, [1, 5, 1])\n",
    "xList = [x0, x1, x2, x3]\n",
    "show(xList)"
   ]
  },
  {
   "cell_type": "code",
   "execution_count": null,
   "metadata": {},
   "outputs": [],
   "source": [
    "# Define a function to make the plotting easy.\n",
    "# Scale by the third coordinate: Property of homogeneous coordinates\n",
    "def plotList(v3List, color):\n",
    "    v2List = [vector([v3[0]/v3[2], v3[1]/v3[2]]) for v3 in v3List]\n",
    "    return polygon2d(v2List, color = color)\n",
    "\n",
    "plotList(xList, 'red')"
   ]
  },
  {
   "cell_type": "code",
   "execution_count": null,
   "metadata": {
    "scrolled": false
   },
   "outputs": [],
   "source": [
    "# See the 45 degree rotration\n",
    "b0 = A1 * x0\n",
    "b1 = A1 * x1\n",
    "b2 = A1 * x2\n",
    "b3 = A1 * x3\n",
    "bList = [b0, b1, b2, b3]\n",
    "show(bList)\n",
    "# Better way of creating bList: Using List Comprehension\n",
    "bList = [A1 * x for x in xList]\n",
    "show(bList)\n",
    "plotList(bList, color='green') "
   ]
  },
  {
   "cell_type": "markdown",
   "metadata": {},
   "source": [
    "### Rotation + Translation\n",
    "Adding $2$ and $1$ to the $x$ and $y$ coordinates. "
   ]
  },
  {
   "cell_type": "code",
   "execution_count": null,
   "metadata": {
    "scrolled": false
   },
   "outputs": [],
   "source": [
    "# Add a translation to the rotation\n",
    "A2 = matrix(SR, 3, 3, [[1/sqrt(2), -1/sqrt(2), 2], [1/sqrt(2), 1/sqrt(2), 1], [0, 0, 1]])\n",
    "show(A2)"
   ]
  },
  {
   "cell_type": "code",
   "execution_count": null,
   "metadata": {
    "scrolled": false
   },
   "outputs": [],
   "source": [
    "# Rotated and translated square\n",
    "bList = [A2 * x for x in xList]\n",
    "show(bList)\n",
    "plotList(bList, color='green')"
   ]
  },
  {
   "cell_type": "markdown",
   "metadata": {},
   "source": [
    "### Rotation, Translation & Projection\n",
    "Add a projective operation as well. Now the property of homegeneous coordinates will come into play: Scaled coordinates represent the same point. We scale the $\\boldsymbol{b}$ vectors by its last coordinate to make it unity."
   ]
  },
  {
   "cell_type": "code",
   "execution_count": null,
   "metadata": {
    "scrolled": true
   },
   "outputs": [],
   "source": [
    "# Add a projection to it\n",
    "A3 = matrix(SR, 3, 3, [[1/sqrt(2), -1/sqrt(2), 2], [1/sqrt(2), 1/sqrt(2), 1], [1/2, 3/2, 1]])\n",
    "show(A3)"
   ]
  },
  {
   "cell_type": "code",
   "execution_count": null,
   "metadata": {},
   "outputs": [],
   "source": [
    "bList = [A3 * x for x in xList]\n",
    "show(bList)\n",
    "plotList(bList, color='green')"
   ]
  },
  {
   "cell_type": "markdown",
   "metadata": {},
   "source": [
    "## Solving for the Matrix\n",
    "We have four equations:  \n",
    "\n",
    "$$ \\boldsymbol{A_3 x_i =  b_i} \\quad i=0,1,2,3$$\n",
    "\n",
    "Each one is really three equations. \n",
    "\n",
    "When we actually do perspective correction, we know $\\boldsymbol {b_i}$ and $\\boldsymbol {x_i}$. But we don't know the elements of $\\boldsymbol{A_3}$. \n",
    "\n",
    "$$ \\boldsymbol {A_3} = \\left(\\begin{array}{rrr}\n",
    "a_{00} & a_{01} & b_{02} \\\\\n",
    "a_{10} & a_{11} & b_{12} \\\\\n",
    "c_{20} & c_{21} & 1\n",
    "\\end{array}\\right) $$\n",
    "\n",
    "Let's write down the eight equations, and solve them, the \"kindergarten\" way.  \n",
    "*** Why only eight equations? Why not nine? ***"
   ]
  },
  {
   "cell_type": "code",
   "execution_count": null,
   "metadata": {},
   "outputs": [],
   "source": [
    "# Try to solve for A: The \"kindergarten\" way!\n",
    "eqList = [[row == bList[j][i] for i, row in enumerate(A*x)] for j, x in enumerate(xList)]\n",
    "eqns = flatten(eqList)\n",
    "shown = [show(eq) for eq in eqns]"
   ]
  },
  {
   "cell_type": "code",
   "execution_count": null,
   "metadata": {},
   "outputs": [],
   "source": [
    "# Solve the equations\n",
    "soln = solve(eqns, vars)\n",
    "show(A)\n",
    "shown = [[show(s) for s in sol] for sol in soln]\n",
    "print(\"The original matrix A3 is:\")\n",
    "show(A3)"
   ]
  },
  {
   "cell_type": "code",
   "execution_count": null,
   "metadata": {},
   "outputs": [],
   "source": [
    "# Solve again, after scaling by the third element (because b's use homogenous coordinates)\n",
    "# Scaling of a coordinate does not change its location\n",
    "eqList = [[row == bList[j][i]/bList[j][2] for i, row in enumerate(A*x)] for j, x in enumerate(xList)]\n",
    "eqns = flatten(eqList)\n",
    "shown = [show(eq) for eq in eqns]\n",
    "soln1 = solve(eqns, vars)\n",
    "show(A)\n",
    "shown = [[show(s) for s in sol] for sol in soln1]\n",
    "show(A3)\n",
    "print(\"Is the scaled solution the same as unscaled one?\", soln == soln1)"
   ]
  },
  {
   "cell_type": "code",
   "execution_count": null,
   "metadata": {},
   "outputs": [],
   "source": [
    "# Another function to extract the matrix form from a system of linear equations\n",
    "def getMatrixForm(eqList, vars):\n",
    "    A = matrix([[eqn.lhs().coefficient(v) for v in vars] for eqn in eqList])\n",
    "    b = matrix([[eqn.rhs()] for eqn in eqList])\n",
    "    return (A, b)"
   ]
  },
  {
   "cell_type": "code",
   "execution_count": null,
   "metadata": {},
   "outputs": [],
   "source": [
    "show(getMatrixForm(eqns, vars))"
   ]
  },
  {
   "cell_type": "markdown",
   "metadata": {},
   "source": [
    "## Solving for the Matrix: Our Way\n",
    "Since we have four equations:  \n",
    "\n",
    "$$ \\boldsymbol{A_3  x_i =  b_i} \\quad i=0,1,2,3$$\n",
    "\n",
    "we can combine them into one matrix equation. Place the four vectors $\\boldsymbol {x_i}$ in a matrix $\\boldsymbol X$ and the four vectors $\\boldsymbol {b_i}$ in another matrix $\\boldsymbol B$. They are both $3\\times 4$ matrices now.\n",
    "\n",
    "$$\\boldsymbol{AX = B} $$\n",
    "\n",
    "If we could find an \"inverse\" for $X$, we are done. But $X$ is not square, but has 3 rows and 4 columns $\\implies$ wide, full-rank matrix. Therefore it has a right-inverse.\n",
    "\n",
    "Knowing that $XX^T$ is a square, full-rank matrix. So we can write:\n",
    "\n",
    "$$\\boldsymbol{\\left(XX^T\\right)\\left(XX^T\\right)^{-1} = I}$$\n",
    "\n",
    "Regrouping:\n",
    "$$\\boldsymbol{X\\left(X^T\\left(XX^T\\right)^{-1}\\right) = I}$$\n",
    "\n",
    "Therefore, we can treat $\\boldsymbol{X^T\\left(XX^T\\right)^{-1}}$ as $\\boldsymbol{X^{-1}_\\text{Right}}$.\n",
    "\n",
    "$$\\boldsymbol{ A_4 = B\\, X^T\\left(XX^T\\right)^{-1}}$$\n",
    "\n",
    "$\\boldsymbol{A_4}$ is the solution."
   ]
  },
  {
   "cell_type": "code",
   "execution_count": null,
   "metadata": {},
   "outputs": [],
   "source": [
    "# Solve for A in the matrix way\n",
    "X = matrix(xList).transpose()\n",
    "B = matrix(bList).transpose()\n",
    "show(\"A3 = \", A3, \" X =\", X, \" B = \", B)\n",
    "print (\"Is A3 * X == B? \", A3 * X == B)"
   ]
  },
  {
   "cell_type": "code",
   "execution_count": null,
   "metadata": {},
   "outputs": [],
   "source": [
    "# Get the right inverse of X\n",
    "A4 = B * X.transpose() * ( X * X.transpose() ).inverse()\n",
    "show(A4)\n",
    "print (\"Is A4 (matrix way) the same as A3 (kindergarten)?\", A4 == A3)"
   ]
  },
  {
   "cell_type": "markdown",
   "metadata": {},
   "source": [
    "## Discussion\n",
    "Remember, $\\boldsymbol b_i$s are the points on the image and $\\boldsymbol x_i$ are the points after taking out the distortion due to the camera prespective. Since we wrote $ \\boldsymbol{A}\\, \\boldsymbol x_i = \\boldsymbol b_i \\quad i=0,1,2,3$, what we really need is $ \\boldsymbol{A}^{-1}$.\n",
    "\n",
    "What if we wrote the equation differently?\n",
    "\n",
    "$$ \\boldsymbol{C}\\, \\boldsymbol b_i = \\boldsymbol x_i \\quad i=0,1,2,3$$\n",
    "\n",
    "In other words, $\\boldsymbol{C}$ is the matrix that will take us from a distorted image to the perspective-rectified image. Clearly, $\\boldsymbol{C} = \\boldsymbol{A}^{-1}$.\n",
    "\n",
    "In the matrix way of solving it, we can write:\n",
    "\n",
    "$$ \\boldsymbol{CB = X} $$\n",
    "\n",
    "$$ \\boldsymbol{C = X\\,B^{-1} = X\\,B^T\\,(BB^T)^{-1}}$$\n",
    "\n",
    "Let's verify if $C=A_4^{-1}$."
   ]
  },
  {
   "cell_type": "code",
   "execution_count": null,
   "metadata": {},
   "outputs": [],
   "source": [
    "C = X * B.transpose() * ( B * B.transpose() ).inverse()\n",
    "A4Inv = A4.inverse()\n",
    "C = C.n(digits=4)\n",
    "show(\"C = \", C)\n",
    "A4Inv = A4Inv.n(digits=4)\n",
    "show(\"$A4 inverse = \", A4Inv)\n",
    "\n",
    "print (\"Is C == A4Inv? \", C == A4Inv)\n",
    "print (\"Relative size of the difference: [C-A4Inv).norm() / C.norm()] = \", \\\n",
    "( (C-A4Inv).norm()/C.norm()*100 ).n(digits=2), \"%\")"
   ]
  },
  {
   "cell_type": "code",
   "execution_count": null,
   "metadata": {},
   "outputs": [],
   "source": [
    "# Redo it by ensuring that the last diagonal element is 1\n",
    "C = X * B.transpose() * ( B * B.transpose() ).inverse()\n",
    "C = C / C[2,2]\n",
    "C = C.n(digits=4)\n",
    "show(\"C = \", C)\n",
    "show(\"$A4 inverse = \", A4Inv)\n",
    "print (\"Relative size of the difference: [C-A4Inv).norm() / C.norm()] = \", \\\n",
    "( (C-A4Inv).norm()/C.norm()*100 ).n(digits=2), \"%\")"
   ]
  },
  {
   "cell_type": "markdown",
   "metadata": {},
   "source": [
    "## Last Words\n",
    "What do we do once we have $ \\boldsymbol{A}^{-1}$ or $ \\boldsymbol{C}$?  \n",
    "\n",
    "We take the photo to be corrected, identify the location of each pixel as a vector $(x, y, 1)$, transform it to $(x', y', 1)$, and assign the same image value to it. In other words, the RGB value that was at $(x, y)$ of the original image will get assigned to the pixel at $(x', y')$ in the new image. Obviously, some distortions may happen, and we may have to apply advanced techniques like anti-aliasing or (spline) smoothing."
   ]
  },
  {
   "cell_type": "code",
   "execution_count": null,
   "metadata": {},
   "outputs": [],
   "source": [
    "# x1List contains the x' (perspective-corrected) vectors\n",
    "x1List = [C * b for b in bList]\n",
    "plotList(x1List, color='blue')"
   ]
  }
 ],
 "metadata": {
  "kernelspec": {
   "display_name": "SageMath 9.1",
   "language": "sage",
   "name": "sagemath"
  },
  "language_info": {
   "codemirror_mode": {
    "name": "ipython",
    "version": 3
   },
   "file_extension": ".py",
   "mimetype": "text/x-python",
   "name": "python",
   "nbconvert_exporter": "python",
   "pygments_lexer": "ipython3",
   "version": "3.7.3"
  }
 },
 "nbformat": 4,
 "nbformat_minor": 2
}
