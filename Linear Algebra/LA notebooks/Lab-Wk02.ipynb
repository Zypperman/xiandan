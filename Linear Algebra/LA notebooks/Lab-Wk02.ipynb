{
 "cells": [
  {
   "cell_type": "markdown",
   "metadata": {},
   "source": [
    "## Lab 2 - Image Morphing\n",
    "- An image can be read as a matrix.\n",
    "- We will need to __import matplotlib library__ to read the image and to plot it.\n",
    "- Morphed image will be a matrix of the form, `M = (1 - alpha) * image1 + alpha * image2`."
   ]
  },
  {
   "cell_type": "code",
   "execution_count": null,
   "metadata": {},
   "outputs": [],
   "source": [
    "# import the required libraries\n",
    "import matplotlib\n",
    "import matplotlib.pyplot as plt\n",
    "\n",
    "# read the image 1\n",
    "img1 = matplotlib.image.imread('Bush.png')\n",
    "print(type(img1))\n",
    "print(\"Img1 shape: \", img1.shape)\n",
    "\n",
    "# read the image 2\n",
    "img2 = matplotlib.image.imread('Arnold.png')\n",
    "print(type(img2.shape))\n",
    "print(\"Img2 shape: \", img2.shape)\n",
    "\n",
    "print(\"Image 1 dtype:\", img1.dtype)\n",
    "print(\"Image 2 dtype:\", img2.dtype)\n",
    "\n",
    "imgplot1 = plt.imshow(img1)"
   ]
  },
  {
   "cell_type": "code",
   "execution_count": null,
   "metadata": {},
   "outputs": [],
   "source": [
    "imgplot2 = plt.imshow(img2)"
   ]
  },
  {
   "cell_type": "code",
   "execution_count": null,
   "metadata": {},
   "outputs": [],
   "source": [
    "alpha = 0.5\n",
    "# We can adjust alpha to see how the morphed image changes\n",
    "M = (1 - alpha) * img1 + alpha * img2\n",
    "\n",
    "print(\"M shape: \", M.shape)\n",
    "print(\"M dtype: \", M.dtype)"
   ]
  },
  {
   "cell_type": "code",
   "execution_count": null,
   "metadata": {},
   "outputs": [],
   "source": [
    "morphed = plt.imshow(M)"
   ]
  },
  {
   "cell_type": "markdown",
   "metadata": {},
   "source": [
    "#### Resources\n",
    "- https://matplotlib.org/users/image_tutorial.html"
   ]
  }
 ],
 "metadata": {
  "kernelspec": {
   "display_name": "SageMath 9.1",
   "language": "sage",
   "name": "sagemath"
  },
  "language_info": {
   "codemirror_mode": {
    "name": "ipython",
    "version": 3
   },
   "file_extension": ".py",
   "mimetype": "text/x-python",
   "name": "python",
   "nbconvert_exporter": "python",
   "pygments_lexer": "ipython3",
   "version": "3.7.3"
  }
 },
 "nbformat": 4,
 "nbformat_minor": 1
}
