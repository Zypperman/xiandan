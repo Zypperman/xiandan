{
 "cells": [
  {
   "cell_type": "markdown",
   "metadata": {},
   "source": [
    "# Activity-Wk5 : Objectives\n",
    "- Compute inverse using Gauss-Jordan on the augmented matrix\n",
    "- Compare against direct inverse\n",
    "- Compare RREF computed using elementary operations against direct RREF using `matrix.rref()`\n",
    "- Solve using Gauss-Jordan\n",
    "- Verify Cramer’s Rule\n",
    "- Try various shapes (square, tall and wide), full-rank and rank-deficient matrices and their RREF.\n",
    "\n",
    "## 1. Compute inverse using Gauss-Jordan"
   ]
  },
  {
   "cell_type": "code",
   "execution_count": null,
   "metadata": {},
   "outputs": [],
   "source": [
    "A = matrix(QQ,[[1,2,3],[3,3,2],[2,4,0]])\n",
    "# Create 3x3 identity matrix\n",
    "b = identity_matrix(3)\n",
    "\n",
    "# Create augmented matrix\n",
    "Ab = A.augment(b, subdivide = true)\n",
    "pretty_print(\"Augmented matrix:\", Ab)\n",
    "\n",
    "Ab1 = copy(Ab)\n",
    "\n",
    "# Apply elemetary transformations to compute RREF\n",
    "Ab1.add_multiple_of_row(1, 0, -3)\n",
    "Ab1.add_multiple_of_row(2, 0, -2)\n",
    "show(Ab1)\n",
    "\n",
    "Ab1.rescale_row(1, -1/3)\n",
    "Ab1.rescale_row(2, -1/6)\n",
    "show(Ab1)\n",
    "\n",
    "Ab1.add_multiple_of_row(1, 2, -7/3)\n",
    "Ab1.add_multiple_of_row(0,1,-2)\n",
    "Ab1.add_multiple_of_row(0,2,-3)\n",
    "show(Ab1)\n",
    "\n",
    "Ainv = Ab1.submatrix(0,3,3,3)\n",
    "pretty_print(\"Inverse of matrix A is:\", Ainv)"
   ]
  },
  {
   "cell_type": "markdown",
   "metadata": {},
   "source": [
    "\n",
    "## 2. Compare against direct inverse"
   ]
  },
  {
   "cell_type": "code",
   "execution_count": null,
   "metadata": {},
   "outputs": [],
   "source": [
    "pretty_print(\"Inverse of matrix A using built-in method:\", A.inverse())\n",
    "print(\"Is direct inverse same as the one computed using Gauss-Jordan?\", Ainv == A.inverse())"
   ]
  },
  {
   "cell_type": "markdown",
   "metadata": {},
   "source": [
    "## 3. Built-in method to compute RREF"
   ]
  },
  {
   "cell_type": "code",
   "execution_count": null,
   "metadata": {},
   "outputs": [],
   "source": [
    "# RREF computed using elementary operations (from 1)\n",
    "Arref = Ab1.submatrix(0,0,3,3)\n",
    "show(Arref)\n",
    "# Direct RREF\n",
    "show(A.rref())\n",
    "# Compare against direct RREF\n",
    "print(\"Is direct RREF same as the one computed using row operations?\", Arref == A.rref())"
   ]
  },
  {
   "cell_type": "markdown",
   "metadata": {},
   "source": [
    "## 4. Solve equations using Gauss Jordan"
   ]
  },
  {
   "cell_type": "code",
   "execution_count": null,
   "metadata": {},
   "outputs": [],
   "source": [
    "var('x, y, z')\n",
    "eq0 = x - 3*y + 2*z == -1 \n",
    "eq1 = 2*x + 3*y + 4*z == 7 \n",
    "eq2 = -4*x + 3*y + 6*z == 9"
   ]
  },
  {
   "cell_type": "code",
   "execution_count": null,
   "metadata": {},
   "outputs": [],
   "source": [
    "# Define augmented matrix\n",
    "A = matrix(QQ, [[1,-3,2,-1],[2,3,4,7],[-4,3,6,9]])\n",
    "show(A)\n",
    "\n",
    "# Apply elementary row operations\n",
    "A4 = copy(A)\n",
    "A4.add_multiple_of_row(1,0,-2)\n",
    "A4.add_multiple_of_row(2,0,4)\n",
    "A4.add_multiple_of_row(2,1,1)\n",
    "show(A4)\n",
    "\n",
    "A4.rescale_row(2, 1/14)\n",
    "A4.rescale_row(1, 1/9)\n",
    "show(A4)\n",
    "\n",
    "A4.add_multiple_of_row(0,1,3)\n",
    "A4.add_multiple_of_row(0,2,-2)\n",
    "show(A4)\n",
    "\n",
    "print(\"x = \", A4[0,3])\n",
    "print(\"\")\n",
    "print(\"y = \", A4[1,3])\n",
    "print(\"\")\n",
    "print(\"z = \", A4[2,3])\n",
    "\n",
    "# Solution of equations using solve()\n",
    "solve([eq0, eq1, eq2], x, y, z)\n"
   ]
  },
  {
   "cell_type": "markdown",
   "metadata": {},
   "source": [
    "## 5. Verify Cramer's rule"
   ]
  },
  {
   "cell_type": "code",
   "execution_count": null,
   "metadata": {},
   "outputs": [],
   "source": [
    "# Solve equations in (4) using Cramer's rule\n",
    "# Coefficient matrix\n",
    "A = matrix(QQ, [[1, -3, 2], [2, 3, 4], [-4, 3, 6]])\n",
    "pretty_print(\"Co-efficient matrix A :\", A)\n",
    "detA = A.det()\n",
    "\n",
    "# Solve for 'x'\n",
    "X = matrix(QQ, [[-1,-3,2], [7,3,4], [9,3,6]])\n",
    "pretty_print(\"X-matrix:\", X)\n",
    "\n",
    "# Applying Cramer's rule to solve for 'x'\n",
    "print(\"x = \", X.det()/detA)\n",
    "\n",
    "# Solve for 'y'\n",
    "Y = matrix(QQ, [[1,-1,2 ], [2,7,4], [-4,9,6]])\n",
    "pretty_print(\"Y matrix:\", Y)\n",
    "\n",
    "# Applying Cramer's rule to solve for 'y'\n",
    "print(\"y = \", Y.det()/detA)\n",
    "\n",
    "# Solve for 'z'\n",
    "Z = matrix(QQ, [[1,-3,-1], [2,3,7], [-4,3,9]])\n",
    "pretty_print(\"Z matrix:\", Z)\n",
    "\n",
    "# Applying Cramer's rule to solve for 'z'\n",
    "print(\"z = \", Z.det()/detA)"
   ]
  },
  {
   "cell_type": "markdown",
   "metadata": {},
   "source": [
    "## 6. Try various shapes (square, tall and wide), full-rank and rank-deficient matrices and their RREF"
   ]
  },
  {
   "cell_type": "code",
   "execution_count": null,
   "metadata": {},
   "outputs": [],
   "source": [
    "# Full rank square matrix\n",
    "A_sq_full_rank = matrix(QQ, [[1,4,5],[3,5,2],[6,1,2]])\n",
    "pretty_print(\"Square matrix A:\", A_sq_full_rank)\n",
    "pretty_print(\"RREF of A:\", A_sq_full_rank.rref())\n",
    "print(\"Rank of A = \", A_sq_full_rank.rank())"
   ]
  },
  {
   "cell_type": "code",
   "execution_count": null,
   "metadata": {},
   "outputs": [],
   "source": [
    "# Rank deficient square matrix\n",
    "B_sq_rank_def = matrix(QQ, [[1,3,9],[2,4,-3],[4,8,-6]])\n",
    "pretty_print(\"Square matrix B:\", B_sq_rank_def)\n",
    "pretty_print(\"RREF of B:\", B_sq_rank_def.rref())\n",
    "print(\"Rank of B = \", B_sq_rank_def.rank())"
   ]
  },
  {
   "cell_type": "code",
   "execution_count": null,
   "metadata": {},
   "outputs": [],
   "source": [
    "# Full rank tall matrix\n",
    "C_tall_full_rank = matrix(QQ, [[1,2],[5,9],[-7,0],[5,7]])\n",
    "pretty_print(\"Tall matrix C:\", C_tall_full_rank)\n",
    "pretty_print(\"RREF of C:\", C_tall_full_rank.rref())\n",
    "print(\"Rank of C = \", C_tall_full_rank.rank())"
   ]
  },
  {
   "cell_type": "code",
   "execution_count": null,
   "metadata": {},
   "outputs": [],
   "source": [
    "# Rank deficient tall matrix\n",
    "D_tall_rank_def = matrix(QQ, [[1,2,4],[2,-5,-10],[0,3,6],[-1,-3,-6],[2,16,32],[1,0,0]])\n",
    "pretty_print(\"Tall matrix D:\", D_tall_rank_def)\n",
    "pretty_print(\"RREF of D:\", D_tall_rank_def.rref())\n",
    "print(\"Rank of D = \", D_tall_rank_def.rank())"
   ]
  },
  {
   "cell_type": "code",
   "execution_count": null,
   "metadata": {},
   "outputs": [],
   "source": [
    "# Rank deficient wide matrix\n",
    "F_wide_rank_def = matrix(QQ, [[1,0,3,4,1,2],[2,5,-1,7,3,8],[4,10,-2,14,6,16]])\n",
    "pretty_print(\"Wide matrix F:\", F_wide_rank_def)\n",
    "pretty_print(\"RREF of F:\", F_wide_rank_def.rref())\n",
    "print(\"Rank of F = \", F_wide_rank_def.rank())"
   ]
  },
  {
   "cell_type": "code",
   "execution_count": null,
   "metadata": {},
   "outputs": [],
   "source": [
    "# Full rank wide matrix\n",
    "E_wide_full_rank = matrix(QQ, [[1,0,3,4],[2,5,-1,7]])\n",
    "pretty_print(\"Wide matrix E:\", E_wide_full_rank)\n",
    "pretty_print(\"RREF of E:\", E_wide_full_rank.rref())\n",
    "print(\"Rank of E = \", E_wide_full_rank.rank())"
   ]
  },
  {
   "cell_type": "markdown",
   "metadata": {},
   "source": [
    "## For examples on the slides"
   ]
  },
  {
   "cell_type": "code",
   "execution_count": null,
   "metadata": {},
   "outputs": [],
   "source": [
    "W = matrix([[1,1,1,1,6],[0,2,2,1,9],[-1,1,1,0,3]])\n",
    "print(W.echelon_form())\n",
    "print(W.rref())"
   ]
  },
  {
   "cell_type": "code",
   "execution_count": null,
   "metadata": {},
   "outputs": [],
   "source": [
    "W = matrix([[1,1,1,6],[2,2,1,9]])\n",
    "print(W.LU())\n",
    "print(W.rref())\n",
    "W"
   ]
  },
  {
   "cell_type": "code",
   "execution_count": null,
   "metadata": {},
   "outputs": [],
   "source": [
    "T = matrix([[1,1,1, 6],[2,2,1, 9],[1,3,0, 7], [1,2,3,14]])\n",
    "T.rref()"
   ]
  },
  {
   "cell_type": "code",
   "execution_count": null,
   "metadata": {},
   "outputs": [],
   "source": [
    "T = matrix([[1,1,1, 6],[2,2,1, 9],[1,1,0,3], [2,2,0,6]])\n",
    "T.rref()"
   ]
  },
  {
   "cell_type": "code",
   "execution_count": null,
   "metadata": {},
   "outputs": [],
   "source": []
  }
 ],
 "metadata": {
  "kernelspec": {
   "display_name": "SageMath 9.1",
   "language": "sage",
   "name": "sagemath"
  },
  "language_info": {
   "codemirror_mode": {
    "name": "ipython",
    "version": 3
   },
   "file_extension": ".py",
   "mimetype": "text/x-python",
   "name": "python",
   "nbconvert_exporter": "python",
   "pygments_lexer": "ipython3",
   "version": "3.7.3"
  }
 },
 "nbformat": 4,
 "nbformat_minor": 4
}
