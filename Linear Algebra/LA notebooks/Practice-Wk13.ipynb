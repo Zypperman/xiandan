{
 "cells": [
  {
   "cell_type": "markdown",
   "metadata": {},
   "source": [
    "# Practice-Wk13\n",
    "## Linear Regression - Using SVD\n",
    "- The young adults data set (**`YoungAdults.csv`**) contains five columns. **`Height`**, **`Weight`**, **`HairLength`**, **`Age`** and **`Sex`**. \n",
    "- Let's develop a linear regression model using __SVD__. \n"
   ]
  },
  {
   "cell_type": "code",
   "execution_count": null,
   "metadata": {},
   "outputs": [],
   "source": [
    "# Read the data from csv file\n",
    "import csv\n",
    "reader=csv.reader(open('YoungAdults.csv'), delimiter=',')\n",
    "next(reader, None)  # skip the headers\n",
    "data = matrix(QQ, [map(float, row[0:4]) for row in reader])\n",
    "print(\"Number of observations in the data file YoungAdults.csv:\", data.dimensions()[0])"
   ]
  },
  {
   "cell_type": "markdown",
   "metadata": {},
   "source": [
    "## Prepare the _design matrix_\n",
    "Use **`Height`** and **`Weight`** as the independent variables and **`HairLength`** as the dependent variable. Prepare the **design matrix** ($\\boldsymbol X$)  and the **dependent column vector** ($\\boldsymbol y$). "
   ]
  },
  {
   "cell_type": "code",
   "execution_count": null,
   "metadata": {},
   "outputs": [],
   "source": [
    "# Split the data into independent (height = data.column(0), weight = data.column(1)) and \n",
    "# dependent (y = data.column(3)) parts\n",
    "# Build the design matrix [1, height, weight]\n",
    "dim = data.dimensions()\n",
    "print(\"dim\", dim)\n",
    "X = ones_matrix(RDF, dim[0], dim[1]-1)\n",
    "X[:, 1] = data.column(0)\n",
    "X[:, 2] = data.column(1)\n",
    "Y = matrix(data.column(3)).transpose()\n",
    "print(\"\")\n",
    "print(\"Ten rows of Designer Matrix X:\\n\", X[0:10,:])\n",
    "print(\"\")\n",
    "print(\"Ten elements of Dependent Variable Y:\\n\",Y[0:10,:])"
   ]
  },
  {
   "cell_type": "markdown",
   "metadata": {},
   "source": [
    "### Compute the parameters ($\\boldsymbol\\beta$) of linear regression using `projection`\n",
    "$$\\boldsymbol{X^TX\\hat\\beta = X^Ty}$$\n",
    "\n",
    "$$\\boldsymbol{\\hat\\beta = (X^TX)^{-1}X^Ty}$$"
   ]
  },
  {
   "cell_type": "code",
   "execution_count": null,
   "metadata": {},
   "outputs": [],
   "source": [
    "var('x')\n",
    "Beta = ( X.transpose() * X ).inverse() * X.transpose() * Y\n",
    "print(\"Dimensions of Beta: \", Beta.dimensions())\n",
    "# Make Beta a vector\n",
    "Beta = vector(Beta)\n",
    "print(\"Parameter Estimates:\\n\", Beta)"
   ]
  },
  {
   "cell_type": "markdown",
   "metadata": {},
   "source": [
    "### Compute the parameters ($\\boldsymbol\\beta$) of linear regression using `SVD`\n",
    "- __Compute $X^{+}$__\n",
    "    - $X = U {\\Sigma} V{^T}$ (similar to $A = U {\\Sigma} V{^T}$)\n",
    "    -  => $X^{+} = (U {\\Sigma} V{^T})^{-1} $\n",
    "    -  => $X^{+} = V {\\Sigma}^{+} U{^T} $ \n",
    "       - $U^{-1} = U{^T}$\n",
    "       - $V^{-1} = V{^T}$\n",
    "- $\\boldsymbol{X\\beta = y}$ (similar to $Ax=b$)    \n",
    "    - ${\\beta = X^{+}y}$"
   ]
  },
  {
   "cell_type": "code",
   "execution_count": null,
   "metadata": {},
   "outputs": [],
   "source": [
    "# Compute SVD\n",
    "U, Sigma, V = X.SVD()\n",
    "# SVD() works only with RDF, CDF\n",
    "\n",
    "print(\"Shapes of the matrices:\")\n",
    "print(\"X: \", X.nrows(), X.ncols())\n",
    "print(\"U: \", U.nrows(), U.ncols())\n",
    "print(\"Sigma: \",Sigma.nrows(), Sigma.ncols())\n",
    "print(\"V: \",V.nrows(), V.ncols())\n",
    "print(\"Y: \", Y.nrows(), Y.ncols())\n",
    "\n",
    "#Compute pseudo-inverse of Sigma\n",
    "pinv_sigma = Sigma.transpose()\n",
    "\n",
    "var('m,n')\n",
    "for m in range(pinv_sigma.nrows()):\n",
    "    for n in range(pinv_sigma.ncols()):\n",
    "        if(pinv_sigma[m,n]>0):\n",
    "            pinv_sigma[m,n] = 1 / pinv_sigma[m,n]\n",
    "print(\"pinv_sigma: \", pinv_sigma.nrows(), pinv_sigma.ncols())\n",
    "\n",
    "\n",
    "# Compute pseudo inverse of X\n",
    "pinv_x = V * pinv_sigma * U.transpose()\n",
    "print(\"pinv_x: \", pinv_x.nrows(), pinv_x.ncols())\n",
    "print(\"\")\n",
    "\n",
    "\n",
    "#Compute beta = X^+ * y\n",
    "print(\"Parameter estimates: \")\n",
    "svd_beta = pinv_x * Y\n",
    "# Make beta a vector\n",
    "SVD_Beta = vector(svd_beta)\n",
    "print(SVD_Beta)"
   ]
  },
  {
   "cell_type": "code",
   "execution_count": null,
   "metadata": {
    "scrolled": false
   },
   "outputs": [],
   "source": [
    "# Dimensionality reduction\n",
    "print(\"Sigma = \")\n",
    "show(Sigma[0:3, 0:3])\n",
    "Sigma1 = Sigma[0:2, 0:2]\n",
    "show(Sigma1)\n",
    "U1 = U[0:127,0:2]\n",
    "V1 = V[0:3, 0:2]\n",
    "X1 = U1 * Sigma1 * V1.transpose()\n",
    "diff = X - X1\n",
    "print(\"Diff = \", diff.norm('frob'))\n",
    "print(\"Rel. Diff (%) = \", 2 * 100 * diff.norm('frob') / (X.norm('frob') + X1.norm('frob')))"
   ]
  },
  {
   "cell_type": "markdown",
   "metadata": {},
   "source": [
    "## An example: How to use python libraries to compute pseudo inverse in 1 step"
   ]
  },
  {
   "cell_type": "code",
   "execution_count": null,
   "metadata": {},
   "outputs": [],
   "source": [
    "# You can use libraries such as numpy to calculate psedo inverse directly\n",
    "import numpy\n",
    "numpy_pinv_x= matrix(numpy.linalg.pinv(X))\n",
    "print(\"Parameter estimates computed using numpy: \")\n",
    "print(vector(numpy_pinv_x * Y))"
   ]
  },
  {
   "cell_type": "markdown",
   "metadata": {},
   "source": [
    "## Visualize Our Linear Regression"
   ]
  },
  {
   "cell_type": "code",
   "execution_count": null,
   "metadata": {
    "scrolled": false
   },
   "outputs": [],
   "source": [
    "# x = Height, y = Weigtht and z = HairLength\n",
    "var('Height, Weight, HairLength')\n",
    "HairLength = SVD_Beta[0] + SVD_Beta[1] * Height + SVD_Beta[2] * Weight\n",
    "show(plot3d(HairLength, (Height, 0, 200), (Weight, 0, 80)))"
   ]
  },
  {
   "cell_type": "code",
   "execution_count": null,
   "metadata": {},
   "outputs": [],
   "source": []
  }
 ],
 "metadata": {
  "kernelspec": {
   "display_name": "SageMath 9.1",
   "language": "sage",
   "name": "sagemath"
  },
  "language_info": {
   "codemirror_mode": {
    "name": "ipython",
    "version": 3
   },
   "file_extension": ".py",
   "mimetype": "text/x-python",
   "name": "python",
   "nbconvert_exporter": "python",
   "pygments_lexer": "ipython3",
   "version": "3.7.3"
  }
 },
 "nbformat": 4,
 "nbformat_minor": 2
}
