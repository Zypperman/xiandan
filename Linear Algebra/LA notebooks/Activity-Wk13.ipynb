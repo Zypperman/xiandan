{
 "cells": [
  {
   "cell_type": "markdown",
   "metadata": {},
   "source": [
    "# Activity-Wk13 : Objectives\n",
    "- Perform SVD of a given matrix\n",
    "- Geometry of SVD\n",
    "- Find pseudo inverse of a given matrix\n",
    "\n",
    "## 1. Perform SVD of a given matrix"
   ]
  },
  {
   "cell_type": "code",
   "execution_count": null,
   "metadata": {},
   "outputs": [],
   "source": [
    "# To cast the matrix into RDF with limited precision\n",
    "def roundit(mat, k=3):\n",
    "    dim = mat.dimensions()\n",
    "    l = [[RDF(round(mat[i,j],k)) for j in range(dim[1])] for i in range(dim[0])]\n",
    "    matr = matrix(RDF, l)\n",
    "    return matr\n",
    "\n",
    "A = matrix(RDF, [[2,3,-1],[5,7,1]])\n",
    "print(\"A:\")\n",
    "show(roundit(A))\n",
    "\n",
    "#SVD requires RDF matrices\n",
    "U, S, V = A.SVD()\n",
    "print(\"U:\")\n",
    "show(U)\n",
    "print(\"\")\n",
    "print(\"Sigma:\")\n",
    "show(S)\n",
    "print(\"\")\n",
    "print(\"V:\")\n",
    "show(V)\n",
    "print(\"\")\n",
    "\n",
    "USVT = roundit(U * S * V.T)\n",
    "\n",
    "#Verify whether A = U*S*V.T\n",
    "print(\"Is A = U * S * V.T ?\", A == USVT)\n"
   ]
  },
  {
   "cell_type": "markdown",
   "metadata": {},
   "source": [
    "## 2. Geometry of SVD"
   ]
  },
  {
   "cell_type": "code",
   "execution_count": null,
   "metadata": {},
   "outputs": [],
   "source": [
    "B = matrix([[4, -2],[-2, 3]])\n",
    "show(B)\n",
    "\n",
    "U, S, V = B.change_ring(RDF).SVD()"
   ]
  },
  {
   "cell_type": "code",
   "execution_count": null,
   "metadata": {},
   "outputs": [],
   "source": [
    "var('t')\n",
    "cir = vector([cos(t), sin(t)])\n",
    "c1 = parametric_plot(cir, (t,0,2*pi), figsize=4)\n",
    "c1"
   ]
  },
  {
   "cell_type": "code",
   "execution_count": null,
   "metadata": {},
   "outputs": [],
   "source": [
    "e1 = vector([1,0])\n",
    "e2 = vector([0,1])"
   ]
  },
  {
   "cell_type": "code",
   "execution_count": null,
   "metadata": {},
   "outputs": [],
   "source": [
    "svd1 = parametric_plot(V*cir, (t,0,2*pi), figsize=4)\n",
    "svd1 = svd1 + plot(V*e1, color='red') + plot(V*e2, color='green')\n",
    "svd1"
   ]
  },
  {
   "cell_type": "code",
   "execution_count": null,
   "metadata": {},
   "outputs": [],
   "source": [
    "svd2 = parametric_plot(S*V*cir, (t,0,2*pi), figsize=4)\n",
    "svd2 = svd2 + plot(S*V*e1, color='red') + plot(S*V*e2, color='green')\n",
    "svd2"
   ]
  },
  {
   "cell_type": "code",
   "execution_count": null,
   "metadata": {},
   "outputs": [],
   "source": [
    "svd3 = parametric_plot(U*S*V*cir, (t,0,2*pi), figsize=4)\n",
    "svd3 = svd3 + plot(U*S*V*e1, color='red') + plot(U*S*V*e2, color='green')\n",
    "svd3"
   ]
  },
  {
   "cell_type": "markdown",
   "metadata": {},
   "source": [
    "## 3. Psuedo Inverse of a Given Matrix"
   ]
  },
  {
   "cell_type": "code",
   "execution_count": null,
   "metadata": {},
   "outputs": [],
   "source": [
    "X = matrix(RDF, [[1,2,1,3],[4,3,2,1]])\n",
    "show(X)\n",
    "print(\"Rank of X:\", X.rank())\n",
    "\n",
    "# Method 1\n",
    "U, Sigma, V = X.SVD()\n",
    "show(U)\n",
    "show(Sigma)\n",
    "show(V)\n",
    "\n",
    "\n",
    "#Compute pseudo-inverse of Sigma\n",
    "pinv_sigma = Sigma.transpose()\n",
    "\n",
    "var('m,n')\n",
    "for m in range(pinv_sigma.nrows()):\n",
    "    for n in range(pinv_sigma.ncols()):\n",
    "        if(pinv_sigma[m,n]>0):\n",
    "            pinv_sigma[m,n] = 1 / pinv_sigma[m,n]\n",
    "\n",
    "# Compute pseudo inverse of X\n",
    "pinv_x = V * pinv_sigma * U.transpose()\n",
    "print(\"pinv_x: \")\n",
    "show(pinv_x)\n",
    "\n",
    "\n",
    "# Method 2 - using built-in method\n",
    "print(\"Psuedo inverse of X:\")\n",
    "show(X.pseudoinverse())\n",
    "\n"
   ]
  },
  {
   "cell_type": "code",
   "execution_count": null,
   "metadata": {},
   "outputs": [],
   "source": []
  }
 ],
 "metadata": {
  "kernelspec": {
   "display_name": "SageMath 9.1",
   "language": "sage",
   "name": "sagemath"
  },
  "language_info": {
   "codemirror_mode": {
    "name": "ipython",
    "version": 3
   },
   "file_extension": ".py",
   "mimetype": "text/x-python",
   "name": "python",
   "nbconvert_exporter": "python",
   "pygments_lexer": "ipython3",
   "version": "3.7.3"
  }
 },
 "nbformat": 4,
 "nbformat_minor": 4
}
