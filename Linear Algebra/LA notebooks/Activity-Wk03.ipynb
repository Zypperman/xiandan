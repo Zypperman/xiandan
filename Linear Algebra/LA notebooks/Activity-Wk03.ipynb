{
 "cells": [
  {
   "cell_type": "markdown",
   "metadata": {},
   "source": [
    "# Activity-Wk3 : Objectives\n",
    "- Play with Transposes and Determinants.\n",
    "- Verify their properties in Sage.\n",
    "- Define matrices (without specifying the field)\n",
    "- Define random matrices\n",
    "- Transposes: Verify the product rule, and sum/diff ($𝑨+𝑨^\\mathrm T, 𝑨−𝑨^\\mathrm T$)\n",
    "- See Gram matrices\n",
    "- See |𝑼| and |𝑳| as product of diagonal elements\n",
    "- Define random square matrices\n",
    "- Verify the properties of determinants\n",
    "\n",
    "## Topics\n",
    "1. ### Transposes\n",
    "2. ### Properties of Determinants\n"
   ]
  },
  {
   "cell_type": "markdown",
   "metadata": {},
   "source": [
    "## 1. Tranpose\n",
    "- Transpose of a matrix"
   ]
  },
  {
   "cell_type": "code",
   "execution_count": null,
   "metadata": {},
   "outputs": [],
   "source": [
    "# Construct a matrix without specifying the field\n",
    "# Sage guess the best (smallest, most specific) possible field\n",
    "A = matrix(3,4,[7,1,1,4,5,8,0,7,6,9,2,5])\n",
    "print(\"Matrix A:\")\n",
    "print(A)\n",
    "print(\"\")\n",
    "\n",
    "# To get A transpose\n",
    "print(\"A.transpose() :\")\n",
    "print(A.transpose())\n",
    "print(\"\")\n",
    "\n",
    "# Another way\n",
    "print(\"A.T:\")\n",
    "print(A.T)"
   ]
  },
  {
   "cell_type": "markdown",
   "metadata": {},
   "source": [
    "__Transpose Properties__\n",
    "- $ (A^{\\mathrm T})^{\\mathrm T} = A $"
   ]
  },
  {
   "cell_type": "code",
   "execution_count": null,
   "metadata": {},
   "outputs": [],
   "source": [
    "# Define a random matrix\n",
    "# Set the seed for reproducibility\n",
    "# (Does not persist across cells)\n",
    "set_random_seed(1234)\n",
    "A = random_matrix(ZZ, 5, 4)\n",
    "print(\"Random Matrix A:\")\n",
    "print(A)\n",
    "print(\"Its Transpose, A.T:\")\n",
    "print(A.T)\n",
    "ATT = A.T.transpose()\n",
    "print(\"Transpose of the Transpose:\")\n",
    "print(ATT)\n",
    "print(\"Is the transpose of the transpose the same as A? \", ATT == A)\n"
   ]
  },
  {
   "cell_type": "markdown",
   "metadata": {},
   "source": [
    "- $(A*B)^{\\mathrm T} = B^{\\mathrm T} * A^{\\mathrm T}$"
   ]
  },
  {
   "cell_type": "code",
   "execution_count": null,
   "metadata": {
    "scrolled": true
   },
   "outputs": [],
   "source": [
    "B = random_matrix(ZZ, 4, 7)\n",
    "print(\"Random Matrix B:\")\n",
    "print(B)\n",
    "print(\"\")\n",
    "\n",
    "# Multiply the matrices A & B\n",
    "AB = A * B\n",
    "print(\"A * B:\")\n",
    "print(AB)\n",
    "print(\"\")\n",
    "\n",
    "# Multiply the matrices A & B and tranpose their product\n",
    "print(\"Transpose of AB:\")\n",
    "# To show how to invoke the method of a returned value\n",
    "print((A*B).transpose())\n",
    "ABt = AB.T\n",
    "print(\"\")\n",
    "\n",
    "# Get B^T and A^T and multiply to verify if AB^T = B^T * A^T\n",
    "BtAt = B.T * A.T\n",
    "\n",
    "pretty_print(html(\"B<sup>T</sup>*A<sup>T</sup>\"))\n",
    "print(BtAt)\n",
    "\n",
    "print(\"Is the transpose of AB the same as B.T * A.T? \", ABt == BtAt)"
   ]
  },
  {
   "cell_type": "code",
   "execution_count": null,
   "metadata": {},
   "outputs": [],
   "source": [
    "# Construct A + A.T and A - A.T (only for square matrices)\n",
    "A = random_matrix(ZZ, 5, 5)\n",
    "print(\"A + A.T\")\n",
    "print(A + A.T)\n",
    "print(\"Is A + A.T symmetric? \", A + A.T == (A + A.T).T)\n",
    "print(\"\")\n",
    "\n",
    "print(\"A - A.T\")\n",
    "print(A - A.T)\n",
    "print(\"Is A - A.T skew-symmetric? \", A - A.T == -(A - A.T).T)"
   ]
  },
  {
   "cell_type": "code",
   "execution_count": null,
   "metadata": {},
   "outputs": [],
   "source": [
    "# Gram Matrices: Any A (not necessarily square)\n",
    "A = random_matrix(ZZ, 15, 5)\n",
    "G = A.T * A\n",
    "print(\"The Gram Matrix: A.T * A\")\n",
    "print(G)\n",
    "print(\"Is A.T * A symmetric? \", G == G.T)\n",
    "print(\"\")\n",
    "\n",
    "# Test if its determinant is zero. Is this Gram matrix singular?\n",
    "print(G.det())\n",
    "print(\"Is it singular?\", G.det() == 0)\n",
    "print(\"\")\n",
    "\n",
    "# How about the \"other\" Gram Matrix, A * A.T?\n",
    "G = A * A.T\n",
    "print(\"The other Gram Matrix: A.T * A\")\n",
    "print(G)\n",
    "print(\"Is A.T * A symmetric? \", G == G.T)\n",
    "print(\"\")\n",
    "print(G.det())\n",
    "print(\"Is it singular?\", G.det() == 0)\n"
   ]
  },
  {
   "cell_type": "markdown",
   "metadata": {},
   "source": [
    "## 2. Properties of Determinants"
   ]
  },
  {
   "cell_type": "code",
   "execution_count": null,
   "metadata": {},
   "outputs": [],
   "source": [
    "# A quick way to create upper and lower triangular matrix\n",
    "# (Using Gaussian Elimination, Week 4)\n",
    "set_random_seed(1234)\n",
    "A = random_matrix(ZZ, 4, 4)\n",
    "P, L, U = A.LU()\n",
    "print(\"An upper triangular matrix:\")\n",
    "print(U)\n",
    "print(\"\")\n",
    "print(\"Determinant of the upper triangular matrix: \", U.det())\n",
    "print(\"Product of the diagonal elements: \", U[0,0] * U[1,1] * U[2,2] * U[3,3])"
   ]
  },
  {
   "cell_type": "code",
   "execution_count": null,
   "metadata": {},
   "outputs": [],
   "source": [
    "set_random_seed(1234)\n",
    "A = random_matrix(ZZ, 4, 4)\n",
    "print(\"Matrix A:\")\n",
    "print(A)\n",
    "print(\"\")\n",
    "\n",
    "print(\"Determinant of A:\", A.det(), \" (Same as |U|?)\")\n",
    "\n",
    "# Swap rows 2 and 4: Modifies the matrix in situ\n",
    "A.swap_rows(1, 3)\n",
    "print(\"Determinant of A (with rows swapped):\", A.det(), \"   (-1 * |A|)\")\n",
    "print(\"\")\n",
    "\n",
    "# Swap cols 2 and 4: Modifies the matrix in situ\n",
    "A.swap_columns(1, 3)\n",
    "print(\"Determinant of A (with rows AND columns swapped):\", A.det(), \"   (Back to |A|)\")\n",
    "\n"
   ]
  },
  {
   "cell_type": "code",
   "execution_count": null,
   "metadata": {},
   "outputs": [],
   "source": [
    "# Determinant of products\n",
    "set_random_seed(1234)\n",
    "A = random_matrix(ZZ, 4, 4)\n",
    "B = random_matrix(ZZ, 4, 4)\n",
    "\n",
    "print(\"Matrices A and B:\")\n",
    "print(A)\n",
    "print(B)\n",
    "print(\"\")\n",
    "\n",
    "# Their determinants\n",
    "print(\"|A| = \", A.det())\n",
    "print(\"|B| = \", B.det())\n",
    "print(\"|AB| = \", (A*B).det())\n",
    "print(\"Is the determinant of product the same as the product of determiants? \", \n",
    "      (A*B).det() == A.det() * B.det())"
   ]
  },
  {
   "cell_type": "code",
   "execution_count": null,
   "metadata": {},
   "outputs": [],
   "source": [
    "# Corollary: The determiant of the inverse is the reciprocal of the determant\n",
    "\n",
    "Ai = A.inverse()\n",
    "print(\"Is the determinant of the inverse the reciprocal of the determiant? \", \n",
    "      Ai.det() == 1/A.det())\n",
    "print(\"Is the determinant of the transpose the same as the determiant? \", \n",
    "      A.T.det() == A.det())"
   ]
  },
  {
   "cell_type": "code",
   "execution_count": 1,
   "metadata": {
    "scrolled": true
   },
   "outputs": [
    {
     "name": "stdout",
     "output_type": "stream",
     "text": [
      "Matrix A:\n",
      "[1 2 3]\n",
      "[4 5 6]\n",
      "Matrix B:\n",
      "[3 4]\n",
      "[5 6]\n",
      "[7 8]\n",
      "\n",
      "A * B:\n",
      "[34 40]\n",
      "[79 94]\n",
      "\n",
      "Transpose of AB:\n",
      "[34 79]\n",
      "[40 94]\n",
      "\n",
      "B.T:\n",
      "[3 5 7]\n",
      "[4 6 8]\n",
      "A.T\n",
      "[1 4]\n",
      "[2 5]\n",
      "[3 6]\n",
      "B.T * A.T\n",
      "[34 79]\n",
      "[40 94]\n",
      "Is the transpose of AB the same as B.T * A.T?  True\n"
     ]
    }
   ],
   "source": [
    "# Determinant of products: Example in the slides/book\n",
    "A = Matrix(ZZ, 2, 3, range(1,7))\n",
    "B = Matrix(ZZ, 3, 2, range(3,9))\n",
    "print(\"Matrix A:\")\n",
    "print(A)\n",
    "print(\"Matrix B:\")\n",
    "print(B)\n",
    "print(\"\")\n",
    "\n",
    "# Multiply the matrices A & B\n",
    "AB = A * B\n",
    "print(\"A * B:\")\n",
    "print(AB)\n",
    "print(\"\")\n",
    "\n",
    "# Multiply the matrices A & B and tranpose their product\n",
    "ABt = AB.T\n",
    "print(\"Transpose of AB:\")\n",
    "print(ABt)\n",
    "print(\"\")\n",
    "\n",
    "# Get B^T and A^T and multiply to verify if AB^T = B^T * A^T\n",
    "print(\"B.T:\")\n",
    "print(B.T)\n",
    "print(\"A.T\")\n",
    "print(A.T)\n",
    "BtAt = B.T * A.T\n",
    "print(\"B.T * A.T\")\n",
    "print(BtAt)\n",
    "print(\"Is the transpose of AB the same as B.T * A.T? \", ABt == BtAt)"
   ]
  },
  {
   "cell_type": "code",
   "execution_count": null,
   "metadata": {},
   "outputs": [],
   "source": [
    "latex(A)"
   ]
  },
  {
   "cell_type": "code",
   "execution_count": null,
   "metadata": {},
   "outputs": [],
   "source": []
  }
 ],
 "metadata": {
  "kernelspec": {
   "display_name": "SageMath 9.1",
   "language": "sage",
   "name": "sagemath"
  },
  "language_info": {
   "codemirror_mode": {
    "name": "ipython",
    "version": 3
   },
   "file_extension": ".py",
   "mimetype": "text/x-python",
   "name": "python",
   "nbconvert_exporter": "python",
   "pygments_lexer": "ipython3",
   "version": "3.7.3"
  }
 },
 "nbformat": 4,
 "nbformat_minor": 1
}
