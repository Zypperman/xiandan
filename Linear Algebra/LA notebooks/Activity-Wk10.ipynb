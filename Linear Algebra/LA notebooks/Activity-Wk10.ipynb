{
 "cells": [
  {
   "cell_type": "markdown",
   "metadata": {},
   "source": [
    "# Activity-Wk10 : Objectives\n",
    "- Find projection of a vector onto a subspace\n",
    "- Solve given system of inconsistent equations using least squares approximation\n",
    "- Determine linear regression model for given dataset \n",
    "\n",
    "## 1. Projection of a vector onto a subspace"
   ]
  },
  {
   "cell_type": "code",
   "execution_count": null,
   "metadata": {},
   "outputs": [],
   "source": [
    "# Subspace with 2 basis vectors\n",
    "S = span([vector([1,0,0,1]),vector([0,1,0,1])])\n",
    "print(\"Subspace:\")\n",
    "print(S)\n",
    "print(\"\")\n",
    "\n",
    "# Vector b\n",
    "b = vector([1,4,7,2])\n",
    "\n",
    "# Compute projection matrix\n",
    "A = matrix([[1,0],[0,1],[0,0],[1,1]])\n",
    "print(\"Basis matrix:\")\n",
    "show(A)\n",
    "print(\"\")\n",
    "\n",
    "P = A * (A.T * A).inverse() * A.transpose()\n",
    "print(\"Projection matrix:\")\n",
    "show(P)\n",
    "print(\"\")\n",
    "\n",
    "# Projection of b on subspace S\n",
    "b_hat = P*b\n",
    "print(\"Projection of b:\")\n",
    "show(b_hat)"
   ]
  },
  {
   "cell_type": "code",
   "execution_count": null,
   "metadata": {},
   "outputs": [],
   "source": [
    "# Subspace with 4 basis vectors - Vector space R^4\n",
    "V = span([vector([1,0,0,1]),vector([0,1,0,1]),vector([1,1,0,0]),vector([0,0,1,1])])\n",
    "print(\"Subspace:\")\n",
    "print(V)\n",
    "print(\"\")\n",
    "\n",
    "# Vector b\n",
    "b = vector([1,4,7,2])\n",
    "\n",
    "# Compute projection matrix\n",
    "A = matrix([[1,0,1,0],[0,1,1,0],[0,0,0,1],[1,1,0,1]])\n",
    "print(\"Basis matrix:\")\n",
    "show(A)\n",
    "print(\"\")\n",
    "\n",
    "P = A * (A.T * A).inverse() * A.transpose()\n",
    "print(\"Projection Matrix:\")\n",
    "show(P)\n",
    "print(\"\")\n",
    "\n",
    "# Projection of b on subspace S\n",
    "b_hat = P*b\n",
    "print(\"Projection of b:\")\n",
    "show(b_hat)\n",
    "\n",
    "print(\"Is projection matrix P = I? \", P == identity_matrix(4))\n",
    "print(\"Is b_hat = b?\", b_hat == b)"
   ]
  },
  {
   "cell_type": "markdown",
   "metadata": {},
   "source": [
    "## 2. Least squares approximation"
   ]
  },
  {
   "cell_type": "code",
   "execution_count": null,
   "metadata": {},
   "outputs": [],
   "source": [
    "A2 = matrix([[2,0],[-1,1],[0,2]])\n",
    "b2 = vector([1,0,-1])\n",
    "\n",
    "A2b2 = A2.augment(b2, true)\n",
    "print(\"Augmented matrix:\")\n",
    "show(A2b2)\n",
    "print(\"\")\n",
    "\n",
    "print(\"RREF:\")\n",
    "show(A2b2.rref())\n",
    "print(\"\")\n",
    "\n",
    "# 0 = 1 row in RREF, system of equations inconsistent\n",
    "\n",
    "# Least squares approximation\n",
    "x_hat = (A2.transpose() * A2).inverse() * A2.transpose() * b2\n",
    "show(x_hat)\n",
    "\n",
    "# Error\n",
    "e = b2 - A2*x_hat\n",
    "print(\"Error:\")\n",
    "show(e)\n",
    "print(\"Norm of error:\", e.norm())"
   ]
  },
  {
   "cell_type": "markdown",
   "metadata": {},
   "source": [
    "## 3. Linear regression\n",
    "- The goal is to define the line $ y = \\beta_0 + \\beta_1 x$ that best defines the relationship between age (x) and height (y)\n",
    "- __Recap__: Linear Regression using _projection_\n",
    "    - We wrote this as $\\boldsymbol{X\\beta = y}$ (similar to $Ax=b$). \n",
    "        - $\\boldsymbol{X} = $ The [Design Matrix](https://en.wikipedia.org/wiki/Design_matrix)\n",
    "        - $\\boldsymbol{y} = $ The dependent variable\n",
    "        - $\\boldsymbol{\\beta} = $ The parameters to estimate\n",
    "        - In this case, there is no single solution for $\\beta_0$ and $\\beta_1$ so that the line would go through all the points\n",
    "        - Hence, we will look for best possible solution\n",
    "        - We can solve for the best estimate of the parameters using $\\boldsymbol{X^TX\\hat\\beta = X^Ty}$\n",
    "        - $\\boldsymbol{\\hat\\beta = (X^TX)^{-1}X^Ty}$"
   ]
  },
  {
   "cell_type": "code",
   "execution_count": null,
   "metadata": {},
   "outputs": [],
   "source": [
    "# Consider the data which relates age to height of children ages 18 to 29.\n",
    "# The goal is to define the line y = mx + c that best defines the relationship between age (x) and height (y)\n",
    "# Dataset gives the average height of the people at that age (18 to 29)\n",
    "# Data in tuples (age,height):\n",
    "# (18,76.1), (19,77), (20,78.1), (21,78.2), (22,78.8), (23,79.7), (24,79.9), (25,81.1), (26,81.2), (27,81.8), (28,82.8), (29,83.5)\n",
    "\n",
    "# Read the data from csv file\n",
    "import csv\n",
    "reader=csv.reader(open('age_height.csv'), delimiter=',')\n",
    "next(reader, None)  # skip the headers\n",
    "data = matrix(RDF, [map(float, row) for row in reader])\n",
    "print(\"Data:\\n\", data)"
   ]
  },
  {
   "cell_type": "code",
   "execution_count": null,
   "metadata": {},
   "outputs": [],
   "source": [
    "# Split the data into independent (x = data.column(0)) and dependent (y = data.column(1)) parts\n",
    "# Build the design matrix [1, x]\n",
    "dim = data.dimensions()\n",
    "X = ones_matrix(RDF, dim[0], dim[1])\n",
    "X[:,1] = data.column(0)\n",
    "Y = matrix(data.column(1)).transpose()\n",
    "print(\"Designer Matrix X:\\n\", X)\n",
    "print(\"Dependent Variable Y:\\n\",Y)"
   ]
  },
  {
   "cell_type": "markdown",
   "metadata": {},
   "source": [
    "We can solve for the best estimate of the parameters using $$\\boldsymbol{X^TX\\hat\\beta = X^Ty}$$\n",
    "\n",
    "$$\\boldsymbol{\\hat\\beta = (X^TX)^{-1}X^Ty}$$"
   ]
  },
  {
   "cell_type": "code",
   "execution_count": null,
   "metadata": {},
   "outputs": [],
   "source": [
    "# We are ready to compute the parameter estimate using the matrix equation above\n",
    "Beta = ( X.transpose() * X ).inverse() * X.transpose() * Y\n",
    "print(\"Dimensions of Beta: \", Beta.dimensions())\n",
    "# Make Beta a vector\n",
    "Beta = vector(Beta)\n",
    "print(\"Parameter Estimates:\\n\", Beta)"
   ]
  },
  {
   "cell_type": "markdown",
   "metadata": {},
   "source": [
    "## Visualize our linear regression"
   ]
  },
  {
   "cell_type": "code",
   "execution_count": null,
   "metadata": {},
   "outputs": [],
   "source": [
    "# Plot the line\n",
    "var('Age, Height')\n",
    "Height = Beta[0] + Beta[1] * Age\n",
    "a = plot(Height, (-1,29))\n",
    "\n",
    "# add a plot of the data, in red\n",
    "a += list_plot(data,color='red')\n",
    "show(a)"
   ]
  },
  {
   "cell_type": "code",
   "execution_count": null,
   "metadata": {},
   "outputs": [],
   "source": []
  }
 ],
 "metadata": {
  "kernelspec": {
   "display_name": "SageMath 9.1",
   "language": "sage",
   "name": "sagemath"
  },
  "language_info": {
   "codemirror_mode": {
    "name": "ipython",
    "version": 3
   },
   "file_extension": ".py",
   "mimetype": "text/x-python",
   "name": "python",
   "nbconvert_exporter": "python",
   "pygments_lexer": "ipython3",
   "version": "3.7.3"
  }
 },
 "nbformat": 4,
 "nbformat_minor": 4
}
