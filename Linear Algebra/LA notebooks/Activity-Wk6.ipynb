{
 "cells": [
  {
   "cell_type": "markdown",
   "metadata": {},
   "source": [
    "# Activity-Wk6 : Objectives\n",
    "- Create vector spaces and subspaces\n",
    "- Find basis vectors of a subspace and its dimension\n",
    "- Check whether given vectors are orthogonal\n",
    "- Check whether given subspaces are orthogonal\n",
    "- Find orthogonal complement of a subspace\n",
    "\n",
    "## Create Vector Spaces"
   ]
  },
  {
   "cell_type": "code",
   "execution_count": null,
   "metadata": {},
   "outputs": [],
   "source": [
    "# Vector space over real field\n",
    "\n",
    "# Method 1\n",
    "VectorSpace(RR, 4)\n",
    "\n",
    "# Method 2\n",
    "RR^4"
   ]
  },
  {
   "cell_type": "code",
   "execution_count": null,
   "metadata": {},
   "outputs": [],
   "source": [
    "# Find a random vector in a vector space\n",
    "V = QQ^4\n",
    "V.random_element()"
   ]
  },
  {
   "cell_type": "code",
   "execution_count": null,
   "metadata": {},
   "outputs": [],
   "source": [
    "# Check whether a vector is in given vector space\n",
    "a = vector(QQ, [0, 1, 2])\n",
    "a in V"
   ]
  },
  {
   "cell_type": "markdown",
   "metadata": {},
   "source": [
    "## Create Subspaces"
   ]
  },
  {
   "cell_type": "code",
   "execution_count": null,
   "metadata": {},
   "outputs": [],
   "source": [
    "# Method 1 - using span()\n",
    "b1 = vector(QQ, [1,2,5,7])\n",
    "b2 = vector(QQ, [3,8,1,9])\n",
    "# Create a subspace S containing all vectors which are linear combinations of b1 and b2\n",
    "S = span([b1,b2])\n",
    "print(\"Subspace S:\")\n",
    "print(S)\n",
    "print(\"\")\n",
    "\n",
    "# Method 2 - using subspace()\n",
    "# Select 10 random vectors and create a subspace\n",
    "S1 = V.subspace([V.random_element() for i in range(10)])\n",
    "print(\"Subspace S1:\")\n",
    "print(S1)"
   ]
  },
  {
   "cell_type": "markdown",
   "metadata": {},
   "source": [
    "## Basis Vectors and Dimension"
   ]
  },
  {
   "cell_type": "code",
   "execution_count": null,
   "metadata": {},
   "outputs": [],
   "source": [
    "v11 = vector(QQ, [1,1,2,0])\n",
    "v21 = vector(QQ, [2,1,0,1])\n",
    "v31 = vector(QQ, [2,2,1,0])\n",
    "\n",
    "W1 = V.subspace([v11,v21,v31])\n",
    "print(\"W1 subspace:\")\n",
    "print(W1.basis()) \n",
    "print(\"Dimension = \", W1.dimension())\n",
    "\n",
    "v21 = vector(QQ, [1,1,2,0])\n",
    "v22 = vector(QQ, [2,1,0,1])\n",
    "v23 = vector(QQ, [2,2,4,0]) #v23 = 2*v21\n",
    "\n",
    "W2 = V.subspace([v21,v22,v23])\n",
    "print(\"\")\n",
    "print(\"W2 subspace:\")\n",
    "print(W2.basis()) \n",
    "print(\"Dimension = \", W2.dimension())"
   ]
  },
  {
   "cell_type": "markdown",
   "metadata": {},
   "source": [
    "## Orthogonal Vectors"
   ]
  },
  {
   "cell_type": "code",
   "execution_count": null,
   "metadata": {},
   "outputs": [],
   "source": [
    "a1 = vector(QQ, [1,3,1,0])\n",
    "a2 = vector(QQ, [0,0,0,4])\n",
    "print(\"Are a1 and a2 orthogonal vectors?\", a1.dot_product(a2) == 0)"
   ]
  },
  {
   "cell_type": "markdown",
   "metadata": {},
   "source": [
    "## Orthogonal Subspaces"
   ]
  },
  {
   "cell_type": "code",
   "execution_count": null,
   "metadata": {},
   "outputs": [],
   "source": [
    "sub1 = span([a1])\n",
    "sub2 = span([a2])\n",
    "\n",
    "I = sub1.intersection(sub2) # Intersection is 0 hence sub1 and sub2 are orthogonal subspaces\n",
    "print(\"Intersection:\")\n",
    "print(I)\n",
    "print(\"\")\n",
    "\n",
    "print(\"Dimension of Vector Space:\", V.dimension())\n",
    "print(\"Dimension of subspace 1:\", sub1.dimension())\n",
    "print(\"Dimension of subspace 2:\", sub2.dimension())\n",
    "print(\"\")\n",
    "print(\"Are sub1 and sub2 orthogonal complements?\", sub1.dimension() + sub2.dimension() == V.dimension())"
   ]
  },
  {
   "cell_type": "markdown",
   "metadata": {},
   "source": [
    "## Orthogonal Complements"
   ]
  },
  {
   "cell_type": "code",
   "execution_count": null,
   "metadata": {},
   "outputs": [],
   "source": [
    "# Orthogonal complement of subspace 1\n",
    "C1 = sub1.complement()\n",
    "print(\"Complement of subspace 1:\")\n",
    "print(C1)\n",
    "print(\"\")\n",
    "I1 = C1.intersection(sub1)\n",
    "print(\"Intersection of C1 and subspace 1:\")\n",
    "print(I1) # Intersection is 0\n",
    "print(\"\")\n",
    "print(\"Are sub1 and C1 orthogonal complements?\", sub1.dimension() + C1.dimension() == V.dimension())\n",
    "print(\"\")\n",
    "\n",
    "# Orthogonal complement of subspace 2\n",
    "C2 = sub2.complement()\n",
    "print(\"Complement of subspace 2:\")\n",
    "print(C2)\n",
    "print(\"\")\n",
    "I2 = C2.intersection(sub2)\n",
    "print(\"Intersection of C2 and subspace 2:\")\n",
    "print(I2) # Intersection is 0\n",
    "print(\"\")\n",
    "print(\"Are sub2 and C2 orthogonal complements?\", sub2.dimension() + C2.dimension() == V.dimension())"
   ]
  }
 ],
 "metadata": {
  "kernelspec": {
   "display_name": "SageMath 9.1",
   "language": "sage",
   "name": "sagemath"
  },
  "language_info": {
   "codemirror_mode": {
    "name": "ipython",
    "version": 3
   },
   "file_extension": ".py",
   "mimetype": "text/x-python",
   "name": "python",
   "nbconvert_exporter": "python",
   "pygments_lexer": "ipython3",
   "version": "3.7.3"
  }
 },
 "nbformat": 4,
 "nbformat_minor": 4
}
