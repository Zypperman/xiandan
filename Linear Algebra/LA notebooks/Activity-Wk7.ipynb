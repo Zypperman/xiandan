{
 "cells": [
  {
   "cell_type": "markdown",
   "metadata": {},
   "source": [
    "# Activity-Wk7 : Objectives\n",
    "- Check whether given matrix is orthogonal\n",
    "- Perform basis changes\n",
    "- Find orthogonal projections of a given set of vectors\n",
    "- Find orthonormal version of a given matrix using Gram-Schmidt process\n",
    "- Determine QR decomposition of given matrix"
   ]
  },
  {
   "cell_type": "markdown",
   "metadata": {},
   "source": [
    "## 1. Orthogonality of a Matrix"
   ]
  },
  {
   "cell_type": "code",
   "execution_count": null,
   "metadata": {},
   "outputs": [],
   "source": [
    "set_random_seed(1234)\n",
    "A = random_matrix(ZZ, 3, 3)\n",
    "show(A)\n",
    "print(\"Is A orthogonal?\", A.inverse() == A.transpose())\n",
    "\n",
    "B = matrix([[1/3,2/3,2/3],[-2/3,-1/3,2/3],[2/3,-2/3,1/3]])\n",
    "show(B)\n",
    "print(\"Is B orthogonal?\", B.inverse() == B.transpose())"
   ]
  },
  {
   "cell_type": "markdown",
   "metadata": {},
   "source": [
    "## 2. Perform Change of Bases\n",
    "###   a. Change of Basis to a Vector Space"
   ]
  },
  {
   "cell_type": "code",
   "execution_count": null,
   "metadata": {},
   "outputs": [],
   "source": [
    "# New basis vectors \n",
    "u = vector([-3,2,-3])\n",
    "v = vector([1,-1,-1])\n",
    "w = vector([5,4,9])\n",
    "\n",
    "# Basis matrix\n",
    "Bnew = matrix([[-3,1,5],[2,-1,4],[-3,-1,9]]) \n",
    "print(\"Basis matrix:\")\n",
    "show(Bnew)\n",
    "\n",
    "x = vector([5,6,7])\n",
    "print(\"Vector x:\")\n",
    "show(x)\n",
    "\n",
    "# Vector components of x in new basis(Bnew)\n",
    "print(\"Vector components:\")\n",
    "show(Bnew.inverse() * x)\n",
    "\n",
    "# Vector x as LC of u,v,w\n",
    "LC = 23/20 * u + 17/10 * v + 27/20 * w\n",
    "print(\"Vector x as LC of u,v,w:\")\n",
    "print(\"\")\n",
    "print(\"23/20 * u + 17/10 * v + 27/20 * w = \", LC)\n"
   ]
  },
  {
   "cell_type": "markdown",
   "metadata": {},
   "source": [
    "### b. Change of Basis to a Subspace"
   ]
  },
  {
   "cell_type": "code",
   "execution_count": null,
   "metadata": {},
   "outputs": [],
   "source": [
    "# New basis vectors \n",
    "sb1 = vector([1,2,3])\n",
    "sb2 = vector([0,-6,-22])\n",
    "\n",
    "# Basis matrix\n",
    "SBnew = matrix([[1,0],[2,-6],[3,-22]]) \n",
    "print(\"Basis matrix:\")\n",
    "show(SBnew)\n",
    "\n",
    "x = vector([9,12,5])\n",
    "print(\"Vector x:\")\n",
    "show(x)\n",
    "\n",
    "# Vector components of x in new basis(Bnew)\n",
    "SBnew_leftinv = (SBnew.T * SBnew).inverse() * SBnew.T\n",
    "print(\"Left inverse:\")\n",
    "show(SBnew_leftinv)\n",
    "print(\"Vector components:\")\n",
    "show(SBnew_leftinv * x)\n",
    "\n",
    "# Vector x as LC of sb1 and sb2\n",
    "LC = 9 * sb1 + 1 * sb2\n",
    "print(\"Vector x as LC of sb1,sb2 :\")\n",
    "print(\"\")\n",
    "print(\"9 * sb1 + 1 * sb2 = \", LC)"
   ]
  },
  {
   "cell_type": "markdown",
   "metadata": {},
   "source": [
    "## 3. Projection of Vectors"
   ]
  },
  {
   "cell_type": "code",
   "execution_count": null,
   "metadata": {},
   "outputs": [],
   "source": [
    "# Method 1 - using formula directly to calculate projections\n",
    "a1 = vector([1,2,3])\n",
    "a2 = vector([1,-1,1])\n",
    "\n",
    "#Parallel component of a2 (projection of a2 on a1)\n",
    "a2_parallel = (a1.dot_product(a2)/norm(a1)^2)*a1\n",
    "show(a2_parallel)\n",
    "\n",
    "#Perpendicular component of a2\n",
    "a2_perpendicular = a2 - a2_parallel\n",
    "show(a2_perpendicular)\n",
    "\n",
    "#Check whether a2_perpendicular is orthogonal to a1\n",
    "a1.dot_product(a2_perpendicular)"
   ]
  },
  {
   "cell_type": "code",
   "execution_count": null,
   "metadata": {},
   "outputs": [],
   "source": [
    "# Method 2 - create a function to calculate projection of b in the direction of a\n",
    "def orthogonal_projection(b,a):\n",
    "    return (b.dot_product(a)/norm(a)^2)*a"
   ]
  },
  {
   "cell_type": "code",
   "execution_count": null,
   "metadata": {},
   "outputs": [],
   "source": [
    "#Use above function to calculate projection of a2 on a1\n",
    "a2_parallel = orthogonal_projection(a2,a1)\n",
    "show(a2_parallel)"
   ]
  },
  {
   "cell_type": "markdown",
   "metadata": {},
   "source": [
    "## 4. Gram-Schmidt Process"
   ]
  },
  {
   "cell_type": "code",
   "execution_count": null,
   "metadata": {},
   "outputs": [],
   "source": [
    "A = matrix([[1,0],[1,1]])\n",
    "show(A)\n",
    "\n",
    "# Column vectors of A\n",
    "v1 = vector([1,1])\n",
    "v2 = vector([0,1])\n"
   ]
  },
  {
   "cell_type": "code",
   "execution_count": null,
   "metadata": {},
   "outputs": [],
   "source": [
    "# Function to calculate orthogonal projection\n",
    "def proj(v,q):\n",
    "    return (v.dot_product(q))*q\n",
    "\n",
    "q1 = v1/norm(v1)\n",
    "\n",
    "#Projection of v2 on to q1\n",
    "v2_parallel = proj(v2,q1)\n",
    "\n",
    "#Find perpendicular component of v2\n",
    "v2_perpendicular = v2 - v2_parallel\n",
    "\n",
    "#Calculate q2\n",
    "q2 = v2_perpendicular/norm(v2_perpendicular)\n",
    "\n",
    "show(q1)\n",
    "show(q2)\n",
    "print(\"\")\n",
    "Q = matrix([[q1[0], q2[0]],[q1[1], q2[1]]])\n",
    "show(Q)\n",
    "\n",
    "# Check whether column vectors q1 and q2 are orthonormal\n",
    "print(\"Norm of q1 = 1? \", norm(q1) == 1)\n",
    "print(\"Norm of q2 = 1? \", norm(q2) == 1)\n",
    "print(\"Dot product = 0?\", q1.dot_product(q2) == 0)\n",
    "\n",
    "print(\"Is Q orthonormal?\", Q.inverse() == Q.T)"
   ]
  },
  {
   "cell_type": "markdown",
   "metadata": {},
   "source": [
    "## 5. QR Decomposition"
   ]
  },
  {
   "cell_type": "code",
   "execution_count": null,
   "metadata": {},
   "outputs": [],
   "source": [
    "# Using A and Q matrices from (4)\n",
    "\n",
    "R = Q.T * A\n",
    "show(R) # It's an upper triangular matrix"
   ]
  }
 ],
 "metadata": {
  "kernelspec": {
   "display_name": "SageMath 9.1",
   "language": "sage",
   "name": "sagemath"
  },
  "language_info": {
   "codemirror_mode": {
    "name": "ipython",
    "version": 3
   },
   "file_extension": ".py",
   "mimetype": "text/x-python",
   "name": "python",
   "nbconvert_exporter": "python",
   "pygments_lexer": "ipython3",
   "version": "3.7.3"
  }
 },
 "nbformat": 4,
 "nbformat_minor": 4
}
