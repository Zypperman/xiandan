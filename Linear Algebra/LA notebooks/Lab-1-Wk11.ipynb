{
 "cells": [
  {
   "cell_type": "markdown",
   "metadata": {},
   "source": [
    "# Lab-1-Wk11 - Page Rank\n",
    "\n",
    "Watch [PageRank](https://www.youtube.com/watch?v=F5fcEtqysGs)  \n",
    "\n",
    "- The page rank of a website is determined from:\n",
    "    - The number of websites that link to it\n",
    "    - The significance (page rank) of the websites that link to it\n",
    "- We use an __adjacency matrix__, $R$ to denote the links among websites\n",
    "    - Rows denote the outward links    \n",
    "    - Columns denote inward links\n",
    "    - The inward links are also called its backlinks\n",
    "- We will then define a __link matrix__, $L$ \n",
    "    - Columns denote the outward links    \n",
    "    - Rows denote inward links\n",
    "    - *Note that this is reversed with respect to the Adjacency matrix $R$*\n",
    "    - We will normalize each column to one\n",
    "    - This means a random surfer on one website has equal probability of ending up on any of the site that it links to.\n",
    "- Take a look at the example shown below:  \n",
    "<img src=\"Lab1.png\" width=\"400\" height=\"250\" >  \n",
    "- To get the page rank of a website __A__, we need to know which of the websites  link to it (in our case - **B, C, D, E**)\n",
    "- We will use vector $r$, to store the page ranks of *all* web pages.\n",
    "- Page Rank of __A__ is the sum of page ranks of all the websites linking to it, weighted by specific link probability taken from link matrix, $L$.\n",
    "    - Clearly, this problem is self-referential\n",
    "    - We can write it as $r = Lr$\n",
    "    - We are, therefore, looking for an eigen vector of $L$ with an eigenvalue 1\n",
    "- In our case, the link matrix $L$ is a $5\\times5$ matrix and we can solve it exactly\n",
    "- In real life though, the link matrix is huge (say couple of billion rows and columns), and we need only one eigenvector\n",
    "    - Our best strategy, therefore, is to solve it iteratively\n",
    "    - We start by assuming page ranks of all websites to be same   \n",
    "    - $r = [1/5, 1/5, 1/5, 1/5, 1/5]$\n",
    "    - We will then say, $r_{i+1} = L* r_{i}$ and iterate until $r$ stops changing\n",
    "\n",
    "- We will build the __Link matrix__, $L$ in two steps:\n",
    "    - Let's make the __Adjacency Matrix__, $R$ to denote the links among websites\n",
    "    - We can then build the __Link matrix__, $L$ from $R^T$ by normalizing each column by total number of outward links"
   ]
  },
  {
   "cell_type": "code",
   "execution_count": null,
   "metadata": {},
   "outputs": [],
   "source": [
    "# Matrix R determines the arrows between the websites. Called as an adjacency matrix\n",
    "R = matrix([[0,1,0,1,0],[1,0,1,0,0],[1,1,0,1,0],[1,0,0,0,1],[1,1,0,0,0]])\n",
    "print(\" A B C D E\")\n",
    "print(R)"
   ]
  },
  {
   "cell_type": "code",
   "execution_count": null,
   "metadata": {},
   "outputs": [],
   "source": [
    "# Plot the web network\n",
    "W = DiGraph(R)\n",
    "W.relabel({0:'A' , 1:'B', 2:'C', 3:'D', 4:'E'})\n",
    "W.plot()"
   ]
  },
  {
   "cell_type": "markdown",
   "metadata": {},
   "source": [
    "## Find the Link Matrix"
   ]
  },
  {
   "cell_type": "code",
   "execution_count": null,
   "metadata": {},
   "outputs": [],
   "source": [
    "# Secondly, we find the link matrix.\n",
    "n = R.ncols() # counts the number of columns of R\n",
    "l = vector(0 for i in range(n))\n",
    "for i in range(n):\n",
    "     l[i] = sum(R[i, j] for j in range(n)) # counts the number of links on page i\n",
    "\n",
    "# n by n zero matrix\n",
    "L = matrix(QQ,n)\n",
    "for i in range(n):\n",
    "    for j in range(n):\n",
    "        L[j, i] = R[i,j]/l[i] # Note that i & j are inverted in L: Taking the transpose()\n",
    "print(\"The Link Matrix L: \")\n",
    "show(L)"
   ]
  },
  {
   "cell_type": "markdown",
   "metadata": {},
   "source": [
    "## Points to Ponder\n",
    "- A square matrix, with non-negative elements is called a **Markov** matrix if the elements in each column sum to one\n",
    "- It is also **column-stochastic** if the elements in each column sum to one\n",
    "- Every Markov matrix has 1 as an eigenvalue. Why?\n",
    "- *Hints:*\n",
    "    - Just write down the eigenvalue matrix equation and you will see it immediately\n",
    "- There is a **row-stochastic** matrix (which is the transpose of a **column-stochastic** matrix) with row elements adding up to one\n",
    "    - It clearly has an eigenvector with eigenvalue 1\n",
    "        - Why?\n",
    "        - What is this eigenvector?\n",
    "- What is the relationship between the eigenvectors of transposes?\n",
    "    - What are the **left** and **right** eigenvectors?\n",
    "    - Ok, try this [webpage](https://www.quora.com/Is-there-a-relationship-between-the-eigenvectors-of-a-matrix-and-its-transpose)"
   ]
  },
  {
   "cell_type": "markdown",
   "metadata": {},
   "source": [
    "## Compute using $r_{i+1} = Lr_{i}$"
   ]
  },
  {
   "cell_type": "code",
   "execution_count": null,
   "metadata": {},
   "outputs": [],
   "source": [
    "# To print matrices and vectors with lower precision\n",
    "CC10 = ComplexField(prec = 15)\n",
    "MatPrint = MatrixSpace(CC10, 5, 5)\n",
    "VecPrint = VectorSpace(CC10, 5)"
   ]
  },
  {
   "cell_type": "code",
   "execution_count": null,
   "metadata": {},
   "outputs": [],
   "source": [
    "print(\"Link Matrix L: \")\n",
    "show(L)\n",
    "\n",
    "r = vector(RR, 5, [1/5,1/5,1/5,1/5,1/5])\n",
    "print(\"Initial page ranks:\")\n",
    "show(VecPrint(r))\n",
    "    \n",
    "for i in range(0,11):\n",
    "    r = L * r\n",
    "    print(\"  Iteration: \", i)\n",
    "    show(VecPrint(r))\n",
    "\n",
    "# Save the page ranks as r_iterative\n",
    "r_iterative = r"
   ]
  },
  {
   "cell_type": "code",
   "execution_count": null,
   "metadata": {},
   "outputs": [],
   "source": [
    "# To print matrices and vectors with lower precision\n",
    "CC10 = ComplexField(prec = 15)\n",
    "MatPrint = MatrixSpace(CC10, 5, 5)\n",
    "VecPrint = VectorSpace(CC10, 5)"
   ]
  },
  {
   "cell_type": "markdown",
   "metadata": {},
   "source": [
    "## Compute using eigenvalues, eigenvectors"
   ]
  },
  {
   "cell_type": "code",
   "execution_count": null,
   "metadata": {
    "scrolled": false
   },
   "outputs": [],
   "source": [
    "print(\"Eigenvalues of L:\")\n",
    "show(VecPrint(L.eigenvalues()))\n",
    "\n",
    "pretty_print(html(\"<b>Every Markov matrix has 1 as an eigenvalue</b>\"))\n",
    "\n",
    "# Compute eigenmatrix which contains both eignevalues and eigenvectors\n",
    "# Can retrieve eigenvalues and eigenvectors from eigenmatrix_right\n",
    "Lambda, S = L.eigenmatrix_right()\n",
    "\n",
    "print(\"Eigenvalues: \")\n",
    "show(MatPrint(Lambda))\n",
    "\n",
    "print(\"Eigenvectors: \")\n",
    "show(MatPrint(S))"
   ]
  },
  {
   "cell_type": "markdown",
   "metadata": {},
   "source": [
    "- $r$ is the first eigenvector (with eigenvalue = 1)\n",
    "- But we need to normalize it so that the sum is 1 (probabilities should add to 1)"
   ]
  },
  {
   "cell_type": "code",
   "execution_count": null,
   "metadata": {},
   "outputs": [],
   "source": [
    "r = vector(S[:,0])\n",
    "r = r/sum(r)\n",
    "show(VecPrint(r))\n",
    "\n",
    "# Save the page ranks as r_iterative\n",
    "r_eigen = r"
   ]
  },
  {
   "cell_type": "code",
   "execution_count": null,
   "metadata": {},
   "outputs": [],
   "source": [
    "# Compare r_iterative and r_eigen\n",
    "r_diff = r_iterative - r_eigen\n",
    "print(\"Difference between Iterative and Exact methods: \", round(r_diff.norm(),4))\n",
    "print(\"Relative Difference: \", round(r_diff.norm() / r_eigen.norm() * 100, 2), \"%\")"
   ]
  },
  {
   "cell_type": "code",
   "execution_count": null,
   "metadata": {},
   "outputs": [],
   "source": []
  }
 ],
 "metadata": {
  "kernelspec": {
   "display_name": "SageMath 9.1",
   "language": "sage",
   "name": "sagemath"
  },
  "language_info": {
   "codemirror_mode": {
    "name": "ipython",
    "version": 3
   },
   "file_extension": ".py",
   "mimetype": "text/x-python",
   "name": "python",
   "nbconvert_exporter": "python",
   "pygments_lexer": "ipython3",
   "version": "3.7.3"
  }
 },
 "nbformat": 4,
 "nbformat_minor": 1
}
