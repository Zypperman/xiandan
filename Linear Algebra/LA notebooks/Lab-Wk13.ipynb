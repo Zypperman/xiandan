{
 "cells": [
  {
   "cell_type": "markdown",
   "metadata": {},
   "source": [
    "# Lab-Wk13\n",
    "## Building Examples for Chapter 13. And more...\n",
    "* Buld a matrix from S, Lambda, S^T\n",
    "* Find its SVD\n",
    "* Verify and print out\n",
    "* Do the same with U, Sig and V^T"
   ]
  },
  {
   "cell_type": "code",
   "execution_count": null,
   "metadata": {
    "scrolled": false
   },
   "outputs": [],
   "source": [
    "# For eigenvalues and eigenvectors\n",
    "# Start with a specified rotation\n",
    "r2 = 1/sqrt(2)\n",
    "t = -pi/6\n",
    "ct = cos(t)\n",
    "st = sin(t)\n",
    "# Q = matrix(RDF, [[ct, -st], [st, ct]])\n",
    "Q = matrix([[ct, -st], [st, ct]])\n",
    "show(Q.transpose())\n",
    "LB = matrix([[3/2, 0], [0, 1/2]])\n",
    "show(LB)\n",
    "show(LB * Q.transpose())\n",
    "A = Q * LB * Q.transpose()\n",
    "# \n",
    "show(A)"
   ]
  },
  {
   "cell_type": "code",
   "execution_count": null,
   "metadata": {
    "scrolled": false
   },
   "outputs": [],
   "source": [
    "# To cast the matrix into RDF with limited precision\n",
    "def roundit(mat, k=3):\n",
    "    dim = mat.dimensions()\n",
    "    l = [[RDF(round(mat[i,j],k)) for j in range(dim[1])] for i in range(dim[0])]\n",
    "    matr = matrix(RDF, l)\n",
    "    return matr\n",
    "                                                 \n",
    "Ardf = roundit(A)\n",
    "show(Ardf)\n",
    "\n",
    "# SVD needs RDF matrices\n",
    "U, S, V = Ardf.SVD()\n",
    "\n",
    "# Verify\n",
    "show(roundit( U * S * V.inverse()))\n",
    "print\n",
    "\n",
    "# First multiplication\n",
    "# mat = roundit(V.transpose())\n",
    "# print(\"V^T =\",  latex(mat))\n",
    "# show(mat)\n",
    "mat = roundit(Q.transpose())\n",
    "print(\"(1) V^T = Q^T =\",  latex(mat))\n",
    "show(mat)\n",
    "\n",
    "# Second multiplication\n",
    "# mat = roundit(S * V.transpose())\n",
    "# print(\"Sigma * V^T =\",  latex(mat))\n",
    "mat = roundit(LB * Q.transpose())\n",
    "print(\"(2) Sigma * V^T = LB * Q^T =\",  latex(mat))\n",
    "show(mat)\n",
    "\n",
    "# Thirde multiplication\n",
    "# mat = roundit(U * S * V.transpose())\n",
    "# print(\"U * Sigma * V^T =\",  latex(mat))\n",
    "mat = roundit(Q * LB * Q.transpose())\n",
    "print(\"(3) U * Sigma * V^T = Q * LB * Q^T =\",  latex(mat))\n",
    "show(mat)\n"
   ]
  },
  {
   "cell_type": "code",
   "execution_count": null,
   "metadata": {
    "scrolled": false
   },
   "outputs": [],
   "source": [
    "# Rotation\n",
    "tv = -pi/6\n",
    "ct = cos(tv)\n",
    "st = sin(tv)\n",
    "V = matrix([[ct, -st], [st, ct]])\n",
    "tu = -pi/3\n",
    "ct = cos(tu)\n",
    "st = sin(tu)\n",
    "U = matrix([[ct, -st], [st, ct]])\n",
    "print(\"V^T\")\n",
    "show(V.transpose())\n",
    "Sig = matrix([[3/2, 0], [0, 1/2]])\n",
    "print(\"Sigma\")\n",
    "show(Sig)\n",
    "print(\"Sigma * V^T\")\n",
    "show(Sig * V.transpose())\n",
    "A = U * Sig * V.transpose()\n",
    "print(\"A = U * Sigma * V^T\")\n",
    "show(A)"
   ]
  },
  {
   "cell_type": "code",
   "execution_count": null,
   "metadata": {},
   "outputs": [],
   "source": [
    "# LaTeX printouts\n",
    "print(\"A = \", latex(A))\n",
    "print(\"U = \", latex(U))\n",
    "print(\"Sigma = \", latex(Sig))\n",
    "print(\"V = \", latex(V))"
   ]
  },
  {
   "cell_type": "code",
   "execution_count": null,
   "metadata": {},
   "outputs": [],
   "source": [
    "# Numeric values for plotting them\n",
    "\n",
    "Ardf = roundit(A)\n",
    "show(Ardf)\n",
    "\n",
    "# SVD needs RDF matrices\n",
    "U1, Sig1, V1 = Ardf.SVD()\n",
    "\n",
    "# Verify\n",
    "show(roundit( U1 * Sig1 * V1.inverse()))\n",
    "print\n",
    "\n",
    "# First multiplication\n",
    "# mat = roundit(V.transpose())\n",
    "# print(\"V^T =\",  latex(mat))\n",
    "# show(mat)\n",
    "mat = roundit(V.transpose())\n",
    "print(\"(1) V^T = \",  latex(mat))\n",
    "show(mat)\n",
    "\n",
    "# Second multiplication\n",
    "# mat = roundit(S * V.transpose())\n",
    "# print(\"Sigma * V^T =\",  latex(mat))\n",
    "mat = roundit(Sig * V.transpose())\n",
    "print(\"(2) Sigma * V^T =\",  latex(mat))\n",
    "show(mat)\n",
    "\n",
    "# Thirde multiplication\n",
    "# mat = roundit(U * S * V.transpose())\n",
    "# print(\"U * Sigma * V^T =\",  latex(mat))\n",
    "mat = roundit(U * Sig * V.transpose())\n",
    "print(\"(3) U * Sigma * V^T =\",  latex(mat))\n",
    "show(mat)\n",
    "\n"
   ]
  },
  {
   "cell_type": "code",
   "execution_count": null,
   "metadata": {},
   "outputs": [],
   "source": [
    "# Plotting example. To debug. Unused\n",
    "f(x) = sqrt(1-x^2)\n",
    "g(x) = -sqrt(1-x^2)plot(f) + plot(g)"
   ]
  },
  {
   "cell_type": "code",
   "execution_count": null,
   "metadata": {},
   "outputs": [],
   "source": [
    "# Fancy rendition of matrix from the Web. Unused.\n",
    "var('t')\n",
    "@interact\n",
    "def _(A=matrix(RDF,[[1,0],[0,1]]),auto_update=False):\n",
    "    pll=A*vector((-0.5,0.5))\n",
    "    plr=A*vector((-0.3,0.5))\n",
    "    prl=A*vector((0.3,0.5))\n",
    "    prr=A*vector((0.5,0.5))\n",
    "    left_eye=line([pll,plr])+point(pll,size=5)+point(plr,size=5)\n",
    "    right_eye=line([prl,prr],color='green')+point(prl,size=5,color='green')+point(prr,size=5,color='green')\n",
    "    mouth=parametric_plot(A*vector([t, -0.15*sin(2*pi*t)-0.5]), (t, -0.5,\n",
    "0),color='red')+parametric_plot(A*vector([t, -0.15*sin(2*pi*t)-0.5]), (t,0,0.5),color='orange')\n",
    "    face=parametric_plot(A*vector([cos(t),sin(t)]),\n",
    "(t,0,pi/2),color='black')+parametric_plot(A*vector([cos(t),sin(t)]),\n",
    "(t,pi/2,pi),color='lavender')+parametric_plot(A*vector([cos(t),sin(t)]),\n",
    "(t,pi,3*pi/2),color='cyan')+parametric_plot(A*vector([cos(t),sin(t)]),(t,3*pi/2,2*pi),color='sienna')\n",
    "    P=right_eye+left_eye+face+mouth\n",
    "    html('smiley guy transformed by $A$')\n",
    "    P.show(aspect_ratio=1,figsize=4)"
   ]
  },
  {
   "cell_type": "code",
   "execution_count": null,
   "metadata": {},
   "outputs": [],
   "source": [
    "# Test VVT for full-column rank V\n",
    "# Rotation\n",
    "tv = -pi/6\n",
    "ct = cos(tv)\n",
    "st = sin(tv)\n",
    "V = matrix([[ct, -st], [st, ct],[0,0]])\n",
    "show(V)"
   ]
  },
  {
   "cell_type": "code",
   "execution_count": null,
   "metadata": {},
   "outputs": [],
   "source": [
    "show(V.transpose() * V)\n",
    "show(V * V.transpose())"
   ]
  },
  {
   "cell_type": "code",
   "execution_count": null,
   "metadata": {},
   "outputs": [],
   "source": [
    "# Another random ortho matrix\n",
    "G = MatrixSpace(RDF,5)\n",
    "M = G.random_element()\n",
    "Q = M.QR()[0]\n",
    "Vt = matrix(Q.columns()[0:2])\n",
    "V = Vt.transpose()\n",
    "print(Vt*V)\n",
    "print(V*Vt)"
   ]
  },
  {
   "cell_type": "code",
   "execution_count": null,
   "metadata": {},
   "outputs": [],
   "source": [
    "V.dimensions()"
   ]
  },
  {
   "cell_type": "code",
   "execution_count": null,
   "metadata": {},
   "outputs": [],
   "source": [
    "# Another random ortho matrix\n",
    "G = MatrixSpace(RDF,10,7)\n",
    "A = G.random_element()\n",
    "# print(A)\n",
    "U, Sig, V = A.SVD()\n",
    "# print(Sig)\n",
    "def roundit(mat, k=3):\n",
    "    dim = mat.dimensions()\n",
    "    l = [[RDF(round((mat[i,j]),k)) for j in range(dim[1])] for i in range(dim[0])]\n",
    "    matr = matrix(RDF, l)\n",
    "    return matr\n",
    "print(\"Ut U\\n\", roundit(U.transpose()*U))\n",
    "\n",
    "print(\"\\nUt U\\n\",roundit(U*U.transpose()))"
   ]
  },
  {
   "cell_type": "code",
   "execution_count": null,
   "metadata": {},
   "outputs": [],
   "source": [
    "Ap = V * Sig.pseudoinverse() * U.transpose()\n",
    "Uh = U[ :, 0:7]\n",
    "Vh = V[ :, 0:7]\n",
    "Sigh = Sig[0:7, 0:7]\n",
    "Aph = Vh * Sigh.inverse() * Uh.transpose()\n"
   ]
  },
  {
   "cell_type": "code",
   "execution_count": null,
   "metadata": {},
   "outputs": [],
   "source": [
    "print(roundit(Ap))\n",
    "print()\n",
    "print(roundit(Aph))"
   ]
  },
  {
   "cell_type": "code",
   "execution_count": null,
   "metadata": {},
   "outputs": [],
   "source": [
    "print(roundit(A*Ap*A-A))"
   ]
  },
  {
   "cell_type": "code",
   "execution_count": null,
   "metadata": {},
   "outputs": [],
   "source": []
  }
 ],
 "metadata": {
  "kernelspec": {
   "display_name": "SageMath 9.1",
   "language": "sage",
   "name": "sagemath"
  },
  "language_info": {
   "codemirror_mode": {
    "name": "ipython",
    "version": 3
   },
   "file_extension": ".py",
   "mimetype": "text/x-python",
   "name": "python",
   "nbconvert_exporter": "python",
   "pygments_lexer": "ipython3",
   "version": "3.7.3"
  }
 },
 "nbformat": 4,
 "nbformat_minor": 1
}
