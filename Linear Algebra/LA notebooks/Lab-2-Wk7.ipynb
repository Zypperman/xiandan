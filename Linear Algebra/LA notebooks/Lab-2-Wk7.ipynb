{
 "cells": [
  {
   "cell_type": "markdown",
   "metadata": {},
   "source": [
    "# Perspective Correction\n",
    "## Real Example\n",
    "Let's take a real image and try to correct its perspective.  \n",
    "We can correct only the rotation and translation, not the projective part."
   ]
  },
  {
   "cell_type": "code",
   "execution_count": null,
   "metadata": {},
   "outputs": [],
   "source": [
    "# import the required libraries\n",
    "import matplotlib\n",
    "import matplotlib.pyplot as plt\n",
    "\n",
    "# Read the image in\n",
    "knuth = matplotlib.image.imread('Knuth.png')\n",
    "print(type(knuth))\n",
    "print(\"Knuth shape: \"), knuth.shape\n",
    "\n",
    "KnuthPlot = plt.imshow(knuth)"
   ]
  },
  {
   "cell_type": "code",
   "execution_count": null,
   "metadata": {},
   "outputs": [],
   "source": [
    "# Locations of the corners of the book\n",
    "# 3000- coordinate so that the shape looks similar to the image in the plotList call\n",
    "b0 = vector(SR, [209, 3000-835, 1])\n",
    "b1 = vector(SR, [1375, 3000-380, 1])\n",
    "b2 = vector(SR, [2720, 3000-1530, 1])\n",
    "b3 = vector(SR, [1295, 3000-2428, 1])\n",
    "bList = [b0, b1, b2, b3]\n",
    "show(bList)\n",
    "\n",
    "def plotList(v3List, color):\n",
    "    v2List = [vector([v3[0], v3[1]]) for v3 in v3List]\n",
    "    return polygon2d(v2List, color = color)\n",
    "\n",
    "plotList(bList, 'blue')"
   ]
  },
  {
   "cell_type": "code",
   "execution_count": null,
   "metadata": {},
   "outputs": [],
   "source": [
    "# Locations of the corners of the book in the perspective-rectified image\n",
    "x0 = vector(SR, [1, 3000-1, 1])\n",
    "x1 = vector(SR, [2100, 3000-1, 1])\n",
    "x2 = vector(SR, [2100, 3000-2800, 1])\n",
    "x3 = vector(SR, [1, 3000-2800, 1])\n",
    "xList = [x0, x1, x2, x3]\n",
    "show(xList)\n",
    "plotList(xList, 'red')"
   ]
  },
  {
   "cell_type": "code",
   "execution_count": null,
   "metadata": {},
   "outputs": [],
   "source": [
    "# Use the inverse of A (which we called C in Lab 1) to go from B (with distortion) to x (without)\n",
    "X = matrix(xList).transpose()\n",
    "B = matrix(bList).transpose()\n",
    "C = X * B.transpose() * ( B * B.transpose() ).inverse()\n",
    "C = C / C[2,2]\n",
    "C = C.n(digits=4)\n",
    "show (\"C = A.inverse = \", C)"
   ]
  },
  {
   "cell_type": "code",
   "execution_count": null,
   "metadata": {},
   "outputs": [],
   "source": [
    "x1List = [C * b for b in bList]\n",
    "plotList(x1List, color='blue')"
   ]
  },
  {
   "cell_type": "code",
   "execution_count": null,
   "metadata": {},
   "outputs": [],
   "source": [
    "# A can be computed in a different way (see Lab 1) with full precision (in rational field)\n",
    "A = B * X.transpose() * ( X * X.transpose() ).inverse()\n",
    "show(\"A.inverse = \", A.inverse())"
   ]
  },
  {
   "cell_type": "code",
   "execution_count": null,
   "metadata": {},
   "outputs": [],
   "source": [
    "# Recomputing the perspective rectification\n",
    "Y = A.inverse() * B\n",
    "yList = [vector(y) for y in Y.columns()]\n",
    "show(yList)\n",
    "plotList(yList, 'green')"
   ]
  },
  {
   "cell_type": "code",
   "execution_count": null,
   "metadata": {},
   "outputs": [],
   "source": [
    "# Full precision computation of C once more\n",
    "# Considering C * B = X ==> C = X * B^-1 = B^T (BB^T)^-1\n",
    "C = X * B.transpose() * (B * B.transpose()).inverse()\n",
    "Z = C * B\n",
    "zList = [vector(z) for z in Z.columns()]\n",
    "show(zList)\n",
    "plotList(zList, 'green')"
   ]
  },
  {
   "cell_type": "markdown",
   "metadata": {},
   "source": [
    "## Your Turn!\n",
    "You have the matrices $ \\boldsymbol{A}^{-1}$ or $ \\boldsymbol{C}$ now. Complete the task of correcting the image `Knuth.png`.\n",
    "\n",
    "From the first file of the activity:  \n",
    "You take the photo to be corrected, identify the location of each pixel as a vector $(x, y, 1)$, transform it to $(x', y', 1)$, and assign the same image value to it. In other words, the RGB value that was at $(x, y)$ of the original image will get assigned to the pixel at $(x', y')$ in the new image. Obviously, some distortions may happen, and you may have to apply advanced techniques like anti-aliasing or (spline) smoothing.\n",
    "- Figure out how to get the position of each pixel in `Knuth.png`. This would be just the pixel indices in $x$ and $y$ directions.\n",
    "- Get RGB value from each pixel\n",
    "- Create a new image of appropriate size\n",
    "- Compute $(x', y')$ using matrix multiplication. Note: You may have to scale the vector so that you get 1 in the third coordinate, as in $(x', y', 1)$\n",
    "- Assign the RGB value from the original image at $(x, y)$\n",
    "- Plot the image"
   ]
  },
  {
   "cell_type": "markdown",
   "metadata": {},
   "source": [
    "## Ponder\n",
    "- Why don't we get the perfect rectangle (as the red one we were looking for)?\n",
    "- Try the \"kindergarten\" way to solve for each element of $A$ and see what you get."
   ]
  }
 ],
 "metadata": {
  "kernelspec": {
   "display_name": "SageMath 9.1",
   "language": "sage",
   "name": "sagemath"
  },
  "language_info": {
   "codemirror_mode": {
    "name": "ipython",
    "version": 3
   },
   "file_extension": ".py",
   "mimetype": "text/x-python",
   "name": "python",
   "nbconvert_exporter": "python",
   "pygments_lexer": "ipython3",
   "version": "3.7.3"
  }
 },
 "nbformat": 4,
 "nbformat_minor": 2
}
