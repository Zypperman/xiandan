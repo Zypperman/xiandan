{
 "cells": [
  {
   "cell_type": "markdown",
   "metadata": {},
   "source": [
    "# Multiple Linear Regression \n",
    "- The young adults data set (**`Young-Adults.csv`**) contains five columns. **`Height`**, **`Weight`**, **`HairLength`**, **`Age`** and **`Sex`**. \n",
    "- Let's develop a linear regression model. \n",
    "- This is similar to the one in  `Activity-Wk10.ipynb`"
   ]
  },
  {
   "cell_type": "code",
   "execution_count": null,
   "metadata": {},
   "outputs": [],
   "source": [
    "# Read the data from csv file\n",
    "import csv\n",
    "reader=csv.reader(open('YoungAdults.csv'), delimiter=',')\n",
    "next(reader, None)  # skip the headers\n",
    "data = matrix(QQ, [map(float, row[0:4]) for row in reader])\n",
    "print(\"Number of observations in the data file YoungAdults.csv:\", data.dimensions()[0])"
   ]
  },
  {
   "cell_type": "markdown",
   "metadata": {},
   "source": [
    "## Prepare the _design matrix_\n",
    "Use **`Height`** and **`Weight`** as the independent variables and **`HairLength`** as the dependent variable. Prepare the **design matrix** ($\\boldsymbol X$)  and the **dependent column vector** ($\\boldsymbol y$). "
   ]
  },
  {
   "cell_type": "code",
   "execution_count": null,
   "metadata": {},
   "outputs": [],
   "source": [
    "# Split the data into independent (height = data.column(0), weight = data.column(1)) and \n",
    "# dependent (y = data.column(3)) parts\n",
    "# Build the design matrix [1, height, weight]\n",
    "dim = data.dimensions()\n",
    "print(\"dim\", dim)\n",
    "X = ones_matrix(RDF, dim[0], dim[1]-1)\n",
    "X[:, 1] = data.column(0)\n",
    "X[:, 2] = data.column(1)\n",
    "Y = matrix(data.column(3)).transpose()\n",
    "print(\"\")\n",
    "print(\"Ten rows of Designer Matrix X:\\n\", X[0:10,:])\n",
    "print(\"\")\n",
    "print(\"Ten elements of Dependent Variable Y:\\n\",Y[0:10,:])"
   ]
  },
  {
   "cell_type": "markdown",
   "metadata": {},
   "source": [
    "__Compute the parameters ($\\boldsymbol\\beta$) of linear regression using `projection`__\n",
    "$$\\boldsymbol{X^TX\\hat\\beta = X^Ty}$$\n",
    "\n",
    "$$\\boldsymbol{\\hat\\beta = (X^TX)^{-1}X^Ty}$$"
   ]
  },
  {
   "cell_type": "code",
   "execution_count": null,
   "metadata": {},
   "outputs": [],
   "source": [
    "var('x')\n",
    "Beta = ( X.transpose() * X ).inverse() * X.transpose() * Y\n",
    "print(\"Dimensions of Beta: \", Beta.dimensions())\n",
    "# Make Beta a vector\n",
    "Beta = vector(Beta)\n",
    "print(\"Parameter Estimates:\\n\", Beta)"
   ]
  },
  {
   "cell_type": "markdown",
   "metadata": {},
   "source": [
    "## Visualize Our Linear Regression"
   ]
  },
  {
   "cell_type": "code",
   "execution_count": null,
   "metadata": {
    "scrolled": false
   },
   "outputs": [],
   "source": [
    "# x = Height, y = Weigtht and z = HairLength\n",
    "var('Height, Weight, HairLength')\n",
    "HairLength = Beta[0] + Beta[1] * Height + Beta[2] * Weight\n",
    "show(plot3d(HairLength, (Height, 0, 200), (Weight, 0, 80)))"
   ]
  },
  {
   "cell_type": "code",
   "execution_count": null,
   "metadata": {},
   "outputs": [],
   "source": []
  }
 ],
 "metadata": {
  "kernelspec": {
   "display_name": "SageMath 9.1",
   "language": "sage",
   "name": "sagemath"
  },
  "language_info": {
   "codemirror_mode": {
    "name": "ipython",
    "version": 3
   },
   "file_extension": ".py",
   "mimetype": "text/x-python",
   "name": "python",
   "nbconvert_exporter": "python",
   "pygments_lexer": "ipython3",
   "version": "3.7.3"
  }
 },
 "nbformat": 4,
 "nbformat_minor": 2
}
