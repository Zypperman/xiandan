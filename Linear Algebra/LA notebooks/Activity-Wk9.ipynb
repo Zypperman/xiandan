{
 "cells": [
  {
   "cell_type": "markdown",
   "metadata": {},
   "source": [
    "# Activity-Wk9 : Objectives\n",
    "- Compute the spaces using row reduction techniques\n",
    "- Compute the spaces using SageMath built-in methods\n",
    "- Check solvability of equations \n",
    "- Try various shapes (square, tall and wide), full-rank and rank-deficient matrices and their spaces\n",
    "\n",
    "## 1. Compute the spaces using row reduction techniques"
   ]
  },
  {
   "cell_type": "code",
   "execution_count": null,
   "metadata": {},
   "outputs": [],
   "source": [
    "A = matrix(QQ,[[1,2,3,3],[2,0,6,2],[3,4,9,7]])\n",
    "print(\"A:\")\n",
    "show(A)\n",
    "\n",
    "# Elementary row operations to get RREF\n",
    "Acopy = copy(A)\n",
    "Acopy.add_multiple_of_row(1,0,-2)\n",
    "Acopy.add_multiple_of_row(2,0,-3)\n",
    "\n",
    "Acopy.rescale_row(1, -1/4)\n",
    "Acopy.rescale_row(2, -1/2)\n",
    "\n",
    "Acopy.add_multiple_of_row(2,1,-1)\n",
    "\n",
    "Acopy.add_multiple_of_row(0,1,-2)\n",
    "print(\"RREF of A :\")\n",
    "show(Acopy)"
   ]
  },
  {
   "cell_type": "code",
   "execution_count": null,
   "metadata": {},
   "outputs": [],
   "source": [
    "# Column space - pivot columns in A\n",
    "print(\"Column space of A: \", A.column(0), A.column(1))\n",
    "print(\"Dimension of column space of A:\", rank(A))\n",
    "# Column space is a subspace of R^3"
   ]
  },
  {
   "cell_type": "code",
   "execution_count": null,
   "metadata": {},
   "outputs": [],
   "source": [
    "# Row space - pivot rows in RREF of A\n",
    "print(\"Row space of A: \", Acopy.row(0), Acopy.row(1))\n",
    "print(\"Dimension of row space of A:\", rank(A))\n",
    "# Row space is a subspace of R^4"
   ]
  },
  {
   "cell_type": "code",
   "execution_count": null,
   "metadata": {},
   "outputs": [],
   "source": [
    "# Null space - solution of Ax = 0 (Using RREF instead of A to solve)\n",
    "# x3 and x4 are free variables.\n",
    "\n",
    "# Set x3 = 1, x4 =0\n",
    "var('x1,x2,x3,x4')\n",
    "x3 = 1\n",
    "x4 = 0\n",
    "eqn1 = x1 + 3*x3 + x4 == 0\n",
    "eqn2 = x2 + x4 == 0\n",
    "x1 = solve([eqn1],x1)[0].rhs()\n",
    "x2 = solve([eqn2],x2)[0].rhs()\n",
    "null_basis1 = vector([x1,x2,x3,x4])\n",
    "\n",
    "# Set x3 = 0, x4 =1\n",
    "var('x1,x2,x3,x4')\n",
    "x3 = 0\n",
    "x4 = 1\n",
    "eqn1 = x1 + 3*x3 + x4 == 0\n",
    "eqn2 = x2 + x4 == 0\n",
    "x1 = solve([eqn1],x1)[0].rhs()\n",
    "x2 = solve([eqn2],x2)[0].rhs()\n",
    "null_basis2 = vector([x1,x2,x3,x4])\n",
    "\n",
    "print(\"Null space of A: \", null_basis1, null_basis2)\n",
    "print(\"Dimension of null space of A:\", A.ncols() - rank(A))\n",
    "# Null space is a subspace of R^4"
   ]
  },
  {
   "cell_type": "code",
   "execution_count": null,
   "metadata": {},
   "outputs": [],
   "source": [
    "# Left null space - solution of A.T*x = 0 \n",
    "\n",
    "# Transpose of A\n",
    "AT = A.T\n",
    "\n",
    "# Elementary row operations to get RREF of A transpose\n",
    "ATcopy = copy(AT)\n",
    "ATcopy.add_multiple_of_row(1,0,-2)\n",
    "ATcopy.add_multiple_of_row(2,0,-3)\n",
    "ATcopy.add_multiple_of_row(3,0,-3)\n",
    "ATcopy.add_multiple_of_row(3,1,-1)\n",
    "\n",
    "ATcopy.rescale_row(1,-1/4)\n",
    "ATcopy.add_multiple_of_row(0,1,-2)\n",
    "print(\"RREF of A trnaspose:\")\n",
    "show(ATcopy)\n",
    "\n",
    "\n",
    "# Free variable x3. Set x3 = 1\n",
    "var('x1,x2,x3')\n",
    "x3 = 1\n",
    "eqn1 = x1 + 2*x3 == 0\n",
    "eqn2 = x2 + 1/2*x3 == 0\n",
    "x1 = solve([eqn1],x1)[0].rhs()\n",
    "x2 = solve([eqn2],x2)[0].rhs()\n",
    "left_null_basis1 = vector([x1,x2,x3])\n",
    "\n",
    "print(\"Left null space of A: \", left_null_basis1)\n",
    "print(\"Dimension of left null space of A:\", A.nrows() - rank(A))\n",
    "# Left null space is a subspace of R^3"
   ]
  },
  {
   "cell_type": "markdown",
   "metadata": {},
   "source": [
    "## 2. Compute the spaces using SageMath built-in methods"
   ]
  },
  {
   "cell_type": "code",
   "execution_count": null,
   "metadata": {},
   "outputs": [],
   "source": [
    "# Basis matrices returned by all these built-in methods is in its RREF form.\n",
    "# Hence they are not exactly same as what we computed in (1).\n",
    "\n",
    "# Column space\n",
    "A.column_space()"
   ]
  },
  {
   "cell_type": "code",
   "execution_count": null,
   "metadata": {},
   "outputs": [],
   "source": [
    "# Row space\n",
    "A.row_space()"
   ]
  },
  {
   "cell_type": "code",
   "execution_count": null,
   "metadata": {},
   "outputs": [],
   "source": [
    "# Null space\n",
    "A.right_kernel()"
   ]
  },
  {
   "cell_type": "code",
   "execution_count": null,
   "metadata": {},
   "outputs": [],
   "source": [
    "# Left null space\n",
    "A.kernel()"
   ]
  },
  {
   "cell_type": "markdown",
   "metadata": {},
   "source": [
    "## 3. Check solvability of equations"
   ]
  },
  {
   "cell_type": "code",
   "execution_count": null,
   "metadata": {},
   "outputs": [],
   "source": [
    "b = vector([1,-3,0])\n",
    "\n",
    "# Method 1 - Check whether b is in column space of A\n",
    "print(\"Method 1 : Is Ax = b solvable? \", b in A.column_space())\n",
    "\n",
    "# Method 2 - Checking solvability using RREF\n",
    "Ab = A.augment(b, true)\n",
    "show(Ab.rref())\n",
    "print(\"Method 2 : Ax = b can't be solved as there is an inconsistent row in RREF of A|b\")\n",
    "\n",
    "#Method 3 - Using ranks\n",
    "print(\"Method 3 : Is Ax = b solvable?\", Ab.rank() == A.rank())"
   ]
  },
  {
   "cell_type": "markdown",
   "metadata": {},
   "source": [
    "## 4. Try Matrices of Various Shapes and Their Spaces\n",
    " - Square, tall and wide\n",
    " - Rull-rank and rank-deficient"
   ]
  },
  {
   "cell_type": "code",
   "execution_count": null,
   "metadata": {},
   "outputs": [],
   "source": [
    "# Full rank square matrix\n",
    "A_sq_full_rank = matrix(QQ, [[1,4,5],[3,5,2],[6,1,2]])\n",
    "pretty_print(\"Square matrix A:\", A_sq_full_rank)\n",
    "print(\"Column space:\", A_sq_full_rank.column_space())\n",
    "print(\"Row space:\", A_sq_full_rank.row_space())\n",
    "print(\"Null space:\", A_sq_full_rank.right_kernel())\n",
    "print(\"Left null space:\", A_sq_full_rank.kernel())"
   ]
  },
  {
   "cell_type": "code",
   "execution_count": null,
   "metadata": {},
   "outputs": [],
   "source": [
    "# Rank deficient square matrix\n",
    "B_sq_rank_def = matrix(QQ, [[1,3,9],[2,4,-3],[4,8,-6]])\n",
    "pretty_print(\"Square matrix B:\", B_sq_rank_def)\n",
    "print(\"Column space:\", B_sq_rank_def.column_space())\n",
    "print(\"Row space:\", B_sq_rank_def.row_space())\n",
    "print(\"Null space:\", B_sq_rank_def.right_kernel())\n",
    "print(\"Left null space:\", B_sq_rank_def.kernel())"
   ]
  },
  {
   "cell_type": "code",
   "execution_count": null,
   "metadata": {},
   "outputs": [],
   "source": [
    "# Full rank tall matrix\n",
    "C_tall_full_rank = matrix(QQ, [[1,2],[5,9],[-7,0],[5,7]])\n",
    "pretty_print(\"Tall matrix C:\", C_tall_full_rank)\n",
    "print(\"Column space:\", C_tall_full_rank.column_space())\n",
    "print(\"Row space:\", C_tall_full_rank.row_space())\n",
    "print(\"Null space:\", C_tall_full_rank.right_kernel())\n",
    "print(\"Left null space:\", C_tall_full_rank.kernel())"
   ]
  },
  {
   "cell_type": "code",
   "execution_count": null,
   "metadata": {},
   "outputs": [],
   "source": [
    "# Rank deficient tall matrix\n",
    "D_tall_rank_def = matrix(QQ, [[1,2,4],[2,-5,-10],[0,3,6],[-1,-3,-6],[2,16,32],[1,0,0]])\n",
    "pretty_print(\"Tall matrix D:\", D_tall_rank_def)\n",
    "print(\"Column space:\", D_tall_rank_def.column_space())\n",
    "print(\"Row space:\", D_tall_rank_def.row_space())\n",
    "print(\"Null space:\", D_tall_rank_def.right_kernel())\n",
    "print(\"Left null space:\", D_tall_rank_def.kernel())"
   ]
  },
  {
   "cell_type": "code",
   "execution_count": null,
   "metadata": {},
   "outputs": [],
   "source": [
    "# Full rank wide matrix\n",
    "E_wide_full_rank = matrix(QQ, [[1,0,3,4],[2,5,-1,7]])\n",
    "pretty_print(\"Wide matrix E:\", E_wide_full_rank)\n",
    "print(\"Column space:\", E_wide_full_rank.column_space())\n",
    "print(\"Row space:\", E_wide_full_rank.row_space())\n",
    "print(\"Null space:\", E_wide_full_rank.right_kernel())\n",
    "print(\"Left null space:\", E_wide_full_rank.kernel())"
   ]
  },
  {
   "cell_type": "code",
   "execution_count": null,
   "metadata": {},
   "outputs": [],
   "source": [
    "# Rank deficient wide matrix\n",
    "F_wide_rank_def = matrix(QQ, [[1,0,3,4,1,2],[2,5,-1,7,3,8],[4,10,-2,14,6,16]])\n",
    "pretty_print(\"Wide matrix F:\", F_wide_rank_def)\n",
    "print(\"Column space:\", F_wide_rank_def.column_space())\n",
    "print(\"Row space:\", F_wide_rank_def.row_space())\n",
    "print(\"Null space:\", F_wide_rank_def.right_kernel())\n",
    "print(\"Left null space:\", F_wide_rank_def.kernel())"
   ]
  },
  {
   "cell_type": "code",
   "execution_count": null,
   "metadata": {},
   "outputs": [],
   "source": []
  }
 ],
 "metadata": {
  "kernelspec": {
   "display_name": "SageMath 9.1",
   "language": "sage",
   "name": "sagemath"
  },
  "language_info": {
   "codemirror_mode": {
    "name": "ipython",
    "version": 3
   },
   "file_extension": ".py",
   "mimetype": "text/x-python",
   "name": "python",
   "nbconvert_exporter": "python",
   "pygments_lexer": "ipython3",
   "version": "3.7.3"
  }
 },
 "nbformat": 4,
 "nbformat_minor": 4
}
