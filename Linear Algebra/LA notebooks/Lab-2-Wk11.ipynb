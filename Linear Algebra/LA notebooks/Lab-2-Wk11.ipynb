{
 "cells": [
  {
   "cell_type": "markdown",
   "metadata": {},
   "source": [
    "# Lab-2-Wk11 - Fibonacci numbers using eigenvalues"
   ]
  },
  {
   "cell_type": "code",
   "execution_count": null,
   "metadata": {},
   "outputs": [],
   "source": [
    "# The Fibonacci matrix\n",
    "A = matrix(QQ, 2, 2, [[1,1], [1, 0]])\n",
    "show(A)\n",
    "A.characteristic_polynomial()"
   ]
  },
  {
   "cell_type": "code",
   "execution_count": null,
   "metadata": {},
   "outputs": [],
   "source": [
    "lam = solve(x^2 - x - 1 == 0, x)\n",
    "l1 = lam[1].rhs()\n",
    "l2 = lam[0].rhs()\n",
    "show(l1)\n",
    "show(l2)"
   ]
  },
  {
   "cell_type": "code",
   "execution_count": null,
   "metadata": {},
   "outputs": [],
   "source": [
    "var('c1, c2')\n",
    "eq1 = c1 * l1 + c2 * l2 == 1\n",
    "eq2 = c1  + c2 == 0\n",
    "c = solve([eq1,eq2], c1, c2)"
   ]
  },
  {
   "cell_type": "code",
   "execution_count": null,
   "metadata": {},
   "outputs": [],
   "source": [
    "show(c)"
   ]
  },
  {
   "cell_type": "code",
   "execution_count": null,
   "metadata": {},
   "outputs": [],
   "source": [
    "c1 = c[0][0].rhs()\n",
    "show(c1)"
   ]
  },
  {
   "cell_type": "code",
   "execution_count": null,
   "metadata": {},
   "outputs": [],
   "source": [
    "var('k')\n",
    "fk = c1 * l1 ^ k\n",
    "show(fk.full_simplify())"
   ]
  },
  {
   "cell_type": "code",
   "execution_count": null,
   "metadata": {},
   "outputs": [],
   "source": [
    "fk.subs(k=10).n(digits=10)"
   ]
  },
  {
   "cell_type": "code",
   "execution_count": null,
   "metadata": {},
   "outputs": [],
   "source": [
    "fk_0 = 0\n",
    "fk_1 = 1\n",
    "\n",
    "for k in range(20):\n",
    "    print(\"Fibonacci(\", k, \") = \", fk.subs(k=k).n(digits=5), \"  Supposed to be\", fk_0)\n",
    "    fk_ = fk_1\n",
    "    fk_1 += fk_0\n",
    "    fk_0 = fk_"
   ]
  },
  {
   "cell_type": "code",
   "execution_count": null,
   "metadata": {},
   "outputs": [],
   "source": []
  }
 ],
 "metadata": {
  "kernelspec": {
   "display_name": "SageMath 9.1",
   "language": "sage",
   "name": "sagemath"
  },
  "language_info": {
   "codemirror_mode": {
    "name": "ipython",
    "version": 3
   },
   "file_extension": ".py",
   "mimetype": "text/x-python",
   "name": "python",
   "nbconvert_exporter": "python",
   "pygments_lexer": "ipython3",
   "version": "3.7.3"
  }
 },
 "nbformat": 4,
 "nbformat_minor": 2
}
