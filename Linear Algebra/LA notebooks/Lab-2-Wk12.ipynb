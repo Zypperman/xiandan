{
 "cells": [
  {
   "cell_type": "markdown",
   "metadata": {},
   "source": [
    "# Migration Example\n",
    "## Objectives\n",
    "* Define a Markov Matrix M and vector x0\n",
    "* Find its eigenvalues and vectors\n",
    "* Try Power Iteration \n",
    "  - Find the eigenvector\n",
    "  - Find the steady State\n",
    "  \n",
    "## Points to Ponder\n",
    "- A square matrix, with non-negative elements is called a **Markov** matrix if the elements in each column sum to one\n",
    "- It is also **column-stochastic** if the elements in each column sum to one\n",
    "- Every Markov matrix has 1 as an eigenvalue. Why?\n",
    "- *Hints:*\n",
    "    - Just write down the eigenvalue matrix equation and you will see it immediately\n",
    "    - Formal proof in the textbook\n",
    "- There is a **row-stochastic** matrix (which is the transpose of a **column-stochastic** matrix) with row elements adding up to one\n",
    "    - It clearly has an eigenvector (a *right* eigenvector) with eigenvalue 1\n",
    "- What is the relationship between the eigenvectors of transposes?\n",
    "    - What are the **left** and **right** eigenvectors?\n",
    "    - Try this [webpage](https://www.quora.com/Is-there-a-relationship-between-the-eigenvectors-of-a-matrix-and-its-transpose)"
   ]
  },
  {
   "cell_type": "code",
   "execution_count": null,
   "metadata": {},
   "outputs": [],
   "source": [
    "# Markov Matrix \n",
    "M100 = matrix(QQ, [[80,4,5,5],[10,90,7,8],[3,1,75,2],[7,5,13,85]])\n",
    "M = M100/100\n",
    "print(\" A B C D E\")\n",
    "print(M)"
   ]
  },
  {
   "cell_type": "markdown",
   "metadata": {},
   "source": [
    "## Compute using $\\boldsymbol{x_{k+1} = Ax_{k}}$"
   ]
  },
  {
   "cell_type": "code",
   "execution_count": null,
   "metadata": {},
   "outputs": [],
   "source": [
    "# To print matrices and vectors with lower precision\n",
    "CC10 = ComplexField(prec = 15)\n",
    "MatPrint = MatrixSpace(CC10, 4, 4)\n",
    "VecPrint = VectorSpace(CC10, 4)\n",
    "VecPrint2 = VectorSpace(CC10, 2)"
   ]
  },
  {
   "cell_type": "markdown",
   "metadata": {},
   "source": [
    "## Compute using eigenvalues, eigenvectors"
   ]
  },
  {
   "cell_type": "code",
   "execution_count": null,
   "metadata": {},
   "outputs": [],
   "source": [
    "# First Computation\n",
    "# Starting from the given initial populations\n",
    "print(\"Markov Matrix M: \")\n",
    "show(M)\n",
    "\n",
    "x0 = vector(RR, [4.68,1.2,1.34,0.75])\n",
    "print (\"Initial Populations:\")\n",
    "show(VecPrint(x0))\n",
    "\n",
    "x = x0\n",
    "\n",
    "for i in range(0,100):\n",
    "    x = M * x\n",
    "    if (i%25 == 0):\n",
    "        print (\"  Iteration: \", i)\n",
    "        show(VecPrint(x))\n",
    "\n",
    "# Save the final populastions\n",
    "xk = x"
   ]
  },
  {
   "cell_type": "code",
   "execution_count": null,
   "metadata": {
    "scrolled": false
   },
   "outputs": [],
   "source": [
    "# Second Computation\n",
    "# Starting from a random intial population: All equal to 1/4 of the total in First Computation\n",
    "print(\"Markov Matrix M: \")\n",
    "show(M)\n",
    "\n",
    "x1 = vector(RR, [1,1,1,1]) * sum(x0) / 4\n",
    "print (\"Initial Populations:\")\n",
    "show(VecPrint(x0))\n",
    "\n",
    "x = x1\n",
    "\n",
    "for i in range(0,100):\n",
    "    x = M * x\n",
    "    if (i%25 == 0):\n",
    "        print (\"  Iteration: \", i)\n",
    "        show(VecPrint(x))\n",
    "\n",
    "# Save the final populastions\n",
    "xk1 = x\n",
    "\n",
    "# Did the converge to the same steady state?\n",
    "print(\"Is xk == xk1?\", VecPrint(xk) == VecPrint(xk1))\n"
   ]
  },
  {
   "cell_type": "code",
   "execution_count": null,
   "metadata": {
    "scrolled": false
   },
   "outputs": [],
   "source": [
    "print (\"Eigenvalues of M:\")\n",
    "show(VecPrint(M.eigenvalues()))\n",
    "\n",
    "pretty_print(html(\"<b>Every Markov matrix has 1 as an eigenvalue</b>\"))\n",
    "\n",
    "# Compute eigenmatrix which contains both eignevalues and eigenvectors\n",
    "# Can retrieve eigenvalues and eigenvectors from eigenmatrix_right\n",
    "Lambda, S = M.eigenmatrix_right()\n",
    "\n",
    "print (\"Eigenvalues: \")\n",
    "show(MatPrint(Lambda))\n",
    "\n",
    "print (\"Eigenvectors: \")\n",
    "show(MatPrint(S))"
   ]
  },
  {
   "cell_type": "markdown",
   "metadata": {},
   "source": [
    "- $s$ is the first eigenvector (with eigenvalue = 1)\n",
    "- But we need to normalize it so that the sum is the total initial population"
   ]
  },
  {
   "cell_type": "code",
   "execution_count": null,
   "metadata": {},
   "outputs": [],
   "source": [
    "s = vector(S[:,0])\n",
    "xk2 = s/sum(s) * sum(x0)\n",
    "show(VecPrint(xk2))\n",
    "\n",
    "# Is it the same as the previous computations?\n",
    "print(\"Is xk == xk2?\", VecPrint(xk) == VecPrint(xk2))"
   ]
  },
  {
   "cell_type": "code",
   "execution_count": null,
   "metadata": {},
   "outputs": [],
   "source": [
    "# Compare r_iterative and r_eigen\n",
    "x_diff = xk - xk2\n",
    "print (\"Difference between Iterative and Exact methods: \", round(x_diff.norm(),4))\n",
    "print (\"Relative Difference: \", round(x_diff.norm() / xk1.norm() * 100, 2), \"%\")"
   ]
  },
  {
   "cell_type": "code",
   "execution_count": null,
   "metadata": {},
   "outputs": [],
   "source": [
    "# Toy migration patterns in the slides\n",
    "# Markov Matrix \n",
    "M1 = matrix(RDF, [[0.95, 0.3],[0.05, 0.7]])\n",
    "print(\"Markov Matrix M1: \")\n",
    "show(M1)\n",
    "\n",
    "x0 = vector([2, 5])\n",
    "print (\"Initial Populations:\")\n",
    "show(x0)\n",
    "\n",
    "x = x0\n",
    "\n",
    "for i in range(0,100):\n",
    "    if (i%25 == 0 or i<3):\n",
    "        print (\"  Iteration: \", i)\n",
    "        show(VecPrint2(x))\n",
    "    x = M1 * x\n",
    "\n",
    "# Save the final populastions\n",
    "xk = x"
   ]
  },
  {
   "cell_type": "code",
   "execution_count": null,
   "metadata": {},
   "outputs": [],
   "source": [
    "M2 = matrix(QQ, [[19/20, 3/10],[1/20, 7/10]])\n",
    "Lambda, S = M2.eigenmatrix_right()\n",
    "\n",
    "print (\"Eigenvalues: \")\n",
    "show(Lambda)\n",
    "\n",
    "print (\"Eigenvectors: \")\n",
    "show(S)"
   ]
  },
  {
   "cell_type": "code",
   "execution_count": null,
   "metadata": {},
   "outputs": [],
   "source": [
    "x = vector(S[:,0])\n",
    "x = x/sum(x) * sum(x0)\n",
    "show(x)"
   ]
  },
  {
   "cell_type": "code",
   "execution_count": null,
   "metadata": {},
   "outputs": [],
   "source": []
  }
 ],
 "metadata": {
  "kernelspec": {
   "display_name": "SageMath 9.1",
   "language": "sage",
   "name": "sagemath"
  },
  "language_info": {
   "codemirror_mode": {
    "name": "ipython",
    "version": 3
   },
   "file_extension": ".py",
   "mimetype": "text/x-python",
   "name": "python",
   "nbconvert_exporter": "python",
   "pygments_lexer": "ipython3",
   "version": "3.7.3"
  }
 },
 "nbformat": 4,
 "nbformat_minor": 1
}
