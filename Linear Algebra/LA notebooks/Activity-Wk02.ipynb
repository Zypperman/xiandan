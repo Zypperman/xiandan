{
 "cells": [
  {
   "cell_type": "markdown",
   "metadata": {},
   "source": [
    "# Activity-Wk2 \n",
    "## Objectives\n",
    "- Today, we saw Vectors and Matrices.\n",
    "- In this lab we will try  __Vector and Matrix Operations__.\n",
    "- We will see how these concepts can be applied in **Image Morphing**.\n",
    "\n",
    "## Topics\n",
    "1. ### Vector Operations\n",
    "    - Addition\n",
    "    - Subtraction\n",
    "    - Scaling\n",
    "    - Dot / Inner Product\n",
    "    - Cross / Vector Product\n",
    "2. ### Matrix Operations\n",
    "    - Addition\n",
    "    - Subtraction\n",
    "    - Scaling\n",
    "    - Multiplication\n",
    "        - Regular way: Element-wise\n",
    "        - Column Picture\n",
    "        - Row Picture\n",
    "        - Using \"Blocks\" \n",
    "3. ### Random Matrices\n",
    "    - Set random number seed (optionally)\n",
    "    - Check multiplication conformity\n",
    "    - See how Sage selects the best possible field (the smallest possible one)\n",
    "4. ### Image Morphing (Separate Lab)\n",
    "    - Open `Lab-Wk2.ipynb`"
   ]
  },
  {
   "cell_type": "markdown",
   "metadata": {},
   "source": [
    "## 1. Vector Operations\n",
    "- To be able to add or subtract two vectors, both the vectors should be of same size."
   ]
  },
  {
   "cell_type": "markdown",
   "metadata": {},
   "source": [
    "### Vector Addition"
   ]
  },
  {
   "cell_type": "code",
   "execution_count": null,
   "metadata": {},
   "outputs": [],
   "source": [
    "v1 = vector(QQ, 3, [0,1,2])\n",
    "print(\"v1:    \" , v1)\n",
    "v2 = vector(QQ, 3, [1,2,3])\n",
    "print(\"v2:    \" , v2)\n",
    "print(\"v1+v2: \", v1+v2)"
   ]
  },
  {
   "cell_type": "markdown",
   "metadata": {},
   "source": [
    "### Vector Subtraction"
   ]
  },
  {
   "cell_type": "code",
   "execution_count": null,
   "metadata": {},
   "outputs": [],
   "source": [
    "v1 = vector(QQ, 3, [0,1,2])\n",
    "print(\"v1:    \" , v1)\n",
    "v2 = vector(QQ, 3, [1,2,3])\n",
    "print(\"v2:    \" , v2)\n",
    "print(\"v1-v2: \", v1-v2)"
   ]
  },
  {
   "cell_type": "markdown",
   "metadata": {},
   "source": [
    "### Vector scaling"
   ]
  },
  {
   "cell_type": "code",
   "execution_count": null,
   "metadata": {},
   "outputs": [],
   "source": [
    "v1 = vector(QQ, 3, [0,1,2])\n",
    "s  = 2\n",
    "print(\"v1 * s: \", v1 * s)"
   ]
  },
  {
   "cell_type": "markdown",
   "metadata": {},
   "source": [
    "### Vector: Dot Product / Inner Product\n",
    "- Output is a scalar"
   ]
  },
  {
   "cell_type": "code",
   "execution_count": null,
   "metadata": {},
   "outputs": [],
   "source": [
    "v1 = vector(QQ, 2, [2,1])\n",
    "print(\"v1:    \" , v1)\n",
    "v2 = vector(QQ, 2, [1,2])\n",
    "print(\"v2:    \" , v2)\n",
    "dt = v1.dot_product(v2)\n",
    "print(\"Dot Product:   \", dt)\n",
    "inr = v1.inner_product(v2)\n",
    "print(\"Inner Product: \", inr)\n",
    "print(\"v1 * v2:       \",v1*v2)"
   ]
  },
  {
   "cell_type": "markdown",
   "metadata": {},
   "source": [
    "### Vector: Cross Product / Vector Product\n",
    "- Output is a vector and hence it is called a cross product or vector product\n",
    "- Not commonly used in Computer Science"
   ]
  },
  {
   "cell_type": "code",
   "execution_count": null,
   "metadata": {},
   "outputs": [],
   "source": [
    "v1 = vector(QQ, 3, [2,3,4])\n",
    "print(\"v1:    \" , v1)\n",
    "v2 = vector(QQ, 3, [5,6,7])\n",
    "print(\"v2:    \" , v2)\n",
    "cp = v1.cross_product(v2)\n",
    "print(\"Cross Product: \", cp)"
   ]
  },
  {
   "cell_type": "markdown",
   "metadata": {},
   "source": [
    "## 2. Matrix Operations\n",
    "- When adding or subtracting the matrices, they should be of same size\n",
    "    - Addition\n",
    "    - Subtraction\n",
    "    - Scaling"
   ]
  },
  {
   "cell_type": "code",
   "execution_count": null,
   "metadata": {},
   "outputs": [],
   "source": [
    "A = matrix(QQ, [[0,1], [1,0]])\n",
    "B = matrix(QQ, [[2,0], [1,3]])\n",
    "print(\"A:\")\n",
    "print(A)\n",
    "print(\"\")\n",
    "print(\"B:\")\n",
    "print(B)\n",
    "print(\"\")\n",
    "\n",
    "# Matrix Addition\n",
    "print(\"Matrix Addition: \")\n",
    "print(A+B)\n",
    "print(\"\")\n",
    "\n",
    "# Matrix Subtraction\n",
    "print(\"Matrix Subraction: \")\n",
    "print(A-B)\n",
    "print(\"\")\n",
    "\n",
    "# Matrix Scaling\n",
    "print(\"Matrix Scaling:\")\n",
    "print(2*A)\n",
    "print(\"\")"
   ]
  },
  {
   "cell_type": "markdown",
   "metadata": {},
   "source": [
    "### Matrix Multiplication: Regular way (Element-wise)"
   ]
  },
  {
   "cell_type": "code",
   "execution_count": null,
   "metadata": {},
   "outputs": [],
   "source": [
    "A = matrix(QQ, 3, 4, [7,1,1,4,5,8,0,7,6,9,2,5])\n",
    "B = matrix(QQ, 4,1,[3,5,2,7])\n",
    "print(\"A:\")\n",
    "print(A)\n",
    "print(\"\")\n",
    "print(\"B:\")\n",
    "print(B)\n",
    "print(\"\")\n",
    "\n",
    "# Regular way\n",
    "print(\"Regular way, A*B:\")\n",
    "print(A*B)\n",
    "print(\"\")\n",
    "\n",
    "# print(\"B*A : Note that B*A is not same as A*B:\")\n",
    "# print(B*A)  # Do you see any error? Why?\n"
   ]
  },
  {
   "cell_type": "markdown",
   "metadata": {},
   "source": [
    "### Matrix Multiplication: Column Picture"
   ]
  },
  {
   "cell_type": "code",
   "execution_count": null,
   "metadata": {},
   "outputs": [],
   "source": [
    "A = matrix(QQ, 3, 4, [7,1,1,4,5,8,0,7,6,9,2,5])\n",
    "B = matrix(QQ, 4,1,[3,5,2,7])\n",
    "\n",
    "print(\"A: \")\n",
    "print(A)\n",
    "print(\"\")\n",
    "print(\"B: \")\n",
    "print(B) \n",
    "print(\"\")\n",
    "\n",
    "# Calculate the product using a column combination\n",
    "# 𝐴*B = 3𝑐1 + 5𝑐2 + 2𝑐3 + 7𝑐4\n",
    "\n",
    "output = B[0,0]*A.column(0) + B[1][0]*A.column(1) + B[2][0]*A.column(2) + B[3][0]*A.column(3)\n",
    "print(\"A*B = B1*C1 + B2*C2 + B3*C3 + B4*C4:\")\n",
    "print(output)\n",
    "print(\"\")\n",
    "print(\"Note: When we see commas within a row, it implies that it is a column\")\n",
    "print(\"\")\n",
    "\n",
    "# As the above 'output' is printed in a vector format, we can construct a matrix from it as below.\n",
    "# The 'output' vector is passed as input to the matrix function\n",
    "\n",
    "print(\"Output in a matrix form:\")\n",
    "output_matrix = matrix(QQ,A.nrows(),B.ncols(),output)\n",
    "print(output_matrix)\n"
   ]
  },
  {
   "cell_type": "markdown",
   "metadata": {},
   "source": [
    "### Matrix Multiplication: Row Picture"
   ]
  },
  {
   "cell_type": "code",
   "execution_count": null,
   "metadata": {},
   "outputs": [],
   "source": [
    "A = matrix(QQ, 1, 4, [7,1,1,4])\n",
    "B = matrix(QQ, 4, 2, [[3,4],[5,1],[2,3],[7,2]])\n",
    "\n",
    "\n",
    "print(\"A: \")\n",
    "print(A)\n",
    "print(\"\")\n",
    "print(\"B: \")\n",
    "print(B) \n",
    "print(\"\")\n",
    "\n",
    "# Calculate the product using a row combination\n",
    "# 𝐴*B = 7𝑟1 + 𝑟2 + 𝑟3 + 4𝑟4]\n",
    "\n",
    "output = A[0,0]*B.row(0) + A[0][1]*B.row(1) + A[0][2]*B.row(2) + A[0][3]*B.row(3)\n",
    "print(\"A*B = A1*r1 + A2*r2 + A3*r3 + A4*r4:\")\n",
    "print(output)\n",
    "print(\"\")\n",
    "\n",
    "# As the above 'output' is printed in a vector format, we can construct a matrix from it as below.\n",
    "# The 'output' vector is passed as input to the matrix function\n",
    "\n",
    "print(\"Output matrix:\")\n",
    "output_matrix = matrix(QQ,A.nrows(),B.ncols(),output)\n",
    "print(output_matrix)\n",
    "print(\"\")\n",
    "\n",
    "print(\"Directly calculating A*B: \")\n",
    "print(A*B)\n",
    "\n"
   ]
  },
  {
   "cell_type": "markdown",
   "metadata": {},
   "source": [
    "### Sub Matrices or Blocks\n",
    "- As the matrices get bigger, it might be easier to visualize if we break them into smaller paritions\n",
    "- These smaller partitions are called blocks or submatrices"
   ]
  },
  {
   "cell_type": "code",
   "execution_count": null,
   "metadata": {},
   "outputs": [],
   "source": [
    "A = matrix(QQ,[[1,2,0,1],[0,1,1,0],[1,0,0,1]])\n",
    "print(\"A:\")\n",
    "print(A)\n",
    "print(\"\")\n",
    "\n",
    "# Subdivide the matrix A\n",
    "A.subdivide(2,3)\n",
    "print(\"Subdivided A:\")\n",
    "print(A)\n",
    "print(\"\")"
   ]
  },
  {
   "cell_type": "markdown",
   "metadata": {},
   "source": [
    "- We can also a build a bigger matrix from smaller matrices"
   ]
  },
  {
   "cell_type": "code",
   "execution_count": null,
   "metadata": {},
   "outputs": [],
   "source": [
    "\n",
    "# Let's build a matrix from sub matrices - A, B, C, D, E\n",
    "A = matrix(QQ,[[1,0],[0,1]])\n",
    "print(\"A:\")\n",
    "print(A)\n",
    "print(\"\")\n",
    "B = matrix(QQ,[[0,1],[1,0]])\n",
    "print(\"B:\")\n",
    "print(B)\n",
    "print(\"\")\n",
    "C = matrix(QQ,[[2],[3]])\n",
    "print(\"C:\")\n",
    "print(C)\n",
    "print(\"\")\n",
    "D = matrix(QQ, [2,4])\n",
    "print(\"D:\")\n",
    "print(D)\n",
    "print(\"\")\n",
    "E = matrix(QQ, [5])\n",
    "print(\"E:\")\n",
    "print(E)\n",
    "print(\"\")\n",
    "\n",
    "# Constructing block matrix\n",
    "blk_matrix = block_matrix([[(A+B),C],[D,E]], subdivide=True)\n",
    "print(\"Block matrix: [[(A+B),C],[D,E]]\")\n",
    "print(blk_matrix)"
   ]
  },
  {
   "cell_type": "markdown",
   "metadata": {},
   "source": [
    "### Block-wise Matrix Multiplication\n",
    "- When multiplying, the conformity (row and column counts) requirements apply to *each* block"
   ]
  },
  {
   "cell_type": "code",
   "execution_count": null,
   "metadata": {},
   "outputs": [],
   "source": [
    "A = matrix(QQ,[[1,2,0,1],[0,1,1,0],[1,0,0,1],[0,1,2,0]])\n",
    "print(\"A:\")\n",
    "print(A)\n",
    "print(\"\")\n",
    "B = matrix(QQ,[[0,1,0,5],[2,1,1,2],[1,0,0,1],[0,1,2,0]])\n",
    "print(\"B\")\n",
    "print(B)\n",
    "print(\"\")\n",
    "\n",
    "# Partition A into smaller blocks\n",
    "A.subdivide(2,2)\n",
    "print(\"Subdivided A:\")\n",
    "print(A)\n",
    "print(\"\")\n",
    "\n",
    "# Partition B into smaller blocks\n",
    "B.subdivide(2,2)\n",
    "print(\"Subdivided B:\")\n",
    "print(B)\n",
    "print(\"\")\n"
   ]
  },
  {
   "cell_type": "code",
   "execution_count": null,
   "metadata": {},
   "outputs": [],
   "source": [
    "var('A1, A2, A3, A4, B1, B2, B3, B4')\n",
    "# Subdivided matrices are of the form\n",
    "subdividedA = matrix(2, 2, [A1, A2, A3, A4])\n",
    "print(\"Subdivided A is of the format:\")\n",
    "print(subdividedA)\n",
    "print(\"\")\n",
    "\n",
    "subdividedB = matrix(2, 2, [B1, B2, B3, B4])\n",
    "print(\"Subdivided B is of the format:\")\n",
    "print(subdividedB)\n",
    "print(\"\")"
   ]
  },
  {
   "cell_type": "code",
   "execution_count": null,
   "metadata": {},
   "outputs": [],
   "source": [
    "# Now we can get the product, A*B by multiplying these blocks as below\n",
    "# [A1*B1+A2*B3 A1*B2+A2*B4]\n",
    "# [A3*B1+A4*B3 A3*B2+A4*B4]\n",
    "\n",
    "# Extract the sub divisions of A, B\n",
    "A1 = A.subdivision(0,0)\n",
    "A2 = A.subdivision(0,1)\n",
    "A3 = A.subdivision(1,0)\n",
    "A4 = A.subdivision(1,1)\n",
    "\n",
    "B1 = B.subdivision(0,0)\n",
    "B2 = B.subdivision(0,1)\n",
    "B3 = B.subdivision(1,0)\n",
    "B4 = B.subdivision(1,1)\n",
    "\n",
    "# print(\"A1:\")\n",
    "# print(A1)\n",
    "# print(\"\")\n",
    "\n",
    "# print(\"B1:\")\n",
    "# print(B1)\n",
    "# print(\"\")\n",
    "\n",
    "# Calculate the product of the blocks\n",
    "\n",
    "print(\"A1*B1 + A2*B3:\")\n",
    "print(A1*B1 + A2*B3)\n",
    "print(\"\")\n",
    "\n",
    "print(\"A1*B2 + A2*B4:\")\n",
    "print(A1*B2 + A2*B4)\n",
    "print(\"\")\n",
    "\n",
    "print(\"A3*B1 + A4*B3:\")\n",
    "print(A3*B1 + A4*B3)\n",
    "print(\"\")\n",
    "\n",
    "print(\"A3*B2 + A4*B4\")\n",
    "print(A3*B2 + A4 *B4)\n",
    "print(\"\")\n",
    "\n",
    "\n",
    "# Calculate A*B and we will see that the first quadrant value is same as \n",
    "# A1*B1 + A2*B3. Similarly the other quadrants can be verified. \n",
    "print(\"A*B\")\n",
    "print(A*B)\n",
    "print(\"\")\n",
    "\n",
    "print(\"Note: Each of the quadrants in A*B can be verified from the individual block multiplications\")"
   ]
  },
  {
   "cell_type": "markdown",
   "metadata": {},
   "source": [
    "### Matrix multiplication using blocks (rectangular matrix)"
   ]
  },
  {
   "cell_type": "code",
   "execution_count": null,
   "metadata": {},
   "outputs": [],
   "source": [
    "A = matrix(QQ, [[1, 2, 0, 1], [0, 1, 1, 0], [1, 0, 0, 1]])\n",
    "print(\"A:\")\n",
    "print(A)\n",
    "print(\"\")\n",
    "B = matrix(QQ, [[0, 1], [2, 1], [1, 0], [0, 1]])\n",
    "print(\"B\")\n",
    "print(B)\n",
    "print(\"\")\n",
    "\n",
    "# Partition A into smaller blocks\n",
    "A.subdivide(2, 3)\n",
    "print(\"Subdivided A:\")\n",
    "print(A)\n",
    "print(\"\")\n",
    "\n",
    "# Partition B into smaller blocks\n",
    "B.subdivide(3, 1)\n",
    "print(\"Subdivided B:\")\n",
    "print(B)\n",
    "print(\"\")\n",
    "\n",
    "var('A1, A2, A3, A4, B1, B2, B3, B4')\n",
    "# Subdivided matrices are of the form\n",
    "subdividedA = matrix(2,2,[A1,A2,A3,A4])\n",
    "print(\"Subdivided A is of the format:\")\n",
    "print(subdividedA)\n",
    "print(\"\")\n",
    "\n",
    "subdividedB = matrix(2, 2, [B1, B2, B3, B4])\n",
    "print(\"Subdivided B is of the format:\")\n",
    "print(subdividedB)\n",
    "print(\"\")\n",
    "\n",
    "# Extract the sub divisions of X, Y\n",
    "A1 = A.subdivision(0, 0)\n",
    "A2 = A.subdivision(0, 1)\n",
    "A3 = A.subdivision(1, 0)\n",
    "A4 = A.subdivision(1, 1)\n",
    "\n",
    "B1 = B.subdivision(0, 0)\n",
    "B2 = B.subdivision(0, 1)\n",
    "B3 = B.subdivision(1, 0)\n",
    "B4 = B.subdivision(1, 1)\n",
    "\n",
    "# Now we can calculate the product of the blocks\n",
    "\n",
    "print(\"A1*B1 + A2*B3:\")\n",
    "print(A1*B1 + A2*B3)\n",
    "print(\"\")\n",
    "\n",
    "print(\"A1*B2 + A2*B4:\")\n",
    "print(A1*B2 + A2*B4)\n",
    "print(\"\")\n",
    "\n",
    "print(\"A3*B1 + A4*B3:\")\n",
    "print(A3*B1 + A4*B3)\n",
    "print(\"\")\n",
    "\n",
    "print(\"A3*B2 + A4*B4\")\n",
    "print(A3*B2 + A4*B4)\n",
    "print(\"\")\n",
    "\n",
    "\n",
    "# Calculate A * B and we will see that the first quadrant value is same as \n",
    "# A1*B1 + A2*B3. Similarly the other quadrants can be verified. \n",
    "print(\"A * B\")\n",
    "print(A * B)"
   ]
  },
  {
   "cell_type": "markdown",
   "metadata": {},
   "source": [
    "### Multiplication of a matrix with a column vector"
   ]
  },
  {
   "cell_type": "code",
   "execution_count": null,
   "metadata": {},
   "outputs": [],
   "source": [
    "# Multiplication of a matrix with a column vector\n",
    "A = matrix(QQ, [[0,1], [1,0]]) # 2x2 matrix\n",
    "print(\"A:\")\n",
    "print(A)\n",
    "print(\"\")\n",
    "x = vector(QQ, (2,1)) #column vector\n",
    "print(\"x:\")\n",
    "print(x) # A column vector but its printed across the screen. We need to understand that its a column vector\n",
    "print(\"\")\n",
    "\n",
    "print(\"A * x:\")\n",
    "product = A * x\n",
    "print(product) # Output is column vector\n",
    "print(\"\")\n",
    "\n",
    "B = matrix(2,1,product) # To convert product(A*x) to a 2*1 matrix\n",
    "print(\"A * x:\")\n",
    "print(B)"
   ]
  },
  {
   "cell_type": "markdown",
   "metadata": {},
   "source": [
    "## 3. Random Matrices\n",
    "- Useful to try out ideas\n",
    "- Can set random variable seed for reproducibility\n",
    "- Also useful: Let Sage figure out the field (not for random matrices though)"
   ]
  },
  {
   "cell_type": "code",
   "execution_count": null,
   "metadata": {},
   "outputs": [],
   "source": [
    "# Comment out the following line and we get a differnt set of matrices every time we run this cell\n",
    "set_random_seed(1234)\n",
    "A = random_matrix(QQ, 5,3)\n",
    "B = random_matrix(QQ, 3,7)\n",
    "print(\"A * B: \", A * B)\n",
    "\n",
    "# This multiplication will throw a Type error\n",
    "# print(\"B * A: \", B * A)"
   ]
  },
  {
   "cell_type": "code",
   "execution_count": null,
   "metadata": {},
   "outputs": [],
   "source": [
    "## Sage selects ZZ automatically (a Ring)\n",
    "A = matrix([[1,2], [3,4]])\n",
    "print(A)\n",
    "print(A.matrix_space())\n",
    "\n",
    "## QQ Selected (a Field, not a Ring)\n",
    "A = matrix([[1/2,2], [3,4]])\n",
    "print(A)\n",
    "print(A.matrix_space())\n",
    "\n",
    "# RR Selected (a Field)\n",
    "A = matrix([[1.0,2], [3,4]])\n",
    "print(A)\n",
    "print(A.matrix_space())"
   ]
  }
 ],
 "metadata": {
  "kernelspec": {
   "display_name": "SageMath 9.1",
   "language": "sage",
   "name": "sagemath"
  },
  "language_info": {
   "codemirror_mode": {
    "name": "ipython",
    "version": 3
   },
   "file_extension": ".py",
   "mimetype": "text/x-python",
   "name": "python",
   "nbconvert_exporter": "python",
   "pygments_lexer": "ipython3",
   "version": "3.7.3"
  }
 },
 "nbformat": 4,
 "nbformat_minor": 1
}
