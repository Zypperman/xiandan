{
 "cells": [
  {
   "cell_type": "markdown",
   "metadata": {},
   "source": [
    "# SageMath for Linear Algebra\n",
    "- **SageMath** (or \"Sage\" for short) is an open-source alternative to popular softwares like Matlab.\n",
    "- It is based on the programming language **Python**. \n",
    "- We will get familiar with **Python** along the way as we use **SageMath**\n",
    "- Let's first learn some **Python** using **SageMath** \n",
    "\n",
    "## Topics\n",
    "1. ### General Help\n",
    "    - `Tab` key: Completion \n",
    "    - Comments: `#`\n",
    "    - Getting Help: `?`\n",
    "1. ### Basic Python Programming\n",
    "    - Print \n",
    "    - Simple Mathematic operations\n",
    "    - *Variables* \n",
    "    - *Functions* (or *methods*) on *objects*\n",
    "1. ### Linear Algebra Operations\n",
    "    - Vectors \n",
    "    - Matrices \n",
    "    - Fields, Rings and Groups (optional)\n",
    "1. ### System of Linear Equations \n",
    "    - How to construct equations\n",
    "    - Multiple ways of solving them"
   ]
  },
  {
   "cell_type": "markdown",
   "metadata": {},
   "source": [
    "## 1. General Help\n",
    "- Pressing `Tab` will help to complete the function name \n",
    "- Pressing `Shift + Enter` will evaluate the cells\n",
    "- Lines that start with a `#` in front imply that those are comments\n",
    "- We can have comments in our code to explain our code"
   ]
  },
  {
   "cell_type": "code",
   "execution_count": null,
   "metadata": {},
   "outputs": [],
   "source": [
    "# Type in \"prin\" and press Tab to see the completions\n",
    "\n",
    "\n",
    "# Try \"m\" and Tab. Then type in \"a\", \"t\", \"r\" to see the type-ahead or \"incremental\" search\n"
   ]
  },
  {
   "cell_type": "markdown",
   "metadata": {},
   "source": [
    "### Getting Help\n",
    "- We can access the Sage's built-in documentation by typing the name of a function followed by a question mark"
   ]
  },
  {
   "cell_type": "code",
   "execution_count": null,
   "metadata": {},
   "outputs": [],
   "source": [
    "matrix?"
   ]
  },
  {
   "cell_type": "markdown",
   "metadata": {},
   "source": [
    "## 2. Basic Python Programming\n",
    " - `print()`\n",
    " - `pretty_print()` or `show()`: Useful in displaying matrices or vectors\n",
    " - `latex()`: To create output that can be pasted in documents"
   ]
  },
  {
   "cell_type": "code",
   "execution_count": null,
   "metadata": {},
   "outputs": [],
   "source": [
    "print(\"Hello World\")"
   ]
  },
  {
   "cell_type": "code",
   "execution_count": null,
   "metadata": {},
   "outputs": [],
   "source": [
    "pretty_print(\"Hello World\")\n",
    "show(\"Hello World\")"
   ]
  },
  {
   "cell_type": "markdown",
   "metadata": {},
   "source": [
    "### Simple mathematic operations\n",
    "- Sage provides all of the basic mathematical operations"
   ]
  },
  {
   "cell_type": "code",
   "execution_count": null,
   "metadata": {},
   "outputs": [],
   "source": [
    "2 + 3"
   ]
  },
  {
   "cell_type": "code",
   "execution_count": null,
   "metadata": {},
   "outputs": [],
   "source": [
    "(50*2 + 40) / 2"
   ]
  },
  {
   "cell_type": "code",
   "execution_count": null,
   "metadata": {},
   "outputs": [],
   "source": [
    "4^3"
   ]
  },
  {
   "cell_type": "markdown",
   "metadata": {},
   "source": [
    "### Variables:\n",
    "- Variables store values.\n",
    "- In some programming languages we will need to declare the *type* of the variable - Ex: `Integer`, `String`.\n",
    "- But **Python** can deduce the type of the variable based on what we store in it.\n",
    "- When we __assign a value to a variable__, `a` - it means that `a` is the name of the __location__ in the computer memory to hold the values.\n",
    "- When we are writing an __equation with variables__ (Ex: $2x + y = 10$), the variables $x$ and $y$ don't have a fixed value and they are not tied to a location. Such variables are called __Symbolic Variables__."
   ]
  },
  {
   "cell_type": "code",
   "execution_count": null,
   "metadata": {},
   "outputs": [],
   "source": [
    "a = 100 # here, \"a\" is the name of the location holding the value 100\n",
    "b = 20\n",
    "print(2*a + b)\n",
    "print(type(a)) # Ignore 'sage.rings.integer.' part for now"
   ]
  },
  {
   "cell_type": "code",
   "execution_count": null,
   "metadata": {},
   "outputs": [],
   "source": [
    "var('x','y') # symbolic variables - x, y\n",
    "print(2*x + y)\n",
    "show(2*x + y) # display (pretty_print())"
   ]
  },
  {
   "cell_type": "code",
   "execution_count": null,
   "metadata": {},
   "outputs": [],
   "source": [
    "a = \"Welcome\"\n",
    "b = \"to\"\n",
    "c = \"Linear Algebra Course\"\n",
    "print(type(a))\n",
    "print(\"\")\n",
    "print(a + \" \" + b + \" \" + c)\n",
    "print(\"\")"
   ]
  },
  {
   "cell_type": "markdown",
   "metadata": {},
   "source": [
    "### Objects\n",
    "- In the above examples `a`, `b` and `c` are objects (so are *all* variables)\n",
    "- We can perform more operations (*functions* or *methods*) on objects by accessing them as `a.` (by typing in a dot after the object name) etc.\n",
    "- Hit the `Tab` key to see all possible completions (with type-ahead search) after the dot."
   ]
  },
  {
   "cell_type": "code",
   "execution_count": null,
   "metadata": {},
   "outputs": [],
   "source": [
    "a = \"linear\"\n",
    "print(a.upper()) # convert to uppercase\n",
    "print(\"\")\n",
    "\n",
    "x = 100.03\n",
    "print(x.ceil()) # compute the ceiling\n",
    "print(x.round())"
   ]
  },
  {
   "cell_type": "markdown",
   "metadata": {},
   "source": [
    "## 3. Linear Algebra Operations\n",
    "### Notation of collections in Sage: (Referred to as \"Rings\")\n",
    "  - Ring of Integers $\\{\\cdots,−1,0,1,2,\\cdots\\}$, called **`ZZ`**\n",
    "  - Ring of Rational numbers – i.e., fractions, or ratios, of integers – called **`QQ`**\n",
    "  - Ring of Real numbers, called **`RR`** (ring) or **`RDF`** (field)\n",
    "  - Ring of complex numbers, called **`CC`** (ring) or **`CDF`** (field)\n",
    "\n",
    "#### Would you like to know more about Fields, Rings and Groups?\n",
    " -  More information (almost optional) available on eLearn, Content $\\to$ Session 02 $\\to$ LA4CS-Chapter02 (as a box in the chapter).\n",
    " - Even more information (optional) at [Math Online](http://mathonline.wikidot.com/algebraic-structures-fields-rings-and-groups) page. \n",
    " - Still want more? (Definitely optional): [Semantic Scholar](https://pdfs.semanticscholar.org/a403/5debc9f99264d911754caac93e43dcb58085.pdf)"
   ]
  },
  {
   "cell_type": "markdown",
   "metadata": {},
   "source": [
    "### Vectors\n",
    "- In Linear Algebra, we think of Vectors as column vectors, or a column of numbers.\n",
    "- **SageMath** also considers them that way, but prints them out as a row, but with commas between elements."
   ]
  },
  {
   "cell_type": "code",
   "execution_count": null,
   "metadata": {
    "scrolled": true
   },
   "outputs": [],
   "source": [
    "# Notice the arguments in constructing a vector: Ring, num-elements, list of elements\n",
    "v = vector(QQ, 3, [3, 6, 1/2]) \n",
    "print(v) # notice the commas\n",
    "show(v) # notice the commas"
   ]
  },
  {
   "cell_type": "code",
   "execution_count": null,
   "metadata": {},
   "outputs": [],
   "source": [
    "# We don't have to specify the Ring and the number of elements. Sage can guess!\n",
    "v1 = vector([3, 6, 1/2])\n",
    "print(type(v1), v1)\n",
    "show(\"Type of v1 is: \",  type(v1))\n",
    "show(\"v1 is \", v1)\n",
    "v2 = vector([3, 6, 0.5])\n",
    "print(type(v2), v2)\n",
    "show(\"Type of v2 is: \",  type(v2))\n",
    "show(\"v2 is \", v2)"
   ]
  },
  {
   "cell_type": "markdown",
   "metadata": {},
   "source": [
    "### Matrices"
   ]
  },
  {
   "cell_type": "code",
   "execution_count": null,
   "metadata": {},
   "outputs": [],
   "source": [
    "m = matrix([[3,-1,2], [-4,-1,0]]) # Ring QQ is \n",
    "print(m)\n",
    "m1 = matrix(QQ,[[3,-1,2], [-4,-1,0]])\n",
    "show(m1)"
   ]
  },
  {
   "cell_type": "markdown",
   "metadata": {},
   "source": [
    "## 4. Linear Equations\n",
    "### Constructing equations\n",
    "- To write (construct) equations in **SageMath**, we must use `==` (*not* `=`)\n",
    "- Multiplication has to be specified by `*`. Ex: `2*x` (*not* `2x`)"
   ]
  },
  {
   "cell_type": "code",
   "execution_count": null,
   "metadata": {},
   "outputs": [],
   "source": [
    "# First specify that x and y are symbolic variables\n",
    "x, y = var('x, y') \n",
    "# Construct an equation\n",
    "eq1 = x + y == 100\n",
    "# display it\n",
    "print(eq1)\n",
    "show(eq1) # pretty print it"
   ]
  },
  {
   "cell_type": "markdown",
   "metadata": {},
   "source": [
    "### Solving a system of linear equations\n",
    "   1. General system solver\n",
    "   1. Using matrices\n",
    "   1. Using *Row Reduced Echelon Form* on *Augmented Matrices*\n",
    "   1. Using *Gaussian Elimination* and *Back substituion*"
   ]
  },
  {
   "cell_type": "markdown",
   "metadata": {},
   "source": [
    "#### 1. Using the builtin `solve()` function\n",
    "Let's first start by using a __general system solver (`solve()`)__"
   ]
  },
  {
   "cell_type": "code",
   "execution_count": null,
   "metadata": {},
   "outputs": [],
   "source": [
    "x, y = var('x, y')\n",
    "solve([x + y == 100, x - y == 10], x, y)"
   ]
  },
  {
   "cell_type": "markdown",
   "metadata": {},
   "source": [
    "#### Epilog: This Lab is a Jupyter notebook\n",
    "If we want to create our own document, here is a [cheat sheet](https://medium.com/ibm-data-science-experience/markdown-for-jupyter-notebooks-cheatsheet-386c05aeebed) that may help.  \n",
    "##### A couple of pointers:\n",
    "   - In order to embed a mathematical formula, we can use the function `latex()`  \n",
    "   - For instance, `latex(A)` (where `A` is a matrix) will generate some text that we can copy and paste in a markdown cell to display the matrix.  \n",
    "   - To get a linebreak, have two spaces at the end of the line."
   ]
  },
  {
   "cell_type": "code",
   "execution_count": null,
   "metadata": {},
   "outputs": [],
   "source": []
  }
 ],
 "metadata": {
  "kernelspec": {
   "display_name": "SageMath 9.2",
   "language": "sage",
   "name": "sagemath"
  },
  "language_info": {
   "codemirror_mode": {
    "name": "ipython",
    "version": 3
   },
   "file_extension": ".py",
   "mimetype": "text/x-python",
   "name": "python",
   "nbconvert_exporter": "python",
   "pygments_lexer": "ipython3",
   "version": "3.7.7"
  }
 },
 "nbformat": 4,
 "nbformat_minor": 1
}
