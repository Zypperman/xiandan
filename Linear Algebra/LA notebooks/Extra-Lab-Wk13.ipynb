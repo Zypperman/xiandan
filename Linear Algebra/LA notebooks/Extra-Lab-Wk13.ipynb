{
 "cells": [
  {
   "cell_type": "markdown",
   "metadata": {},
   "source": [
    "# Extra-Lab-Wk13\n",
    "## Full and Economical SVD and Psuedoinverses\n",
    "* Check if the economical version of SVD can give the right pseudoinverse"
   ]
  },
  {
   "cell_type": "code",
   "execution_count": null,
   "metadata": {
    "scrolled": true
   },
   "outputs": [],
   "source": [
    "# 3x4, rank 2 matrix\n",
    "A = matrix([[2,3,5,7],[11,13,17,19],[2,3,5,7]])\n",
    "# To cast the matrix into RDF with limited precision\n",
    "def roundit(mat, k=3):\n",
    "    dim = mat.dimensions()\n",
    "    l = [[RDF(round(mat[i,j],k)) for j in range(dim[1])] for i in range(dim[0])]\n",
    "    matr = matrix(RDF, l)\n",
    "    return matr\n",
    "                                                 \n",
    "Ardf = roundit(A)\n",
    "show(Ardf)"
   ]
  },
  {
   "cell_type": "code",
   "execution_count": null,
   "metadata": {},
   "outputs": [],
   "source": [
    "# SVD needs RDF matrices\n",
    "U, S, V = Ardf.SVD()\n",
    "show(\"U = \",roundit( U ))\n",
    "show(\"Sigma = \",roundit( S ))\n",
    "show(\"V = \",roundit( V ))\n",
    "\n",
    "# Hatted, economical matrices\n",
    "# U hat = First two (=rank) columns of U\n",
    "Uh = U[[0,1,2],[0,1]]\n",
    "# Sigma hat = 2x2, non-zero part of Sigma\n",
    "Sh = S[[0,1],[0,1]]\n",
    "# V hat = First two (=rank) columns of V\n",
    "Vh = V[[0,1,2,3],[0,1]]\n",
    "\n",
    "show(\"Uh = \", roundit( Uh ))\n",
    "show(\"Sigma h = \",roundit( Sh ))\n",
    "show(\"Vh = \",roundit( Vh ))"
   ]
  },
  {
   "cell_type": "code",
   "execution_count": null,
   "metadata": {
    "scrolled": true
   },
   "outputs": [],
   "source": [
    "Afull = roundit(U * S * V.transpose())\n",
    "show(\"Full SVD: \", Afull)\n",
    "Aeco = roundit(Uh * Sh * Vh.transpose())\n",
    "show(\"Economical SVD: \", Aeco)\n",
    "print(\"Is Full SVD = Economical SVD? \", Afull == Aeco)"
   ]
  },
  {
   "cell_type": "code",
   "execution_count": null,
   "metadata": {},
   "outputs": [],
   "source": [
    "# Psuedoinverse from Sagemath\n",
    "Ai1 = roundit( Ardf.pseudoinverse() )\n",
    "\n",
    "# Construct Sigma inverse\n",
    "Si = copy(S.transpose())\n",
    "Si[0,0] = 1/S[0,0]\n",
    "Si[1,1] = 1/S[1,1]\n",
    "\n",
    "# Psuedoinverse from Full SVD\n",
    "Ai2 = roundit( V * Si * U.transpose() )\n",
    "\n",
    "# Psuedoinverse from Economical SVD\n",
    "Ai3 = roundit( Vh * Sh.inverse() * Uh.transpose() )\n",
    "\n",
    "show(\"Psuedoinverse from Sagemath:\", Ai1 )\n",
    "show(\"Psuedoinverse from Full SVD:\", Ai2 )\n",
    "print(\"Is Psuedoinverse from Full SVD = SageMath version? \", Ai1 == Ai2)\n",
    "show(\"Psuedoinverse from Economical SVD:\", Ai3 )\n",
    "print(\"Is Psuedoinverse from Economical SVD = SageMath version? \", Ai1 == Ai3)"
   ]
  },
  {
   "cell_type": "code",
   "execution_count": null,
   "metadata": {},
   "outputs": [],
   "source": []
  }
 ],
 "metadata": {
  "kernelspec": {
   "display_name": "SageMath 9.1",
   "language": "sage",
   "name": "sagemath"
  },
  "language_info": {
   "codemirror_mode": {
    "name": "ipython",
    "version": 3
   },
   "file_extension": ".py",
   "mimetype": "text/x-python",
   "name": "python",
   "nbconvert_exporter": "python",
   "pygments_lexer": "ipython3",
   "version": "3.7.3"
  }
 },
 "nbformat": 4,
 "nbformat_minor": 1
}
